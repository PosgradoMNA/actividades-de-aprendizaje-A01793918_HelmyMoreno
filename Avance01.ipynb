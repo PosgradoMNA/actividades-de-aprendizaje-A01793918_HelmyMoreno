{
  "nbformat": 4,
  "nbformat_minor": 0,
  "metadata": {
    "colab": {
      "name": "assignment01.ipynb",
      "provenance": [],
      "include_colab_link": true
    },
    "kernelspec": {
      "name": "python3",
      "display_name": "Python 3"
    },
    "language_info": {
      "name": "python"
    }
  },
  "cells": [
    {
      "cell_type": "markdown",
      "metadata": {
        "id": "view-in-github",
        "colab_type": "text"
      },
      "source": [
        "<a href=\"https://colab.research.google.com/github/PosgradoMNA/actividades-de-aprendizaje-A01793918_HelmyMoreno/blob/main/Avance01.ipynb\" target=\"_parent\"><img src=\"https://colab.research.google.com/assets/colab-badge.svg\" alt=\"Open In Colab\"/></a>"
      ]
    },
    {
      "cell_type": "code",
      "execution_count": null,
      "metadata": {
        "id": "LzUSMM79NR9P",
        "outputId": "5e78c9fc-cdbd-4051-d1b1-5de92eaee56c",
        "colab": {
          "base_uri": "https://localhost:8080/"
        }
      },
      "outputs": [
        {
          "output_type": "stream",
          "name": "stdout",
          "text": [
            "¿Qué es Python?\n"
          ]
        }
      ],
      "source": [
        "print('¿Qué es Python?')"
      ]
    },
    {
      "cell_type": "markdown",
      "source": [
        "Es un lenguaje de programación de código abierto, de un alto nivel. Se considera rápido y dinámico, lo cual hace que se estabilice en cualquier parte. Es un lenguaje orientado a objetos. Se puede construir muchos tipos de programas en él, sobre todo aquellos que tienen que ver con visualizaciones de datos.\n",
        "\n",
        "Conceptos a tratar:\n",
        "\n",
        "\n",
        "\n",
        "*   Escribiendo su primer programa\n",
        "*   Tipos\n",
        "*   Expresiones\n",
        "*   Variables\n",
        "*   Cadenas\n",
        "*   Operaciones con cadenas\n",
        "*   Estructuras de datos\n",
        "*   Listas\n",
        "*   Tuplas\n",
        "*   Conjuntos\n",
        "*   Diccionarios\n",
        "\n",
        "Datos Compuestos y los tipos de datos clave:\n",
        "\n",
        "Las listas y las tuplas \n",
        "\n",
        "Estructuras en Python:\n",
        "\n",
        "Colecciones: Los conjuntos y los diccionarios\n",
        "\n",
        "Fundamentos de la programación de Python:\n",
        "\n",
        "*   Condiciones\n",
        "*   Bifurcación\n",
        "*   Bucles\n",
        "*   Funciones y objetos y clases\n",
        "*   Comparación y operadores lógicos\n",
        "*   Las sentencias de las funciones integradas de Python: if, else y elif, bucles for y while,\n",
        "*   Cómo construir sus propias funciones,\n",
        "*   ómo crear objetos y clases usando constructores y atributos de objetos.\n",
        "\n",
        "Cómo trabajar con datos en Python:\n",
        "\n",
        "Específicamente, cómo leer y escribir con el método abierto\n",
        "Cómo cargar, trabajar y guardar datos en pandas.\n"
      ],
      "metadata": {
        "id": "RvEAhpjUKifh"
      }
    },
    {
      "cell_type": "code",
      "source": [
        "print(\"Hello\\nWorld!\")"
      ],
      "metadata": {
        "id": "ju0NjGfoKztw",
        "outputId": "7c104d26-10af-42c2-9955-876d3e305afd",
        "colab": {
          "base_uri": "https://localhost:8080/"
        }
      },
      "execution_count": null,
      "outputs": [
        {
          "output_type": "stream",
          "name": "stdout",
          "text": [
            "Hello\n",
            "World!\n"
          ]
        }
      ]
    },
    {
      "cell_type": "code",
      "source": [
        "# print('Hello World!')"
      ],
      "metadata": {
        "id": "bK5h_p37K23w"
      },
      "execution_count": null,
      "outputs": []
    }
  ]
}