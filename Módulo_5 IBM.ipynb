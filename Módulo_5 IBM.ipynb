{
  "cells": [
    {
      "cell_type": "markdown",
      "metadata": {
        "id": "view-in-github",
        "colab_type": "text"
      },
      "source": [
        "<a href=\"https://colab.research.google.com/github/PosgradoMNA/actividades-de-aprendizaje-A01793918_HelmyMoreno/blob/main/M%C3%B3dulo_5%20IBM.ipynb\" target=\"_parent\"><img src=\"https://colab.research.google.com/assets/colab-badge.svg\" alt=\"Open In Colab\"/></a>"
      ]
    },
    {
      "cell_type": "markdown",
      "source": [
        "<img src=\"https://static.wikia.nocookie.net/tecdemonterrey/images/1/1b/Logo_Tec_azul.png/revision/latest?cb=20190219041656&path-prefix=es\" width=\"230\" />\n",
        "\n",
        "## **Módulo 5 - Modelos de Predicción**\n",
        "\n",
        "\n",
        "----\n",
        "\n",
        "**Datos generales**\n",
        "---\n",
        "**Alumna:**\n",
        "\n",
        "| Nombre | Matrícula del estudiante\n",
        "|---|---|\n",
        "| Helmy Andrea Moreno Navarro | **A01793918** |\n",
        "\n",
        "\n",
        ">**Materia:** Módulo IBM (Gpo 10)\n",
        "\n",
        ">**Profesora Titular:** María de la Paz Rico\n",
        "\n",
        "\n",
        "09 de noviembre 2022"
      ],
      "metadata": {
        "id": "AEFzaLLHfvS2"
      }
    },
    {
      "cell_type": "markdown",
      "metadata": {
        "id": "950RkAlWip2j"
      },
      "source": [
        "\n",
        "#Evaluación y refinamiento del modelo\n",
        "\n",
        "\n",
        "\n",
        "## Objetivos\n",
        "\n",
        "Después de completar este laboratorio, podrá:\n",
        "\n",
        "* Evaluar y refinar el modelo de predicción\n"
      ]
    },
    {
      "cell_type": "markdown",
      "metadata": {
        "id": "U5y6ZfWFip2l"
      },
      "source": [
        "<h2>Tabla de contenido</h2>\n",
        "<ul>\n",
        "    <li><a href=\"https://#ref1\">Evaluación del modelo</a></li>\n",
        "    <li><a href=\"https://#ref2\">Over-fitting, Under-fitting y Selección de Modelo</a></li>\n",
        "    <li><a href=\"https://#ref3\">Ridge Regression </a></li>\n",
        "    <li><a href=\"https://#ref4\">Grid Search</a></li>\n",
        "</ul>\n"
      ]
    },
    {
      "cell_type": "markdown",
      "metadata": {
        "id": "9qa61h9Eip2l"
      },
      "source": [
        "<h4>Configuración</h4>\n"
      ]
    },
    {
      "cell_type": "code",
      "execution_count": null,
      "metadata": {
        "id": "Q27zEGweip2n"
      },
      "outputs": [],
      "source": [
        "import pandas as pd\n",
        "import numpy as np\n",
        "import matplotlib.pyplot as plt\n",
        "import seaborn as sns\n",
        "\n",
        "from scipy import constants"
      ]
    },
    {
      "cell_type": "markdown",
      "metadata": {
        "id": "edB9Cwybip2n"
      },
      "source": [
        "This dataset was hosted on IBM Cloud object. Click <a href=\"https://cocl.us/DA101EN_object_storage?utm_medium=Exinfluencer&utm_source=Exinfluencer&utm_content=000026UJ&utm_term=10006555&utm_id=NA-SkillsNetwork-Channel-SkillsNetworkCoursesIBMDeveloperSkillsNetworkDA0101ENSkillsNetwork20235326-2021-01-01\">HERE</a> for free storage.\n"
      ]
    },
    {
      "cell_type": "code",
      "execution_count": null,
      "metadata": {
        "id": "vv6ulh4Tip2o"
      },
      "outputs": [],
      "source": [
        "path = 'https://cf-courses-data.s3.us.cloud-object-storage.appdomain.cloud/IBMDeveloperSkillsNetwork-DA0101EN-SkillsNetwork/labs/Data%20files/module_5_auto.csv'"
      ]
    },
    {
      "cell_type": "markdown",
      "metadata": {
        "id": "EHKun7sRip2o"
      },
      "source": [
        "you will need to download the dataset; if you are running locally, please comment out the following\n"
      ]
    },
    {
      "cell_type": "code",
      "execution_count": null,
      "metadata": {
        "id": "iz_lW8o5ip2o"
      },
      "outputs": [],
      "source": [
        "df = pd.read_csv(path)"
      ]
    },
    {
      "cell_type": "markdown",
      "metadata": {
        "id": "a5w_bhr1ip2p"
      },
      "source": [
        "Primero, usemos solo datos numéricos:\n"
      ]
    },
    {
      "cell_type": "code",
      "execution_count": null,
      "metadata": {
        "colab": {
          "base_uri": "https://localhost:8080/",
          "height": 280
        },
        "id": "MmSkBsZ7ip2p",
        "outputId": "eedf3757-5e96-4e4f-c8d8-5880def00ee4"
      },
      "outputs": [
        {
          "output_type": "execute_result",
          "data": {
            "text/plain": [
              "   Unnamed: 0  Unnamed: 0.1  symboling  normalized-losses  wheel-base  \\\n",
              "0           0             0          3                122        88.6   \n",
              "1           1             1          3                122        88.6   \n",
              "2           2             2          1                122        94.5   \n",
              "3           3             3          2                164        99.8   \n",
              "4           4             4          2                164        99.4   \n",
              "\n",
              "     length     width  height  curb-weight  engine-size  ...  stroke  \\\n",
              "0  0.811148  0.890278    48.8         2548          130  ...    2.68   \n",
              "1  0.811148  0.890278    48.8         2548          130  ...    2.68   \n",
              "2  0.822681  0.909722    52.4         2823          152  ...    3.47   \n",
              "3  0.848630  0.919444    54.3         2337          109  ...    3.40   \n",
              "4  0.848630  0.922222    54.3         2824          136  ...    3.40   \n",
              "\n",
              "   compression-ratio  horsepower  peak-rpm  city-mpg  highway-mpg    price  \\\n",
              "0                9.0       111.0    5000.0        21           27  13495.0   \n",
              "1                9.0       111.0    5000.0        21           27  16500.0   \n",
              "2                9.0       154.0    5000.0        19           26  16500.0   \n",
              "3               10.0       102.0    5500.0        24           30  13950.0   \n",
              "4                8.0       115.0    5500.0        18           22  17450.0   \n",
              "\n",
              "   city-L/100km  diesel  gas  \n",
              "0     11.190476       0    1  \n",
              "1     11.190476       0    1  \n",
              "2     12.368421       0    1  \n",
              "3      9.791667       0    1  \n",
              "4     13.055556       0    1  \n",
              "\n",
              "[5 rows x 21 columns]"
            ],
            "text/html": [
              "\n",
              "  <div id=\"df-c8abc585-1a3f-4039-baa7-41d9e018ee18\">\n",
              "    <div class=\"colab-df-container\">\n",
              "      <div>\n",
              "<style scoped>\n",
              "    .dataframe tbody tr th:only-of-type {\n",
              "        vertical-align: middle;\n",
              "    }\n",
              "\n",
              "    .dataframe tbody tr th {\n",
              "        vertical-align: top;\n",
              "    }\n",
              "\n",
              "    .dataframe thead th {\n",
              "        text-align: right;\n",
              "    }\n",
              "</style>\n",
              "<table border=\"1\" class=\"dataframe\">\n",
              "  <thead>\n",
              "    <tr style=\"text-align: right;\">\n",
              "      <th></th>\n",
              "      <th>Unnamed: 0</th>\n",
              "      <th>Unnamed: 0.1</th>\n",
              "      <th>symboling</th>\n",
              "      <th>normalized-losses</th>\n",
              "      <th>wheel-base</th>\n",
              "      <th>length</th>\n",
              "      <th>width</th>\n",
              "      <th>height</th>\n",
              "      <th>curb-weight</th>\n",
              "      <th>engine-size</th>\n",
              "      <th>...</th>\n",
              "      <th>stroke</th>\n",
              "      <th>compression-ratio</th>\n",
              "      <th>horsepower</th>\n",
              "      <th>peak-rpm</th>\n",
              "      <th>city-mpg</th>\n",
              "      <th>highway-mpg</th>\n",
              "      <th>price</th>\n",
              "      <th>city-L/100km</th>\n",
              "      <th>diesel</th>\n",
              "      <th>gas</th>\n",
              "    </tr>\n",
              "  </thead>\n",
              "  <tbody>\n",
              "    <tr>\n",
              "      <th>0</th>\n",
              "      <td>0</td>\n",
              "      <td>0</td>\n",
              "      <td>3</td>\n",
              "      <td>122</td>\n",
              "      <td>88.6</td>\n",
              "      <td>0.811148</td>\n",
              "      <td>0.890278</td>\n",
              "      <td>48.8</td>\n",
              "      <td>2548</td>\n",
              "      <td>130</td>\n",
              "      <td>...</td>\n",
              "      <td>2.68</td>\n",
              "      <td>9.0</td>\n",
              "      <td>111.0</td>\n",
              "      <td>5000.0</td>\n",
              "      <td>21</td>\n",
              "      <td>27</td>\n",
              "      <td>13495.0</td>\n",
              "      <td>11.190476</td>\n",
              "      <td>0</td>\n",
              "      <td>1</td>\n",
              "    </tr>\n",
              "    <tr>\n",
              "      <th>1</th>\n",
              "      <td>1</td>\n",
              "      <td>1</td>\n",
              "      <td>3</td>\n",
              "      <td>122</td>\n",
              "      <td>88.6</td>\n",
              "      <td>0.811148</td>\n",
              "      <td>0.890278</td>\n",
              "      <td>48.8</td>\n",
              "      <td>2548</td>\n",
              "      <td>130</td>\n",
              "      <td>...</td>\n",
              "      <td>2.68</td>\n",
              "      <td>9.0</td>\n",
              "      <td>111.0</td>\n",
              "      <td>5000.0</td>\n",
              "      <td>21</td>\n",
              "      <td>27</td>\n",
              "      <td>16500.0</td>\n",
              "      <td>11.190476</td>\n",
              "      <td>0</td>\n",
              "      <td>1</td>\n",
              "    </tr>\n",
              "    <tr>\n",
              "      <th>2</th>\n",
              "      <td>2</td>\n",
              "      <td>2</td>\n",
              "      <td>1</td>\n",
              "      <td>122</td>\n",
              "      <td>94.5</td>\n",
              "      <td>0.822681</td>\n",
              "      <td>0.909722</td>\n",
              "      <td>52.4</td>\n",
              "      <td>2823</td>\n",
              "      <td>152</td>\n",
              "      <td>...</td>\n",
              "      <td>3.47</td>\n",
              "      <td>9.0</td>\n",
              "      <td>154.0</td>\n",
              "      <td>5000.0</td>\n",
              "      <td>19</td>\n",
              "      <td>26</td>\n",
              "      <td>16500.0</td>\n",
              "      <td>12.368421</td>\n",
              "      <td>0</td>\n",
              "      <td>1</td>\n",
              "    </tr>\n",
              "    <tr>\n",
              "      <th>3</th>\n",
              "      <td>3</td>\n",
              "      <td>3</td>\n",
              "      <td>2</td>\n",
              "      <td>164</td>\n",
              "      <td>99.8</td>\n",
              "      <td>0.848630</td>\n",
              "      <td>0.919444</td>\n",
              "      <td>54.3</td>\n",
              "      <td>2337</td>\n",
              "      <td>109</td>\n",
              "      <td>...</td>\n",
              "      <td>3.40</td>\n",
              "      <td>10.0</td>\n",
              "      <td>102.0</td>\n",
              "      <td>5500.0</td>\n",
              "      <td>24</td>\n",
              "      <td>30</td>\n",
              "      <td>13950.0</td>\n",
              "      <td>9.791667</td>\n",
              "      <td>0</td>\n",
              "      <td>1</td>\n",
              "    </tr>\n",
              "    <tr>\n",
              "      <th>4</th>\n",
              "      <td>4</td>\n",
              "      <td>4</td>\n",
              "      <td>2</td>\n",
              "      <td>164</td>\n",
              "      <td>99.4</td>\n",
              "      <td>0.848630</td>\n",
              "      <td>0.922222</td>\n",
              "      <td>54.3</td>\n",
              "      <td>2824</td>\n",
              "      <td>136</td>\n",
              "      <td>...</td>\n",
              "      <td>3.40</td>\n",
              "      <td>8.0</td>\n",
              "      <td>115.0</td>\n",
              "      <td>5500.0</td>\n",
              "      <td>18</td>\n",
              "      <td>22</td>\n",
              "      <td>17450.0</td>\n",
              "      <td>13.055556</td>\n",
              "      <td>0</td>\n",
              "      <td>1</td>\n",
              "    </tr>\n",
              "  </tbody>\n",
              "</table>\n",
              "<p>5 rows × 21 columns</p>\n",
              "</div>\n",
              "      <button class=\"colab-df-convert\" onclick=\"convertToInteractive('df-c8abc585-1a3f-4039-baa7-41d9e018ee18')\"\n",
              "              title=\"Convert this dataframe to an interactive table.\"\n",
              "              style=\"display:none;\">\n",
              "        \n",
              "  <svg xmlns=\"http://www.w3.org/2000/svg\" height=\"24px\"viewBox=\"0 0 24 24\"\n",
              "       width=\"24px\">\n",
              "    <path d=\"M0 0h24v24H0V0z\" fill=\"none\"/>\n",
              "    <path d=\"M18.56 5.44l.94 2.06.94-2.06 2.06-.94-2.06-.94-.94-2.06-.94 2.06-2.06.94zm-11 1L8.5 8.5l.94-2.06 2.06-.94-2.06-.94L8.5 2.5l-.94 2.06-2.06.94zm10 10l.94 2.06.94-2.06 2.06-.94-2.06-.94-.94-2.06-.94 2.06-2.06.94z\"/><path d=\"M17.41 7.96l-1.37-1.37c-.4-.4-.92-.59-1.43-.59-.52 0-1.04.2-1.43.59L10.3 9.45l-7.72 7.72c-.78.78-.78 2.05 0 2.83L4 21.41c.39.39.9.59 1.41.59.51 0 1.02-.2 1.41-.59l7.78-7.78 2.81-2.81c.8-.78.8-2.07 0-2.86zM5.41 20L4 18.59l7.72-7.72 1.47 1.35L5.41 20z\"/>\n",
              "  </svg>\n",
              "      </button>\n",
              "      \n",
              "  <style>\n",
              "    .colab-df-container {\n",
              "      display:flex;\n",
              "      flex-wrap:wrap;\n",
              "      gap: 12px;\n",
              "    }\n",
              "\n",
              "    .colab-df-convert {\n",
              "      background-color: #E8F0FE;\n",
              "      border: none;\n",
              "      border-radius: 50%;\n",
              "      cursor: pointer;\n",
              "      display: none;\n",
              "      fill: #1967D2;\n",
              "      height: 32px;\n",
              "      padding: 0 0 0 0;\n",
              "      width: 32px;\n",
              "    }\n",
              "\n",
              "    .colab-df-convert:hover {\n",
              "      background-color: #E2EBFA;\n",
              "      box-shadow: 0px 1px 2px rgba(60, 64, 67, 0.3), 0px 1px 3px 1px rgba(60, 64, 67, 0.15);\n",
              "      fill: #174EA6;\n",
              "    }\n",
              "\n",
              "    [theme=dark] .colab-df-convert {\n",
              "      background-color: #3B4455;\n",
              "      fill: #D2E3FC;\n",
              "    }\n",
              "\n",
              "    [theme=dark] .colab-df-convert:hover {\n",
              "      background-color: #434B5C;\n",
              "      box-shadow: 0px 1px 3px 1px rgba(0, 0, 0, 0.15);\n",
              "      filter: drop-shadow(0px 1px 2px rgba(0, 0, 0, 0.3));\n",
              "      fill: #FFFFFF;\n",
              "    }\n",
              "  </style>\n",
              "\n",
              "      <script>\n",
              "        const buttonEl =\n",
              "          document.querySelector('#df-c8abc585-1a3f-4039-baa7-41d9e018ee18 button.colab-df-convert');\n",
              "        buttonEl.style.display =\n",
              "          google.colab.kernel.accessAllowed ? 'block' : 'none';\n",
              "\n",
              "        async function convertToInteractive(key) {\n",
              "          const element = document.querySelector('#df-c8abc585-1a3f-4039-baa7-41d9e018ee18');\n",
              "          const dataTable =\n",
              "            await google.colab.kernel.invokeFunction('convertToInteractive',\n",
              "                                                     [key], {});\n",
              "          if (!dataTable) return;\n",
              "\n",
              "          const docLinkHtml = 'Like what you see? Visit the ' +\n",
              "            '<a target=\"_blank\" href=https://colab.research.google.com/notebooks/data_table.ipynb>data table notebook</a>'\n",
              "            + ' to learn more about interactive tables.';\n",
              "          element.innerHTML = '';\n",
              "          dataTable['output_type'] = 'display_data';\n",
              "          await google.colab.output.renderOutput(dataTable, element);\n",
              "          const docLink = document.createElement('div');\n",
              "          docLink.innerHTML = docLinkHtml;\n",
              "          element.appendChild(docLink);\n",
              "        }\n",
              "      </script>\n",
              "    </div>\n",
              "  </div>\n",
              "  "
            ]
          },
          "metadata": {},
          "execution_count": 6
        }
      ],
      "source": [
        "df=df._get_numeric_data()\n",
        "df.head()"
      ]
    },
    {
      "cell_type": "markdown",
      "metadata": {
        "id": "Dr8Jgo86ip2p"
      },
      "source": [
        "Bibliotecas para plotear:"
      ]
    },
    {
      "cell_type": "code",
      "execution_count": null,
      "metadata": {
        "id": "N9-y1LSsip2p"
      },
      "outputs": [],
      "source": [
        "from ipywidgets import interact, interactive, fixed, interact_manual"
      ]
    },
    {
      "cell_type": "markdown",
      "metadata": {
        "id": "EBLmT25Nip2p"
      },
      "source": [
        "<h2>Funciones para graficar</h2>\n"
      ]
    },
    {
      "cell_type": "code",
      "execution_count": null,
      "metadata": {
        "id": "n-oogH0Eip2p"
      },
      "outputs": [],
      "source": [
        "def DistributionPlot(RedFunction, BlueFunction, RedName, BlueName, Title):\n",
        "    width = 12\n",
        "    height = 10\n",
        "    plt.figure(figsize=(width, height))\n",
        "\n",
        "    ax1 = sns.distplot(RedFunction, hist=False, color=\"r\", label=RedName)\n",
        "    ax2 = sns.distplot(BlueFunction, hist=False, color=\"b\", label=BlueName, ax=ax1)\n",
        "\n",
        "    plt.title(Title)\n",
        "    plt.xlabel('Price (in dollars)')\n",
        "    plt.ylabel('Proportion of Cars')\n",
        "\n",
        "    plt.show()\n",
        "    plt.close()"
      ]
    },
    {
      "cell_type": "code",
      "execution_count": null,
      "metadata": {
        "id": "7cgrO_JWip2q"
      },
      "outputs": [],
      "source": [
        "def PollyPlot(xtrain, xtest, y_train, y_test, lr,poly_transform):\n",
        "    width = 12\n",
        "    height = 10\n",
        "    plt.figure(figsize=(width, height))\n",
        "    \n",
        "    \n",
        "    #training data \n",
        "    #testing data \n",
        "    # lr:  linear regression object \n",
        "    #poly_transform:  polynomial transformation object \n",
        " \n",
        "    xmax=max([xtrain.values.max(), xtest.values.max()])\n",
        "\n",
        "    xmin=min([xtrain.values.min(), xtest.values.min()])\n",
        "\n",
        "    x=np.arange(xmin, xmax, 0.1)\n",
        "\n",
        "\n",
        "    plt.plot(xtrain, y_train, 'ro', label='Training Data')\n",
        "    plt.plot(xtest, y_test, 'go', label='Test Data')\n",
        "    plt.plot(x, lr.predict(poly_transform.fit_transform(x.reshape(-1, 1))), label='Predicted Function')\n",
        "    plt.ylim([-10000, 60000])\n",
        "    plt.ylabel('Price')\n",
        "    plt.legend()"
      ]
    },
    {
      "cell_type": "markdown",
      "metadata": {
        "id": "-F0zP0ZZip2q"
      },
      "source": [
        "<h2 id=\"ref1\">Parte 1: Entrenamiento y Pruebas</h2>\n",
        "\n",
        "<p>Un paso importante para probar su modelo es dividir sus datos en datos de entrenamiento y prueba. Colocaremos el <b>precio</b> de datos objetivo en un marco de datos separado <b>y_data</b>:</p>\n"
      ]
    },
    {
      "cell_type": "code",
      "execution_count": null,
      "metadata": {
        "id": "eLquy5mEip2q"
      },
      "outputs": [],
      "source": [
        "y_data = df['price']"
      ]
    },
    {
      "cell_type": "markdown",
      "metadata": {
        "id": "c0mIAUyKip2q"
      },
      "source": [
        "Coloque los datos de precios en el marco de datos **x_data**:"
      ]
    },
    {
      "cell_type": "code",
      "execution_count": null,
      "metadata": {
        "id": "gv096dfKip2q"
      },
      "outputs": [],
      "source": [
        "x_data=df.drop('price',axis=1)"
      ]
    },
    {
      "cell_type": "markdown",
      "metadata": {
        "id": "fH0qqwGPip2q"
      },
      "source": [
        "Ahora, dividimos aleatoriamente nuestros datos en datos de entrenamiento y prueba usando la función <b>train_test_split</b>.\n"
      ]
    },
    {
      "cell_type": "code",
      "execution_count": null,
      "metadata": {
        "colab": {
          "base_uri": "https://localhost:8080/"
        },
        "id": "oUPzuIpcip2r",
        "outputId": "da398c0d-075a-43d7-e018-fc51272f9030"
      },
      "outputs": [
        {
          "output_type": "stream",
          "name": "stdout",
          "text": [
            "number of test samples : 21\n",
            "number of training samples: 180\n"
          ]
        }
      ],
      "source": [
        "from sklearn.model_selection import train_test_split\n",
        "\n",
        "\n",
        "x_train, x_test, y_train, y_test = train_test_split(x_data, y_data, test_size=0.10, random_state=1)\n",
        "\n",
        "\n",
        "print(\"number of test samples :\", x_test.shape[0])\n",
        "print(\"number of training samples:\",x_train.shape[0])\n"
      ]
    },
    {
      "cell_type": "markdown",
      "metadata": {
        "id": "zqNND8zqip2r"
      },
      "source": [
        "El parámetro <b>test_size</b> establece la proporción de datos que se dividen en el conjunto de prueba. En lo anterior, el conjunto de prueba es el 10% del conjunto de datos total.\n"
      ]
    },
    {
      "cell_type": "markdown",
      "metadata": {
        "id": "jYf7563Xip2r"
      },
      "source": [
        "<div class=\"alert alert-danger alertdanger\" style=\"margin-top: 20px\">\n",
        "<h1>Pregunta  #1:</h1>\n",
        "\n",
        "<p>Use la función \"train_test_split\" para dividir el conjunto de datos de modo que el 40% de las muestras de datos se utilicen para la prueba. Establezca el parámetro \"random_state\" igual a cero. La salida de la función debe ser la siguiente: \"x_train1\", \"x_test1\", \"y_train1\" y \"y_test1\".</p>\n",
        "\n",
        "</div>\n"
      ]
    },
    {
      "cell_type": "code",
      "execution_count": null,
      "metadata": {
        "colab": {
          "base_uri": "https://localhost:8080/"
        },
        "id": "q2g6xqZuip2r",
        "outputId": "ac2c08a3-88b2-4499-b3fb-d8f23a7937e7"
      },
      "outputs": [
        {
          "output_type": "stream",
          "name": "stdout",
          "text": [
            "number of test samples : 81\n",
            "number of training samples: 120\n"
          ]
        }
      ],
      "source": [
        "# Write your code below and press Shift+Enter to execute \n",
        "x_train1, x_test1, y_train1, y_test1 = train_test_split(x_data, y_data, test_size=0.4, random_state=0) \n",
        "print(\"number of test samples :\", x_test1.shape[0])\n",
        "print(\"number of training samples:\",x_train1.shape[0])"
      ]
    },
    {
      "cell_type": "markdown",
      "metadata": {
        "id": "OybtxSBaip2r"
      },
      "source": [
        "Importemos <b>LinearRegression</b> desde el módulo <b>linear_model</b>\n"
      ]
    },
    {
      "cell_type": "code",
      "execution_count": null,
      "metadata": {
        "id": "RmHuIN2pip2r"
      },
      "outputs": [],
      "source": [
        "from sklearn.linear_model import LinearRegression"
      ]
    },
    {
      "cell_type": "markdown",
      "metadata": {
        "id": "WcSYlGVtip2r"
      },
      "source": [
        "Creamos un objeto de Regresión Lineal:\n"
      ]
    },
    {
      "cell_type": "code",
      "execution_count": null,
      "metadata": {
        "id": "hGXrzjXgip2s"
      },
      "outputs": [],
      "source": [
        "lre=LinearRegression()"
      ]
    },
    {
      "cell_type": "markdown",
      "metadata": {
        "id": "P4ulCI2tip2s"
      },
      "source": [
        "Ajustamos el modelo usando la característica \"horsepower\":"
      ]
    },
    {
      "cell_type": "code",
      "execution_count": null,
      "metadata": {
        "colab": {
          "base_uri": "https://localhost:8080/"
        },
        "id": "oe0YI-VRip2s",
        "outputId": "29b1b701-c404-4287-8f0f-208cddd7f370"
      },
      "outputs": [
        {
          "output_type": "execute_result",
          "data": {
            "text/plain": [
              "LinearRegression()"
            ]
          },
          "metadata": {},
          "execution_count": 17
        }
      ],
      "source": [
        "lre.fit(x_train[['horsepower']], y_train)"
      ]
    },
    {
      "cell_type": "markdown",
      "metadata": {
        "id": "2doxPaQNip2s"
      },
      "source": [
        "Calculemos el R ^ 2 en los datos de prueba:\n"
      ]
    },
    {
      "cell_type": "code",
      "execution_count": null,
      "metadata": {
        "colab": {
          "base_uri": "https://localhost:8080/"
        },
        "id": "EsZw-mgqip2s",
        "outputId": "4495bb31-feeb-408f-e8f9-da6e60ea8d3b"
      },
      "outputs": [
        {
          "output_type": "execute_result",
          "data": {
            "text/plain": [
              "0.36358755750788263"
            ]
          },
          "metadata": {},
          "execution_count": 18
        }
      ],
      "source": [
        "lre.score(x_test[['horsepower']], y_test)"
      ]
    },
    {
      "cell_type": "markdown",
      "metadata": {
        "id": "syfDM8uzip2s"
      },
      "source": [
        "We can see the R^2 is much smaller using the test data compared to the training data.\n"
      ]
    },
    {
      "cell_type": "code",
      "execution_count": null,
      "metadata": {
        "colab": {
          "base_uri": "https://localhost:8080/"
        },
        "id": "MGLb_2-Rip2s",
        "outputId": "525af8cb-4354-484a-9fd4-1d3fa4ac85e0"
      },
      "outputs": [
        {
          "output_type": "execute_result",
          "data": {
            "text/plain": [
              "0.6619724197515104"
            ]
          },
          "metadata": {},
          "execution_count": 19
        }
      ],
      "source": [
        "lre.score(x_train[['horsepower']], y_train)"
      ]
    },
    {
      "cell_type": "markdown",
      "metadata": {
        "id": "_cspk3gOip2s"
      },
      "source": [
        "<div class=\"alert alert-danger alertdanger\" style=\"margin-top: 20px\">\n",
        "<h1> Pregunta #2): </h1>\n",
        "<b>\n",
        "Encuentre el R^2 en los datos de prueba usando el 40 % del conjunto de datos para la prueba.\n",
        "</b>\n",
        "</div>\n"
      ]
    },
    {
      "cell_type": "code",
      "execution_count": null,
      "metadata": {
        "colab": {
          "base_uri": "https://localhost:8080/"
        },
        "id": "CXM1gf6xip2t",
        "outputId": "28514b54-1019-488b-b904-5c123326b2b9"
      },
      "outputs": [
        {
          "output_type": "execute_result",
          "data": {
            "text/plain": [
              "0.7139364665406973"
            ]
          },
          "metadata": {},
          "execution_count": 20
        }
      ],
      "source": [
        "# Write your code below and press Shift+Enter to execute \n",
        "x_train1, x_test1, y_train1, y_test1 = train_test_split(x_data, y_data, test_size=0.4, random_state=0)\n",
        "lre.fit(x_train1[['horsepower']],y_train1)\n",
        "lre.score(x_test1[['horsepower']],y_test1)"
      ]
    },
    {
      "cell_type": "markdown",
      "metadata": {
        "id": "Hh_ihCoOip2t"
      },
      "source": [
        "A veces no tiene suficientes datos de prueba; como resultado, es posible que desee realizar una validación cruzada. Repasemos varios métodos que puede usar para la validación cruzada."
      ]
    },
    {
      "cell_type": "markdown",
      "metadata": {
        "id": "FyO-d6cXip2t"
      },
      "source": [
        "<h2>Cross-Validation Score</h2>\n"
      ]
    },
    {
      "cell_type": "markdown",
      "metadata": {
        "id": "k5GWF8liip2t"
      },
      "source": [
        "Importemos <b>model_selection</b> desde el módulo <b>cross_val_score</b>.\n"
      ]
    },
    {
      "cell_type": "code",
      "execution_count": null,
      "metadata": {
        "id": "CNTnWfWyip2t"
      },
      "outputs": [],
      "source": [
        "from sklearn.model_selection import cross_val_score"
      ]
    },
    {
      "cell_type": "markdown",
      "metadata": {
        "id": "R_uiPGDEip2t"
      },
      "source": [
        "Introducimos el objeto, la característica (\"horsepower\"), and the target data (y_data). The parameter 'cv' determines the number of folds. In this case, it is 4.\n"
      ]
    },
    {
      "cell_type": "code",
      "execution_count": null,
      "metadata": {
        "id": "VY1e7RYYip2t"
      },
      "outputs": [],
      "source": [
        "Rcross = cross_val_score(lre, x_data[['horsepower']], y_data, cv=4)"
      ]
    },
    {
      "cell_type": "markdown",
      "metadata": {
        "id": "NZdqzXZmip2u"
      },
      "source": [
        "La puntuación predeterminada es R^2. Cada elemento de la matriz tiene el valor promedio de R^2 para el pliegue:"
      ]
    },
    {
      "cell_type": "code",
      "execution_count": null,
      "metadata": {
        "colab": {
          "base_uri": "https://localhost:8080/"
        },
        "id": "vXYCQTuCip2u",
        "outputId": "554f183f-82b0-4cd5-89ab-c63cd1c82a3c"
      },
      "outputs": [
        {
          "output_type": "execute_result",
          "data": {
            "text/plain": [
              "array([0.7746232 , 0.51716687, 0.74785353, 0.04839605])"
            ]
          },
          "metadata": {},
          "execution_count": 24
        }
      ],
      "source": [
        "Rcross"
      ]
    },
    {
      "cell_type": "markdown",
      "metadata": {
        "id": "4rIs9qX7ip2u"
      },
      "source": [
        "Podemos calcular el promedio y la desviación estándar de nuestra estimación:\n"
      ]
    },
    {
      "cell_type": "code",
      "execution_count": null,
      "metadata": {
        "colab": {
          "base_uri": "https://localhost:8080/"
        },
        "id": "Ju1QfF1qip2u",
        "outputId": "40a734c9-b66e-4fe7-968a-71a94e2274e2"
      },
      "outputs": [
        {
          "output_type": "stream",
          "name": "stdout",
          "text": [
            "The mean of the folds are 0.522009915042119 and the standard deviation is 0.291183944475603\n"
          ]
        }
      ],
      "source": [
        "print(\"The mean of the folds are\", Rcross.mean(), \"and the standard deviation is\" , Rcross.std())"
      ]
    },
    {
      "cell_type": "markdown",
      "metadata": {
        "id": "4OCg3MhUip2u"
      },
      "source": [
        "Podemos usar el error cuadrático negativo como puntaje configurando la métrica del parámetro 'puntuación' en 'neg_mean_squared_error'."
      ]
    },
    {
      "cell_type": "code",
      "execution_count": null,
      "metadata": {
        "colab": {
          "base_uri": "https://localhost:8080/"
        },
        "id": "yTfVIauUip2u",
        "outputId": "aa1d293a-4d47-4c6c-ec9d-6ea2baf702a0"
      },
      "outputs": [
        {
          "output_type": "execute_result",
          "data": {
            "text/plain": [
              "array([20254142.84026702, 43745493.2650517 , 12539630.34014931,\n",
              "       17561927.72247591])"
            ]
          },
          "metadata": {},
          "execution_count": 26
        }
      ],
      "source": [
        "-1 * cross_val_score(lre,x_data[['horsepower']], y_data,cv=4,scoring='neg_mean_squared_error')"
      ]
    },
    {
      "cell_type": "markdown",
      "metadata": {
        "id": "RUGUONwVip2u"
      },
      "source": [
        "<div class=\"alert alert-danger alertdanger\" style=\"margin-top: 20px\">\n",
        "<h1> Pregunta #3): </h1>\n",
        "\n",
        "<p>\n",
        "Calcule el R ^ 2 promedio usando dos pliegues, luego encuentre el R ^ 2 promedio para el segundo pliegue utilizando la función \"caballos de fuerza\":\n",
        "</p>\n",
        "</div>\n"
      ]
    },
    {
      "cell_type": "code",
      "execution_count": null,
      "metadata": {
        "colab": {
          "base_uri": "https://localhost:8080/"
        },
        "id": "CU4Qc6TAip2v",
        "outputId": "5dda5496-f0a3-46e8-b214-78ded8d4ab31"
      },
      "outputs": [
        {
          "output_type": "execute_result",
          "data": {
            "text/plain": [
              "0.5166761697127429"
            ]
          },
          "metadata": {},
          "execution_count": 27
        }
      ],
      "source": [
        "# Write your code below and press Shift+Enter to execute \n",
        "Rc=cross_val_score(lre,x_data[['horsepower']], y_data,cv=2)\n",
        "Rc.mean()"
      ]
    },
    {
      "cell_type": "markdown",
      "metadata": {
        "id": "jAf4iF4fip2v"
      },
      "source": [
        "También puede usar la función 'cross_val_predict' para predecir la salida. La función divide los datos en el número especificado de pliegues, con un pliegue para prueba y los otros pliegues se usan para entrenamiento. Primero, importa la función:\n"
      ]
    },
    {
      "cell_type": "code",
      "execution_count": null,
      "metadata": {
        "id": "SIfRVCTaip2v"
      },
      "outputs": [],
      "source": [
        "from sklearn.model_selection import cross_val_predict"
      ]
    },
    {
      "cell_type": "markdown",
      "metadata": {
        "id": "iu5m-ETmip2v"
      },
      "source": [
        "Ingresamos el objeto, la función <b>\"caballos de fuerza\"</b> y los datos de destino <b>y_data</b>. El parámetro 'cv' determina el número de pliegues. En este caso, es 4. Podemos producir una salida:\n"
      ]
    },
    {
      "cell_type": "code",
      "execution_count": null,
      "metadata": {
        "colab": {
          "base_uri": "https://localhost:8080/"
        },
        "id": "BQ3sxKqgip2v",
        "outputId": "3e1a5c33-36cc-4a92-da49-16692ce2a5e5"
      },
      "outputs": [
        {
          "output_type": "execute_result",
          "data": {
            "text/plain": [
              "array([14141.63807508, 14141.63807508, 20814.29423473, 12745.03562306,\n",
              "       14762.35027598])"
            ]
          },
          "metadata": {},
          "execution_count": 29
        }
      ],
      "source": [
        "yhat = cross_val_predict(lre,x_data[['horsepower']], y_data,cv=4)\n",
        "yhat[0:5]"
      ]
    },
    {
      "cell_type": "markdown",
      "metadata": {
        "id": "D89RD2aDip2v"
      },
      "source": [
        "<h2 id=\"ref2\">Part 2: Overfitting, Underfitting y Model Selection</h2>\n",
        "\n",
        "<p>Resulta que los datos de prueba, a veces denominados \"datos fuera de muestra\", son una medida mucho mejor del rendimiento de su modelo en el mundo real. Una de las razones de esto es el sobreajuste.\n",
        "\n",
        "Repasemos algunos ejemplos. Resulta que estas diferencias son más evidentes en la regresión lineal múltiple y la regresión polinomial, por lo que exploraremos el sobreajuste en ese contexto.</p>\n"
      ]
    },
    {
      "cell_type": "markdown",
      "metadata": {
        "id": "Ccsn90ENip2v"
      },
      "source": [
        "Vamos a crear objetos de regresión lineal múltiple y entrenar el modelo usando  <b>'horsepower'</b>, <b>'curb-weight'</b>, <b>'engine-size'</b> and <b>'highway-mpg'</b> como características.\n"
      ]
    },
    {
      "cell_type": "code",
      "execution_count": null,
      "metadata": {
        "colab": {
          "base_uri": "https://localhost:8080/"
        },
        "id": "opRE8Mu-ip2v",
        "outputId": "dcf94e59-ebc2-4a3e-d4ff-cd867d768dce"
      },
      "outputs": [
        {
          "output_type": "execute_result",
          "data": {
            "text/plain": [
              "LinearRegression()"
            ]
          },
          "metadata": {},
          "execution_count": 31
        }
      ],
      "source": [
        "lr = LinearRegression()\n",
        "lr.fit(x_train[['horsepower', 'curb-weight', 'engine-size', 'highway-mpg']], y_train)"
      ]
    },
    {
      "cell_type": "markdown",
      "metadata": {
        "id": "oqM7MC2Lip2w"
      },
      "source": [
        "\n",
        "Predicción usando datos de entrenamiento:\n"
      ]
    },
    {
      "cell_type": "code",
      "execution_count": null,
      "metadata": {
        "colab": {
          "base_uri": "https://localhost:8080/"
        },
        "id": "HYFNx7E_ip2w",
        "outputId": "349ee74d-fb48-4073-c319-a4102729d576"
      },
      "outputs": [
        {
          "output_type": "execute_result",
          "data": {
            "text/plain": [
              "array([ 7426.6731551 , 28323.75090803, 14213.38819709,  4052.34146983,\n",
              "       34500.19124244])"
            ]
          },
          "metadata": {},
          "execution_count": 32
        }
      ],
      "source": [
        "yhat_train = lr.predict(x_train[['horsepower', 'curb-weight', 'engine-size', 'highway-mpg']])\n",
        "yhat_train[0:5]"
      ]
    },
    {
      "cell_type": "markdown",
      "metadata": {
        "id": "AEqAmyfpip2w"
      },
      "source": [
        "\n",
        "Predicción utilizando datos de prueba:\n"
      ]
    },
    {
      "cell_type": "code",
      "execution_count": null,
      "metadata": {
        "colab": {
          "base_uri": "https://localhost:8080/"
        },
        "id": "m0tAmtJqip2w",
        "outputId": "7784b579-a2d0-4651-a401-fdaccbbe9a58"
      },
      "outputs": [
        {
          "output_type": "execute_result",
          "data": {
            "text/plain": [
              "array([11349.35089149,  5884.11059106, 11208.6928275 ,  6641.07786278,\n",
              "       15565.79920282])"
            ]
          },
          "metadata": {},
          "execution_count": 33
        }
      ],
      "source": [
        "yhat_test = lr.predict(x_test[['horsepower', 'curb-weight', 'engine-size', 'highway-mpg']])\n",
        "yhat_test[0:5]"
      ]
    },
    {
      "cell_type": "markdown",
      "metadata": {
        "id": "qmK2wf6Bip2w"
      },
      "source": [
        "Realicemos una evaluación del modelo usando nuestros datos de entrenamiento y prueba por separado. Primero, importamos la biblioteca seaborn y matplotlib para el trazado."
      ]
    },
    {
      "cell_type": "code",
      "execution_count": null,
      "metadata": {
        "id": "esXzZW10ip2w"
      },
      "outputs": [],
      "source": [
        "import matplotlib.pyplot as plt\n",
        "%matplotlib inline\n",
        "import seaborn as sns"
      ]
    },
    {
      "cell_type": "markdown",
      "metadata": {
        "id": "uKsUFGslip2w"
      },
      "source": [
        "Examinemos la distribución de los valores predichos de los datos de entrenamiento.\n"
      ]
    },
    {
      "cell_type": "code",
      "execution_count": null,
      "metadata": {
        "colab": {
          "base_uri": "https://localhost:8080/",
          "height": 714
        },
        "id": "QMSm9_DHip2w",
        "outputId": "73a3bd0e-c610-452a-d338-36da7a6d085e"
      },
      "outputs": [
        {
          "output_type": "stream",
          "name": "stderr",
          "text": [
            "/usr/local/lib/python3.7/dist-packages/seaborn/distributions.py:2619: FutureWarning: `distplot` is a deprecated function and will be removed in a future version. Please adapt your code to use either `displot` (a figure-level function with similar flexibility) or `kdeplot` (an axes-level function for kernel density plots).\n",
            "  warnings.warn(msg, FutureWarning)\n",
            "/usr/local/lib/python3.7/dist-packages/seaborn/distributions.py:2619: FutureWarning: `distplot` is a deprecated function and will be removed in a future version. Please adapt your code to use either `displot` (a figure-level function with similar flexibility) or `kdeplot` (an axes-level function for kernel density plots).\n",
            "  warnings.warn(msg, FutureWarning)\n"
          ]
        },
        {
          "output_type": "display_data",
          "data": {
            "text/plain": [
              "<Figure size 864x720 with 1 Axes>"
            ],
            "image/png": "[encoded data removed]"
          },
          "metadata": {
            "needs_background": "light"
          }
        }
      ],
      "source": [
        "Title = 'Distribution  Plot of  Predicted Value Using Training Data vs Training Data Distribution'\n",
        "DistributionPlot(y_train, yhat_train, \"Actual Values (Train)\", \"Predicted Values (Train)\", Title)"
      ]
    },
    {
      "cell_type": "markdown",
      "metadata": {
        "id": "2OfCO7u1ip2w"
      },
      "source": [
        "Figure 1: Plot of predicted values using the training data compared to the actual values of the training data.\n"
      ]
    },
    {
      "cell_type": "markdown",
      "metadata": {
        "id": "Ql6tPWABip2x"
      },
      "source": [
        "Hasta ahora, el modelo parece estar aprendiendo bien del conjunto de datos de entrenamiento. Pero, ¿qué sucede cuando el modelo encuentra nuevos datos del conjunto de datos de prueba? Cuando el modelo genera nuevos valores a partir de los datos de prueba, vemos que la distribución de los valores predichos es muy diferente de los valores objetivo reales.\n"
      ]
    },
    {
      "cell_type": "code",
      "execution_count": null,
      "metadata": {
        "colab": {
          "base_uri": "https://localhost:8080/",
          "height": 714
        },
        "id": "J7GAMTVhip2x",
        "outputId": "460e7545-8369-4aed-eb4e-5c92972deb71"
      },
      "outputs": [
        {
          "output_type": "stream",
          "name": "stderr",
          "text": [
            "/usr/local/lib/python3.7/dist-packages/seaborn/distributions.py:2619: FutureWarning: `distplot` is a deprecated function and will be removed in a future version. Please adapt your code to use either `displot` (a figure-level function with similar flexibility) or `kdeplot` (an axes-level function for kernel density plots).\n",
            "  warnings.warn(msg, FutureWarning)\n",
            "/usr/local/lib/python3.7/dist-packages/seaborn/distributions.py:2619: FutureWarning: `distplot` is a deprecated function and will be removed in a future version. Please adapt your code to use either `displot` (a figure-level function with similar flexibility) or `kdeplot` (an axes-level function for kernel density plots).\n",
            "  warnings.warn(msg, FutureWarning)\n"
          ]
        },
        {
          "output_type": "display_data",
          "data": {
            "text/plain": [
              "<Figure size 864x720 with 1 Axes>"
            ],
            "image/png": "[encoded data removed]"
          },
          "metadata": {
            "needs_background": "light"
          }
        }
      ],
      "source": [
        "Title='Distribution  Plot of  Predicted Value Using Test Data vs Data Distribution of Test Data'\n",
        "DistributionPlot(y_test,yhat_test,\"Actual Values (Test)\",\"Predicted Values (Test)\",Title)"
      ]
    },
    {
      "cell_type": "markdown",
      "metadata": {
        "id": "F-46wfP-ip2x"
      },
      "source": [
        "Figure 2: Plot of predicted value using the test data compared to the actual values of the test data.\n"
      ]
    },
    {
      "cell_type": "markdown",
      "metadata": {
        "id": "6gRkPTB0ip2x"
      },
      "source": [
        "<p>Al comparar la **Figura 1** y la **Figura 2**, es evidente que la distribución de los datos de prueba en la Figura 1 es mucho mejor para ajustar los datos. Esta diferencia en la Figura 2 es evidente en el rango de 5000 a 15,000. Aquí es donde la forma de la distribución es extremadamente diferente. Veamos si la regresión polinomial también muestra una caída en la precisión de la predicción al analizar el conjunto de datos de prueba.</p>\n"
      ]
    },
    {
      "cell_type": "code",
      "execution_count": null,
      "metadata": {
        "id": "Ii9_I5x8ip2x"
      },
      "outputs": [],
      "source": [
        "from sklearn.preprocessing import PolynomialFeatures"
      ]
    },
    {
      "cell_type": "markdown",
      "metadata": {
        "id": "jQVKNhLIip2x"
      },
      "source": [
        "<h4>Overfitting</h4>\n",
        "<p>Overfitting ocurre cuando el modelo se ajusta al ruido, pero no al proceso subyacente. Por lo tanto, al probar su modelo con el conjunto de prueba, su modelo no funciona tan bien ya que está modelando ruido, no el proceso subyacente que generó la relación. Vamos a crear un modelo polinomial de grado 5.</p>"
      ]
    },
    {
      "cell_type": "markdown",
      "metadata": {
        "id": "ZtGwvSj2ip2x"
      },
      "source": [
        "Usemos el 55 por ciento de los datos para entrenamiento y el resto para pruebas:\n"
      ]
    },
    {
      "cell_type": "code",
      "execution_count": null,
      "metadata": {
        "id": "Hr9nXjzaip2x"
      },
      "outputs": [],
      "source": [
        "x_train, x_test, y_train, y_test = train_test_split(x_data, y_data, test_size=0.45, random_state=0)"
      ]
    },
    {
      "cell_type": "markdown",
      "metadata": {
        "id": "2fv0MokEip2x"
      },
      "source": [
        "Realizaremos una transformación polinomial de grado 5 en la característica <b>'caballos de fuerza'</b>.\n"
      ]
    },
    {
      "cell_type": "code",
      "execution_count": null,
      "metadata": {
        "colab": {
          "base_uri": "https://localhost:8080/"
        },
        "id": "eapo6VwLip2y",
        "outputId": "658fbdcd-cd30-484c-a13f-c4ecee890d54"
      },
      "outputs": [
        {
          "output_type": "execute_result",
          "data": {
            "text/plain": [
              "PolynomialFeatures(degree=5)"
            ]
          },
          "metadata": {},
          "execution_count": 39
        }
      ],
      "source": [
        "pr = PolynomialFeatures(degree=5)\n",
        "x_train_pr = pr.fit_transform(x_train[['horsepower']])\n",
        "x_test_pr = pr.fit_transform(x_test[['horsepower']])\n",
        "pr"
      ]
    },
    {
      "cell_type": "markdown",
      "metadata": {
        "id": "V9TtM6kxip2y"
      },
      "source": [
        "Ahora, creemos un modelo de regresión lineal \"poli\" y entrenémoslo.\n"
      ]
    },
    {
      "cell_type": "code",
      "execution_count": null,
      "metadata": {
        "colab": {
          "base_uri": "https://localhost:8080/"
        },
        "id": "BkmeJP4Kip2y",
        "outputId": "475b91a3-ba3c-4a31-c5f4-05bf0e9b0faa"
      },
      "outputs": [
        {
          "output_type": "execute_result",
          "data": {
            "text/plain": [
              "LinearRegression()"
            ]
          },
          "metadata": {},
          "execution_count": 40
        }
      ],
      "source": [
        "poly = LinearRegression()\n",
        "poly.fit(x_train_pr, y_train)"
      ]
    },
    {
      "cell_type": "markdown",
      "metadata": {
        "id": "aGSS-qcLip2y"
      },
      "source": [
        "Podemos ver la salida de nuestro modelo usando el método \"predecir\". Asignamos los valores a \"yhat\"."
      ]
    },
    {
      "cell_type": "code",
      "execution_count": null,
      "metadata": {
        "id": "njRSen0Pip2y"
      },
      "outputs": [],
      "source": [
        "yhat = poly.predict(x_test_pr)\n",
        "yhat[0:5]"
      ]
    },
    {
      "cell_type": "markdown",
      "metadata": {
        "id": "eGdMVX6gip2y"
      },
      "source": [
        "Let's take the first five predicted values and compare it to the actual targets.\n"
      ]
    },
    {
      "cell_type": "code",
      "execution_count": null,
      "metadata": {
        "id": "4eCo86rDip2y"
      },
      "outputs": [],
      "source": [
        "print(\"Predicted values:\", yhat[0:4])\n",
        "print(\"True values:\", y_test[0:4].values)"
      ]
    },
    {
      "cell_type": "markdown",
      "metadata": {
        "id": "u2hY7LmMip2y"
      },
      "source": [
        "We will use the function \"PollyPlot\" that we defined at the beginning of the lab to display the training data, testing data, and the predicted function.\n"
      ]
    },
    {
      "cell_type": "code",
      "execution_count": null,
      "metadata": {
        "id": "2ecg4JJEip2y"
      },
      "outputs": [],
      "source": [
        "PollyPlot(x_train[['horsepower']], x_test[['horsepower']], y_train, y_test, poly,pr)"
      ]
    },
    {
      "cell_type": "markdown",
      "metadata": {
        "id": "NiFv_Hqtip2z"
      },
      "source": [
        "Figure 3: A polynomial regression model where red dots represent training data, green dots represent test data, and the blue line represents the model prediction.\n"
      ]
    },
    {
      "cell_type": "markdown",
      "metadata": {
        "id": "zPMy3Tk0ip2z"
      },
      "source": [
        "We see that the estimated function appears to track the data but around 200 horsepower, the function begins to diverge from the data points.\n"
      ]
    },
    {
      "cell_type": "markdown",
      "metadata": {
        "id": "nFqrD5TFip2z"
      },
      "source": [
        "R^2 of the training data:\n"
      ]
    },
    {
      "cell_type": "code",
      "execution_count": null,
      "metadata": {
        "id": "aiqbfAQTip2z"
      },
      "outputs": [],
      "source": [
        "poly.score(x_train_pr, y_train)"
      ]
    },
    {
      "cell_type": "markdown",
      "metadata": {
        "id": "vQIjm0Xqip2z"
      },
      "source": [
        "R^2 of the test data:\n"
      ]
    },
    {
      "cell_type": "code",
      "execution_count": null,
      "metadata": {
        "id": "37au99tCip2z"
      },
      "outputs": [],
      "source": [
        "poly.score(x_test_pr, y_test)"
      ]
    },
    {
      "cell_type": "markdown",
      "metadata": {
        "id": "5RAH_NqTip2z"
      },
      "source": [
        "We see the R^2 for the training data is 0.5567 while the R^2 on the test data was -29.87.  The lower the R^2, the worse the model. A negative R^2 is a sign of overfitting.\n"
      ]
    },
    {
      "cell_type": "markdown",
      "metadata": {
        "id": "MxWxVkvvip2z"
      },
      "source": [
        "Let's see how the R^2 changes on the test data for different order polynomials and then plot the results:\n"
      ]
    },
    {
      "cell_type": "code",
      "execution_count": null,
      "metadata": {
        "id": "o1joTglAip2z"
      },
      "outputs": [],
      "source": [
        "Rsqu_test = []\n",
        "\n",
        "order = [1, 2, 3, 4]\n",
        "for n in order:\n",
        "    pr = PolynomialFeatures(degree=n)\n",
        "    \n",
        "    x_train_pr = pr.fit_transform(x_train[['horsepower']])\n",
        "    \n",
        "    x_test_pr = pr.fit_transform(x_test[['horsepower']])    \n",
        "    \n",
        "    lr.fit(x_train_pr, y_train)\n",
        "    \n",
        "    Rsqu_test.append(lr.score(x_test_pr, y_test))\n",
        "\n",
        "plt.plot(order, Rsqu_test)\n",
        "plt.xlabel('order')\n",
        "plt.ylabel('R^2')\n",
        "plt.title('R^2 Using Test Data')\n",
        "plt.text(3, 0.75, 'Maximum R^2 ')    "
      ]
    },
    {
      "cell_type": "markdown",
      "metadata": {
        "id": "rqAUfeClip20"
      },
      "source": [
        "We see the R^2 gradually increases until an order three polynomial is used. Then, the R^2 dramatically decreases at an order four polynomial.\n"
      ]
    },
    {
      "cell_type": "markdown",
      "metadata": {
        "id": "duUxQ4VEip20"
      },
      "source": [
        "The following function will be used in the next section. Please run the cell below.\n"
      ]
    },
    {
      "cell_type": "code",
      "execution_count": null,
      "metadata": {
        "id": "87Fj0JVlip20"
      },
      "outputs": [],
      "source": [
        "def f(order, test_data):\n",
        "    x_train, x_test, y_train, y_test = train_test_split(x_data, y_data, test_size=test_data, random_state=0)\n",
        "    pr = PolynomialFeatures(degree=order)\n",
        "    x_train_pr = pr.fit_transform(x_train[['horsepower']])\n",
        "    x_test_pr = pr.fit_transform(x_test[['horsepower']])\n",
        "    poly = LinearRegression()\n",
        "    poly.fit(x_train_pr,y_train)\n",
        "    PollyPlot(x_train[['horsepower']], x_test[['horsepower']], y_train,y_test, poly, pr)"
      ]
    },
    {
      "cell_type": "markdown",
      "metadata": {
        "id": "Dio3QTggip20"
      },
      "source": [
        "The following interface allows you to experiment with different polynomial orders and different amounts of data.\n"
      ]
    },
    {
      "cell_type": "code",
      "execution_count": null,
      "metadata": {
        "id": "37hRdmOmip20"
      },
      "outputs": [],
      "source": [
        "interact(f, order=(0, 6, 1), test_data=(0.05, 0.95, 0.05))"
      ]
    },
    {
      "cell_type": "markdown",
      "metadata": {
        "id": "1LebOCB5ip20"
      },
      "source": [
        "<div class=\"alert alert-danger alertdanger\" style=\"margin-top: 20px\">\n",
        "<h1> Question  #4a):</h1>\n",
        "\n",
        "<b>We can perform polynomial transformations with more than one feature. Create a \"PolynomialFeatures\" object \"pr1\" of degree two.</b>\n",
        "\n",
        "</div>\n"
      ]
    },
    {
      "cell_type": "code",
      "execution_count": null,
      "metadata": {
        "id": "ti3ctHy5ip20"
      },
      "outputs": [],
      "source": [
        "# Write your code below and press Shift+Enter to execute \n"
      ]
    },
    {
      "cell_type": "markdown",
      "metadata": {
        "id": "JaubRQD8ip20"
      },
      "source": [
        "<details><summary>Click here for the solution</summary>\n",
        "\n",
        "```python\n",
        "pr1=PolynomialFeatures(degree=2)\n",
        "\n",
        "```\n",
        "\n",
        "</details>\n"
      ]
    },
    {
      "cell_type": "markdown",
      "metadata": {
        "id": "jdlGL2Z8ip20"
      },
      "source": [
        "<div class=\"alert alert-danger alertdanger\" style=\"margin-top: 20px\">\n",
        "<h1> Question  #4b): </h1>\n",
        "\n",
        "<b> \n",
        " Transform the training and testing samples for the features 'horsepower', 'curb-weight', 'engine-size' and 'highway-mpg'. Hint: use the method \"fit_transform\".</b>\n",
        "</div>\n"
      ]
    },
    {
      "cell_type": "code",
      "execution_count": null,
      "metadata": {
        "id": "mYdT3A2Xip20"
      },
      "outputs": [],
      "source": [
        "# Write your code below and press Shift+Enter to execute \n"
      ]
    },
    {
      "cell_type": "markdown",
      "metadata": {
        "id": "ReIJx3v4ip21"
      },
      "source": [
        "<details><summary>Click here for the solution</summary>\n",
        "\n",
        "```python\n",
        "x_train_pr1=pr1.fit_transform(x_train[['horsepower', 'curb-weight', 'engine-size', 'highway-mpg']])\n",
        "\n",
        "x_test_pr1=pr1.fit_transform(x_test[['horsepower', 'curb-weight', 'engine-size', 'highway-mpg']])\n",
        "\n",
        "\n",
        "```\n",
        "\n",
        "</details>\n"
      ]
    },
    {
      "cell_type": "markdown",
      "metadata": {
        "id": "6plbMwcjip21"
      },
      "source": [
        "<!-- The answer is below:\n",
        "\n",
        "x_train_pr1=pr.fit_transform(x_train[['horsepower', 'curb-weight', 'engine-size', 'highway-mpg']])\n",
        "x_test_pr1=pr.fit_transform(x_test[['horsepower', 'curb-weight', 'engine-size', 'highway-mpg']])\n",
        "\n",
        "-->\n"
      ]
    },
    {
      "cell_type": "markdown",
      "metadata": {
        "id": "KLTeHWnWip21"
      },
      "source": [
        "<div class=\"alert alert-danger alertdanger\" style=\"margin-top: 20px\">\n",
        "<h1> Question  #4c): </h1>\n",
        "<b> \n",
        "How many dimensions does the new feature have? Hint: use the attribute \"shape\".\n",
        "</b>\n",
        "</div>\n"
      ]
    },
    {
      "cell_type": "code",
      "execution_count": null,
      "metadata": {
        "id": "IaKXaya9ip21"
      },
      "outputs": [],
      "source": [
        "# Write your code below and press Shift+Enter to execute \n"
      ]
    },
    {
      "cell_type": "markdown",
      "metadata": {
        "id": "TV2-RnIsip21"
      },
      "source": [
        "<details><summary>Click here for the solution</summary>\n",
        "\n",
        "```python\n",
        "x_train_pr1.shape #there are now 15 features\n",
        "\n",
        "\n",
        "```\n",
        "\n",
        "</details>\n"
      ]
    },
    {
      "cell_type": "markdown",
      "metadata": {
        "id": "2JxwgAxoip21"
      },
      "source": [
        "<div class=\"alert alert-danger alertdanger\" style=\"margin-top: 20px\">\n",
        "<h1> Question  #4d): </h1>\n",
        "\n",
        "<b> \n",
        "Create a linear regression model \"poly1\". Train the object using the method \"fit\" using the polynomial features.</b>\n",
        "</div>\n"
      ]
    },
    {
      "cell_type": "code",
      "execution_count": null,
      "metadata": {
        "id": "sX2DmxmIip21"
      },
      "outputs": [],
      "source": [
        "# Write your code below and press Shift+Enter to execute \n"
      ]
    },
    {
      "cell_type": "markdown",
      "metadata": {
        "id": "YXBvl3c1ip21"
      },
      "source": [
        "<details><summary>Click here for the solution</summary>\n",
        "\n",
        "```python\n",
        "poly1=LinearRegression().fit(x_train_pr1,y_train)\n",
        "\n",
        "\n",
        "```\n",
        "\n",
        "</details>\n"
      ]
    },
    {
      "cell_type": "markdown",
      "metadata": {
        "id": "J3KYLoY6ip22"
      },
      "source": [
        " <div class=\"alert alert-danger alertdanger\" style=\"margin-top: 20px\">\n",
        "<h1> Question  #4e): </h1>\n",
        "<b>Use the method  \"predict\" to predict an output on the polynomial features, then use the function \"DistributionPlot\" to display the distribution of the predicted test output vs. the actual test data.</b>\n",
        "</div>\n"
      ]
    },
    {
      "cell_type": "code",
      "execution_count": null,
      "metadata": {
        "id": "RGXNnyhqip22"
      },
      "outputs": [],
      "source": [
        "# Write your code below and press Shift+Enter to execute \n"
      ]
    },
    {
      "cell_type": "markdown",
      "metadata": {
        "id": "YW-w6Fa2ip22"
      },
      "source": [
        "<details><summary>Click here for the solution</summary>\n",
        "\n",
        "```python\n",
        "yhat_test1=poly1.predict(x_test_pr1)\n",
        "\n",
        "Title='Distribution  Plot of  Predicted Value Using Test Data vs Data Distribution of Test Data'\n",
        "\n",
        "DistributionPlot(y_test, yhat_test1, \"Actual Values (Test)\", \"Predicted Values (Test)\", Title)\n",
        "\n",
        "```\n",
        "\n",
        "</details>\n"
      ]
    },
    {
      "cell_type": "markdown",
      "metadata": {
        "id": "Hx5ZMUrbip22"
      },
      "source": [
        "<div class=\"alert alert-danger alertdanger\" style=\"margin-top: 20px\">\n",
        "<h1> Question  #4f): </h1>\n",
        "\n",
        "<b>Using the distribution plot above, describe (in words) the two regions where the predicted prices are less accurate than the actual prices.</b>\n",
        "\n",
        "</div>\n"
      ]
    },
    {
      "cell_type": "code",
      "execution_count": null,
      "metadata": {
        "id": "hXhH8f7iip22"
      },
      "outputs": [],
      "source": [
        "# Write your code below and press Shift+Enter to execute \n"
      ]
    },
    {
      "cell_type": "markdown",
      "metadata": {
        "id": "2Qa1o4W5ip22"
      },
      "source": [
        "<details><summary>Click here for the solution</summary>\n",
        "\n",
        "```python\n",
        "#The predicted value is higher than actual value for cars where the price $10,000 range, conversely the predicted price is lower than the price cost in the $30,000 to $40,000 range. As such the model is not as accurate in these ranges.\n",
        "\n",
        "```\n",
        "\n",
        "</details>\n"
      ]
    },
    {
      "cell_type": "markdown",
      "metadata": {
        "id": "tYhhYhPVip22"
      },
      "source": [
        "<h2 id=\"ref3\">Part 3: Ridge Regression</h2> \n"
      ]
    },
    {
      "cell_type": "markdown",
      "metadata": {
        "id": "p4gpK2gqip22"
      },
      "source": [
        "In this section, we will review Ridge Regression and see how the parameter alpha changes the model. Just a note, here our test data will be used as validation data.\n"
      ]
    },
    {
      "cell_type": "markdown",
      "metadata": {
        "id": "LUlpdmjBip22"
      },
      "source": [
        "Let's perform a degree two polynomial transformation on our data.\n"
      ]
    },
    {
      "cell_type": "code",
      "execution_count": null,
      "metadata": {
        "id": "4dr7Nl5Fip22"
      },
      "outputs": [],
      "source": [
        "pr=PolynomialFeatures(degree=2)\n",
        "x_train_pr=pr.fit_transform(x_train[['horsepower', 'curb-weight', 'engine-size', 'highway-mpg','normalized-losses','symboling']])\n",
        "x_test_pr=pr.fit_transform(x_test[['horsepower', 'curb-weight', 'engine-size', 'highway-mpg','normalized-losses','symboling']])"
      ]
    },
    {
      "cell_type": "markdown",
      "metadata": {
        "id": "R34LfOUkip23"
      },
      "source": [
        "Let's import  <b>Ridge</b>  from the module <b>linear models</b>.\n"
      ]
    },
    {
      "cell_type": "code",
      "execution_count": null,
      "metadata": {
        "id": "ixl2X2KGip23"
      },
      "outputs": [],
      "source": [
        "from sklearn.linear_model import Ridge"
      ]
    },
    {
      "cell_type": "markdown",
      "metadata": {
        "id": "PMw4mCOKip23"
      },
      "source": [
        "Let's create a Ridge regression object, setting the regularization parameter (alpha) to 0.1\n"
      ]
    },
    {
      "cell_type": "code",
      "execution_count": null,
      "metadata": {
        "id": "6xnBH1fdip23"
      },
      "outputs": [],
      "source": [
        "RigeModel=Ridge(alpha=1)"
      ]
    },
    {
      "cell_type": "markdown",
      "metadata": {
        "id": "An6-jQXMip23"
      },
      "source": [
        "Like regular regression, you can fit the model using the method <b>fit</b>.\n"
      ]
    },
    {
      "cell_type": "code",
      "execution_count": null,
      "metadata": {
        "id": "ch6JB-nRip23"
      },
      "outputs": [],
      "source": [
        "RigeModel.fit(x_train_pr, y_train)"
      ]
    },
    {
      "cell_type": "markdown",
      "metadata": {
        "id": "1uChifjuip23"
      },
      "source": [
        "Similarly, you can obtain a prediction:\n"
      ]
    },
    {
      "cell_type": "code",
      "execution_count": null,
      "metadata": {
        "id": "1TlU3oIqip23"
      },
      "outputs": [],
      "source": [
        "yhat = RigeModel.predict(x_test_pr)"
      ]
    },
    {
      "cell_type": "markdown",
      "metadata": {
        "id": "M7-zCuHtip23"
      },
      "source": [
        "Let's compare the first five predicted samples to our test set:\n"
      ]
    },
    {
      "cell_type": "code",
      "execution_count": null,
      "metadata": {
        "id": "805un7DUip24"
      },
      "outputs": [],
      "source": [
        "print('predicted:', yhat[0:4])\n",
        "print('test set :', y_test[0:4].values)"
      ]
    },
    {
      "cell_type": "markdown",
      "metadata": {
        "id": "3mGzTHtpip24"
      },
      "source": [
        "We select the value of alpha that minimizes the test error. To do so, we can use a for loop. We have also created a progress bar to see how many iterations we have completed so far.\n"
      ]
    },
    {
      "cell_type": "code",
      "execution_count": null,
      "metadata": {
        "id": "xyJzl716ip24"
      },
      "outputs": [],
      "source": [
        "from tqdm import tqdm\n",
        "\n",
        "Rsqu_test = []\n",
        "Rsqu_train = []\n",
        "dummy1 = []\n",
        "Alpha = 10 * np.array(range(0,1000))\n",
        "pbar = tqdm(Alpha)\n",
        "\n",
        "for alpha in pbar:\n",
        "    RigeModel = Ridge(alpha=alpha) \n",
        "    RigeModel.fit(x_train_pr, y_train)\n",
        "    test_score, train_score = RigeModel.score(x_test_pr, y_test), RigeModel.score(x_train_pr, y_train)\n",
        "    \n",
        "    pbar.set_postfix({\"Test Score\": test_score, \"Train Score\": train_score})\n",
        "\n",
        "    Rsqu_test.append(test_score)\n",
        "    Rsqu_train.append(train_score)"
      ]
    },
    {
      "cell_type": "markdown",
      "metadata": {
        "id": "Aqm2pKSIip24"
      },
      "source": [
        "We can plot out the value of R^2 for different alphas:\n"
      ]
    },
    {
      "cell_type": "code",
      "execution_count": null,
      "metadata": {
        "id": "GbrxDtJ1ip24"
      },
      "outputs": [],
      "source": [
        "width = 12\n",
        "height = 10\n",
        "plt.figure(figsize=(width, height))\n",
        "\n",
        "plt.plot(Alpha,Rsqu_test, label='validation data  ')\n",
        "plt.plot(Alpha,Rsqu_train, 'r', label='training Data ')\n",
        "plt.xlabel('alpha')\n",
        "plt.ylabel('R^2')\n",
        "plt.legend()"
      ]
    },
    {
      "cell_type": "markdown",
      "metadata": {
        "id": "z00GMNYhip24"
      },
      "source": [
        "**Figure 4**: The blue line represents the R^2 of the validation data, and the red line represents the R^2 of the training data. The x-axis represents the different values of Alpha.\n"
      ]
    },
    {
      "cell_type": "markdown",
      "metadata": {
        "id": "jG5Qk3EGip24"
      },
      "source": [
        "Here the model is built and tested on the same data, so the training and test data are the same.\n",
        "\n",
        "The red line in Figure 4 represents the R^2 of the training data. As alpha increases the R^2 decreases. Therefore, as alpha increases, the model performs worse on the training data\n",
        "\n",
        "The blue line represents the R^2 on the validation data. As the value for alpha increases, the R^2 increases and converges at a point.\n"
      ]
    },
    {
      "cell_type": "markdown",
      "metadata": {
        "id": "phs4UQKnip24"
      },
      "source": [
        "<div class=\"alert alert-danger alertdanger\" style=\"margin-top: 20px\">\n",
        "<h1> Question  #5): </h1>\n",
        "\n",
        "Perform Ridge regression. Calculate the R^2 using the polynomial features, use the training data to train the model and use the test data to test the model. The parameter alpha should be set to 10.\n",
        "\n",
        "</div>\n"
      ]
    },
    {
      "cell_type": "code",
      "execution_count": null,
      "metadata": {
        "id": "2vt6K0Poip24"
      },
      "outputs": [],
      "source": [
        "# Write your code below and press Shift+Enter to execute \n"
      ]
    },
    {
      "cell_type": "markdown",
      "metadata": {
        "id": "zUyvtNmNip25"
      },
      "source": [
        "<details><summary>Click here for the solution</summary>\n",
        "\n",
        "```python\n",
        "RigeModel = Ridge(alpha=10) \n",
        "RigeModel.fit(x_train_pr, y_train)\n",
        "RigeModel.score(x_test_pr, y_test)\n",
        "\n",
        "```\n",
        "\n",
        "</details>\n"
      ]
    },
    {
      "cell_type": "markdown",
      "metadata": {
        "id": "BT8CB6ePip25"
      },
      "source": [
        "<h2 id=\"ref4\">Part 4: Grid Search</h2>\n"
      ]
    },
    {
      "cell_type": "markdown",
      "metadata": {
        "id": "5tN4FW0Zip25"
      },
      "source": [
        "The term alpha is a hyperparameter. Sklearn has the class <b>GridSearchCV</b> to make the process of finding the best hyperparameter simpler.\n"
      ]
    },
    {
      "cell_type": "markdown",
      "metadata": {
        "id": "c0F0h9Iiip25"
      },
      "source": [
        "Let's import <b>GridSearchCV</b> from  the module <b>model_selection</b>.\n"
      ]
    },
    {
      "cell_type": "code",
      "execution_count": null,
      "metadata": {
        "id": "nIE7y_7oip25"
      },
      "outputs": [],
      "source": [
        "from sklearn.model_selection import GridSearchCV"
      ]
    },
    {
      "cell_type": "markdown",
      "metadata": {
        "id": "qYt-jDksip25"
      },
      "source": [
        "We create a dictionary of parameter values:\n"
      ]
    },
    {
      "cell_type": "code",
      "execution_count": null,
      "metadata": {
        "id": "C3DHbpEEip25"
      },
      "outputs": [],
      "source": [
        "parameters1= [{'alpha': [0.001,0.1,1, 10, 100, 1000, 10000, 100000, 100000]}]\n",
        "parameters1"
      ]
    },
    {
      "cell_type": "markdown",
      "metadata": {
        "id": "T9wZ1ocjip25"
      },
      "source": [
        "Create a Ridge regression object:\n"
      ]
    },
    {
      "cell_type": "code",
      "execution_count": null,
      "metadata": {
        "id": "-fhBXAyNip25"
      },
      "outputs": [],
      "source": [
        "RR=Ridge()\n",
        "RR"
      ]
    },
    {
      "cell_type": "markdown",
      "metadata": {
        "id": "GZ9QYXgZip25"
      },
      "source": [
        "Create a ridge grid search object:\n"
      ]
    },
    {
      "cell_type": "code",
      "execution_count": null,
      "metadata": {
        "id": "P9aUsBAvip26"
      },
      "outputs": [],
      "source": [
        "Grid1 = GridSearchCV(RR, parameters1,cv=4)"
      ]
    },
    {
      "cell_type": "markdown",
      "metadata": {
        "id": "W7xPDYynip26"
      },
      "source": [
        "Fit the model:\n"
      ]
    },
    {
      "cell_type": "code",
      "execution_count": null,
      "metadata": {
        "id": "TLibazIHip26"
      },
      "outputs": [],
      "source": [
        "Grid1.fit(x_data[['horsepower', 'curb-weight', 'engine-size', 'highway-mpg']], y_data)"
      ]
    },
    {
      "cell_type": "markdown",
      "metadata": {
        "id": "o4QwuARbip26"
      },
      "source": [
        "The object finds the best parameter values on the validation data. We can obtain the estimator with the best parameters and assign it to the variable BestRR as follows:\n"
      ]
    },
    {
      "cell_type": "code",
      "execution_count": null,
      "metadata": {
        "id": "GRgpgZqHip26"
      },
      "outputs": [],
      "source": [
        "BestRR=Grid1.best_estimator_\n",
        "BestRR"
      ]
    },
    {
      "cell_type": "markdown",
      "metadata": {
        "id": "ZSb9z5moip26"
      },
      "source": [
        "We now test our model on the test data:\n"
      ]
    },
    {
      "cell_type": "code",
      "execution_count": null,
      "metadata": {
        "id": "V77zVKAPip26"
      },
      "outputs": [],
      "source": [
        "BestRR.score(x_test[['horsepower', 'curb-weight', 'engine-size', 'highway-mpg']], y_test)"
      ]
    },
    {
      "cell_type": "markdown",
      "metadata": {
        "id": "ux5UFuqIip26"
      },
      "source": [
        "### Thank you for completing this lab!\n",
        "\n",
        "## Author\n",
        "\n",
        "<a href=\"https://www.linkedin.com/in/joseph-s-50398b136/?utm_medium=Exinfluencer&utm_source=Exinfluencer&utm_content=000026UJ&utm_term=10006555&utm_id=NA-SkillsNetwork-Channel-SkillsNetworkCoursesIBMDeveloperSkillsNetworkDA0101ENSkillsNetwork20235326-2021-01-01\" target=\"_blank\">Joseph Santarcangelo</a>\n",
        "\n",
        "### Other Contributors\n",
        "\n",
        "<a href=\"https://www.linkedin.com/in/mahdi-noorian-58219234/?utm_medium=Exinfluencer&utm_source=Exinfluencer&utm_content=000026UJ&utm_term=10006555&utm_id=NA-SkillsNetwork-Channel-SkillsNetworkCoursesIBMDeveloperSkillsNetworkDA0101ENSkillsNetwork20235326-2021-01-01\" target=\"_blank\">Mahdi Noorian PhD</a>\n",
        "\n",
        "Bahare Talayian\n",
        "\n",
        "Eric Xiao\n",
        "\n",
        "Steven Dong\n",
        "\n",
        "Parizad\n",
        "\n",
        "Hima Vasudevan\n",
        "\n",
        "<a href=\"https://www.linkedin.com/in/fiorellawever/?utm_medium=Exinfluencer&utm_source=Exinfluencer&utm_content=000026UJ&utm_term=10006555&utm_id=NA-SkillsNetwork-Channel-SkillsNetworkCoursesIBMDeveloperSkillsNetworkDA0101ENSkillsNetwork20235326-2021-01-01\" target=\"_blank\">Fiorella Wenver</a>\n",
        "\n",
        "<a href=\"https:// https://www.linkedin.com/in/yi-leng-yao-84451275/ \" target=\"_blank\" >Yi Yao</a>.\n",
        "\n",
        "## Change Log\n",
        "\n",
        "| Date (YYYY-MM-DD) | Version | Changed By | Change Description                         |\n",
        "| ----------------- | ------- | ---------- | ------------------------------------------ |\n",
        "| 2022-08-23        | 2.4     | Malika     | Updated packages by adding keep_going=True |\n",
        "| 2020-10-30        | 2.3     | Lakshmi    | Changed URL of csv                         |\n",
        "| 2020-10-05        | 2.2     | Lakshmi    | Removed unused library imports             |\n",
        "| 2020-09-14        | 2.1     | Lakshmi    | Made changes in OverFitting section        |\n",
        "| 2020-08-27        | 2.0     | Lavanya    | Moved lab to course repo in GitLab         |\n",
        "\n",
        "<hr>\n",
        "\n",
        "## <h3 align=\"center\"> © IBM Corporation 2020. All rights reserved. <h3/>\n"
      ]
    }
  ],
  "metadata": {
    "anaconda-cloud": {},
    "kernelspec": {
      "display_name": "Python 3",
      "language": "python",
      "name": "python3"
    },
    "language_info": {
      "codemirror_mode": {
        "name": "ipython",
        "version": 3
      },
      "file_extension": ".py",
      "mimetype": "text/x-python",
      "name": "python",
      "nbconvert_exporter": "python",
      "pygments_lexer": "ipython3",
      "version": "3.7.6"
    },
    "metadata": {
      "interpreter": {
        "hash": "ac2eaa0ea0ebeafcc7822e65e46aa9d4f966f30b695406963e145ea4a91cd4fc"
      }
    },
    "colab": {
      "provenance": [],
      "include_colab_link": true
    }
  },
  "nbformat": 4,
  "nbformat_minor": 0
}