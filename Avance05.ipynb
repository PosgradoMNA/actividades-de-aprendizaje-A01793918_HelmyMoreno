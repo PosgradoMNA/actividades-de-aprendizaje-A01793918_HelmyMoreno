{
  "nbformat": 4,
  "nbformat_minor": 0,
  "metadata": {
    "colab": {
      "provenance": [],
      "authorship_tag": "ABX9TyP7S9D5PR73RbfaN+vCTPa2",
      "include_colab_link": true
    },
    "kernelspec": {
      "name": "python3",
      "display_name": "Python 3"
    },
    "language_info": {
      "name": "python"
    }
  },
  "cells": [
    {
      "cell_type": "markdown",
      "metadata": {
        "id": "view-in-github",
        "colab_type": "text"
      },
      "source": [
        "<a href=\"https://colab.research.google.com/github/PosgradoMNA/actividades-de-aprendizaje-Handrum/blob/main/Avance05.ipynb\" target=\"_parent\"><img src=\"https://colab.research.google.com/assets/colab-badge.svg\" alt=\"Open In Colab\"/></a>"
      ]
    },
    {
      "cell_type": "code",
      "execution_count": 1,
      "metadata": {
        "colab": {
          "base_uri": "https://localhost:8080/"
        },
        "id": "zn0hm2WhvB61",
        "outputId": "fa3744cd-d89c-4000-bcfb-a794e4a68f8d"
      },
      "outputs": [
        {
          "output_type": "stream",
          "name": "stdout",
          "text": [
            "CONDICIONALES EN PYTHON\n"
          ]
        }
      ],
      "source": [
        "print (\"CONDICIONALES EN PYTHON\")"
      ]
    },
    {
      "cell_type": "markdown",
      "source": [
        "**Declaraciones de condición**\n",
        "\n",
        "Las operaciones de comparación comparan algún valor u operando y, en función de una condición, producen un valor booleano. Al comparar dos valores, puede utilizar estos operadores:\n",
        "\n",
        "*   igual: ==\n",
        "*   no igual: !=\n",
        "*   mayor que: >\n",
        "*   menos que: <\n",
        "*   mayor o igual que: >=\n",
        "*   menor o igual que: <=\n",
        "\n",
        "El siguiente caso compara la variable a con 6:\n",
        "\n",
        "        a = 5\n",
        "        a == 6\n",
        "    **Its False**\n",
        "Si i es igual a 6, porque 6 es mayor que 5, la salida es True:\n",
        "\n",
        "        i = 6\n",
        "        i > 5\n",
        "    **Its True**\n",
        "\n",
        "        i = 2\n",
        "        i > 5\n",
        "    **Its False**\n",
        "\n",
        "La prueba de desigualdad usa un signo de exclamación que precede al signo igual, si dos operandos no son iguales, la condición se vuelve **verdadera**.\n",
        "\n",
        "        i = 2\n",
        "        i != 6\n",
        "    **Its True**\n",
        "\n",
        "Cuando i es igual a 6, la expresión de desigualdad produce Falso.\n",
        "\n",
        "        i = 6\n",
        "        i != 6\n",
        "    **Its False**\n",
        "\n",
        "\n",
        "\n",
        "      \n",
        "      \n",
        "      \n",
        "      \n",
        "      "
      ],
      "metadata": {
        "id": "RnCnrZKovzro"
      }
    }
  ]
}