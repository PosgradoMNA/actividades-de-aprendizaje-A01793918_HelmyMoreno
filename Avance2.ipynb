{
  "nbformat": 4,
  "nbformat_minor": 0,
  "metadata": {
    "colab": {
      "provenance": [],
      "authorship_tag": "ABX9TyPkaYZ/IkjtqozIfuYpXrTD",
      "include_colab_link": true
    },
    "kernelspec": {
      "name": "python3",
      "display_name": "Python 3"
    },
    "language_info": {
      "name": "python"
    }
  },
  "cells": [
    {
      "cell_type": "markdown",
      "metadata": {
        "id": "view-in-github",
        "colab_type": "text"
      },
      "source": [
        "<a href=\"https://colab.research.google.com/github/PosgradoMNA/actividades-de-aprendizaje-Handrum/blob/main/Avance2.ipynb\" target=\"_parent\"><img src=\"https://colab.research.google.com/assets/colab-badge.svg\" alt=\"Open In Colab\"/></a>"
      ]
    },
    {
      "cell_type": "code",
      "execution_count": 1,
      "metadata": {
        "id": "jjBzhNy3qPdE",
        "colab": {
          "base_uri": "https://localhost:8080/"
        },
        "outputId": "7511130f-1426-4b14-c92c-505881f35fb4"
      },
      "outputs": [
        {
          "output_type": "stream",
          "name": "stdout",
          "text": [
            "Writing Your First Python Code\n"
          ]
        }
      ],
      "source": [
        "print (\"Writing Your First Python Code\")"
      ]
    },
    {
      "cell_type": "markdown",
      "source": [
        "**OBJETIVOS DE ESCRIBIR MI PRIMER CÓDIGO**\n",
        "\n",
        "\n",
        "1.   Tipos de datos\n",
        "1.   Elemento de lista\n",
        "2.   Convertir los tipos de datos a otro\n",
        "2.   Usar expresiones y variables para realizar operaciones"
      ],
      "metadata": {
        "id": "2VYx2dBVeuZN"
      }
    },
    {
      "cell_type": "markdown",
      "source": [
        "**Revisión de versión**\n",
        "\n",
        "La versión 3 es la versión donde actualmente se trabajan los proyectos. Cómo se verifica en el sistema?\n",
        "\n",
        "Ejecuta el siguiente código:"
      ],
      "metadata": {
        "id": "e_mn6ogBfYsj"
      }
    },
    {
      "cell_type": "code",
      "source": [
        "# Check the Python Version\n",
        "\n",
        "import sys\n",
        "print(sys.version)"
      ],
      "metadata": {
        "colab": {
          "base_uri": "https://localhost:8080/"
        },
        "id": "nS3mXP2Qh51r",
        "outputId": "68123255-305d-476a-ed2d-a31191c10090"
      },
      "execution_count": 2,
      "outputs": [
        {
          "output_type": "stream",
          "name": "stdout",
          "text": [
            "3.7.14 (default, Sep  8 2022, 00:06:44) \n",
            "[GCC 7.5.0]\n"
          ]
        }
      ]
    },
    {
      "cell_type": "markdown",
      "source": [
        "**sys** es un **módulo integrado** que contiene muchos **parámetros** y **funciones**. Antes de usarlo se debe importa."
      ],
      "metadata": {
        "id": "f0ahDR4LisVR"
      }
    },
    {
      "cell_type": "markdown",
      "source": [
        "**Mi primer línea de código**\n",
        "\n",
        "**Print**() es una función. Imprime la instrucción o argumnento que tenga dentro de los paréntesis. Ejemplo:"
      ],
      "metadata": {
        "id": "lJjvSTAZh-Rq"
      }
    },
    {
      "cell_type": "code",
      "source": [
        "# Try your first Python output\n",
        "\n",
        "print('Hello, Python!')"
      ],
      "metadata": {
        "colab": {
          "base_uri": "https://localhost:8080/"
        },
        "id": "hd6wjYh5ifTy",
        "outputId": "2f6a799c-c676-4f46-8328-5213c21a15b3"
      },
      "execution_count": 3,
      "outputs": [
        {
          "output_type": "stream",
          "name": "stdout",
          "text": [
            "Hello, Python!\n"
          ]
        }
      ]
    },
    {
      "cell_type": "markdown",
      "source": [
        "Comentarios (**commentt**) en Pyton:\n",
        "\n",
        "Es una metodología que se aplica con el fin de darle orden al código que se escribe al programar. Ayuda tanto a la persona que lo realiza como a cualquier desarrolador que desee verificar o testear el código, ya sea en el momento o posteriormente.\n",
        "\n",
        "En Python se usa el símbolo # al comenzar el comentario. Cabe decir que estas líneas no son ejecutable ni visibles al imprimir el código. Quedan únicamente para el backend que realiza el código. Ejemplo:"
      ],
      "metadata": {
        "id": "oZbjurUuiiLx"
      }
    },
    {
      "cell_type": "code",
      "source": [
        "# Practice on writing comments\n",
        "\n",
        "print('Hello, Python!') # This line prints a string\n",
        "# print('Hi')"
      ],
      "metadata": {
        "colab": {
          "base_uri": "https://localhost:8080/"
        },
        "id": "s-62dtJ6j_Yq",
        "outputId": "190bbfa5-1686-4318-8666-c0d7333c484b"
      },
      "execution_count": 5,
      "outputs": [
        {
          "output_type": "stream",
          "name": "stdout",
          "text": [
            "Hello, Python!\n"
          ]
        }
      ]
    },
    {
      "cell_type": "markdown",
      "source": [
        "**Tipos de Errores en Python**\n",
        "\n",
        "Error de escritura de una función que no ha sido definida previamente, el sistema lo desconoce indicando el TIPO DE ERROR (**NameError**) y la línea que contiene el error. Ejemplo:"
      ],
      "metadata": {
        "id": "6uKph7b2lAJI"
      }
    },
    {
      "cell_type": "code",
      "source": [
        "# Print string as error message\n",
        "\n",
        "frint(\"Hello, Python!\")"
      ],
      "metadata": {
        "colab": {
          "base_uri": "https://localhost:8080/",
          "height": 211
        },
        "id": "Jfs8YTpqlYOv",
        "outputId": "09362c8d-efd4-4694-b017-b3438a4329ee"
      },
      "execution_count": 6,
      "outputs": [
        {
          "output_type": "error",
          "ename": "NameError",
          "evalue": "ignored",
          "traceback": [
            "\u001b[0;31m---------------------------------------------------------------------------\u001b[0m",
            "\u001b[0;31mNameError\u001b[0m                                 Traceback (most recent call last)",
            "\u001b[0;32m<ipython-input-6-313a1769a8a5>\u001b[0m in \u001b[0;36m<module>\u001b[0;34m\u001b[0m\n\u001b[1;32m      1\u001b[0m \u001b[0;31m# Print string as error message\u001b[0m\u001b[0;34m\u001b[0m\u001b[0;34m\u001b[0m\u001b[0;34m\u001b[0m\u001b[0m\n\u001b[1;32m      2\u001b[0m \u001b[0;34m\u001b[0m\u001b[0m\n\u001b[0;32m----> 3\u001b[0;31m \u001b[0mfrint\u001b[0m\u001b[0;34m(\u001b[0m\u001b[0;34m\"Hello, Python!\"\u001b[0m\u001b[0;34m)\u001b[0m\u001b[0;34m\u001b[0m\u001b[0;34m\u001b[0m\u001b[0m\n\u001b[0m",
            "\u001b[0;31mNameError\u001b[0m: name 'frint' is not defined"
          ]
        }
      ]
    },
    {
      "cell_type": "markdown",
      "source": [
        "Ahora bien si no se cierra la cadena, nos arrojaría otro TIPO DE ERROR (**SyntaxError:**). Ejemplo:"
      ],
      "metadata": {
        "id": "VmIeLEQfmO94"
      }
    },
    {
      "cell_type": "code",
      "source": [
        "# Try to see built-in error message\n",
        "\n",
        "print(\"Hello, Python!)"
      ],
      "metadata": {
        "colab": {
          "base_uri": "https://localhost:8080/",
          "height": 137
        },
        "id": "_ln4chtYmby3",
        "outputId": "3eeeaa95-bc39-4a10-992b-adaa25b6d79a"
      },
      "execution_count": 7,
      "outputs": [
        {
          "output_type": "error",
          "ename": "SyntaxError",
          "evalue": "ignored",
          "traceback": [
            "\u001b[0;36m  File \u001b[0;32m\"<ipython-input-7-f0b5a635e1a2>\"\u001b[0;36m, line \u001b[0;32m3\u001b[0m\n\u001b[0;31m    print(\"Hello, Python!)\u001b[0m\n\u001b[0m                          ^\u001b[0m\n\u001b[0;31mSyntaxError\u001b[0m\u001b[0;31m:\u001b[0m EOL while scanning string literal\n"
          ]
        }
      ]
    },
    {
      "cell_type": "markdown",
      "source": [
        "**NOTA IMPORTANTE:** \"Python es un lenguaje **INTERPRETADO**. Por lo anterior, Python interpreta línea por línea y dejará de ejecutar todo el programa cuando encuentre un error hasta que lo encontremos\". Por lo anterior, no lo ejecutará.\n",
        "\n",
        "Ejemplo:"
      ],
      "metadata": {
        "id": "-jq0dmFfnksX"
      }
    },
    {
      "cell_type": "code",
      "source": [
        "# Print string and error to see the running order\n",
        "\n",
        "print(\"This will be printed\")\n",
        "frint(\"This will cause an error\")\n",
        "print(\"This will NOT be printed\")"
      ],
      "metadata": {
        "colab": {
          "base_uri": "https://localhost:8080/",
          "height": 248
        },
        "id": "ya1VDxZxoqBv",
        "outputId": "cfd8befe-68ff-44ec-ef34-d759d17f9ff3"
      },
      "execution_count": 8,
      "outputs": [
        {
          "output_type": "stream",
          "name": "stdout",
          "text": [
            "This will be printed\n"
          ]
        },
        {
          "output_type": "error",
          "ename": "NameError",
          "evalue": "ignored",
          "traceback": [
            "\u001b[0;31m---------------------------------------------------------------------------\u001b[0m",
            "\u001b[0;31mNameError\u001b[0m                                 Traceback (most recent call last)",
            "\u001b[0;32m<ipython-input-8-af59af1b345d>\u001b[0m in \u001b[0;36m<module>\u001b[0;34m\u001b[0m\n\u001b[1;32m      2\u001b[0m \u001b[0;34m\u001b[0m\u001b[0m\n\u001b[1;32m      3\u001b[0m \u001b[0mprint\u001b[0m\u001b[0;34m(\u001b[0m\u001b[0;34m\"This will be printed\"\u001b[0m\u001b[0;34m)\u001b[0m\u001b[0;34m\u001b[0m\u001b[0;34m\u001b[0m\u001b[0m\n\u001b[0;32m----> 4\u001b[0;31m \u001b[0mfrint\u001b[0m\u001b[0;34m(\u001b[0m\u001b[0;34m\"This will cause an error\"\u001b[0m\u001b[0;34m)\u001b[0m\u001b[0;34m\u001b[0m\u001b[0;34m\u001b[0m\u001b[0m\n\u001b[0m\u001b[1;32m      5\u001b[0m \u001b[0mprint\u001b[0m\u001b[0;34m(\u001b[0m\u001b[0;34m\"This will NOT be printed\"\u001b[0m\u001b[0;34m)\u001b[0m\u001b[0;34m\u001b[0m\u001b[0;34m\u001b[0m\u001b[0m\n",
            "\u001b[0;31mNameError\u001b[0m: name 'frint' is not defined"
          ]
        }
      ]
    },
    {
      "cell_type": "markdown",
      "source": [
        "**Exercise: Your First Program**"
      ],
      "metadata": {
        "id": "APOxHga-pCwF"
      }
    },
    {
      "cell_type": "code",
      "source": [
        "# Write your code below. Don't forget to press Shift+Enter to execute the cell\n",
        "\n",
        "print(\"Hello, world!\")"
      ],
      "metadata": {
        "colab": {
          "base_uri": "https://localhost:8080/"
        },
        "id": "ZYQJ2v3EpFJ9",
        "outputId": "d16cf51a-048b-4f2f-9df4-a69078f98f4b"
      },
      "execution_count": 9,
      "outputs": [
        {
          "output_type": "stream",
          "name": "stdout",
          "text": [
            "Hello, world!\n"
          ]
        }
      ]
    },
    {
      "cell_type": "code",
      "source": [
        "#Print the traditional hello world</code> all in one line of code.\n",
        "\n",
        "print(\"Hello, world!\") # Print the traditional hello world"
      ],
      "metadata": {
        "colab": {
          "base_uri": "https://localhost:8080/"
        },
        "id": "TmmQHSkPqCCW",
        "outputId": "179f9dbe-daf6-4528-8e71-88e1694697b1"
      },
      "execution_count": 12,
      "outputs": [
        {
          "output_type": "stream",
          "name": "stdout",
          "text": [
            "Hello, world!\n"
          ]
        }
      ]
    },
    {
      "cell_type": "markdown",
      "source": [
        "TIPOS DE OBJETOS EN **PYTHON**\n",
        "\n",
        "**Números**:\n",
        "Racionales o Irracionales (En Python se conocen como ENTEROS (**Int**) o Flotantes (**float**))\n",
        "\n",
        "Palabras o cadena de caracteres: En Python se conocen como **STRING**\n",
        "\n"
      ],
      "metadata": {
        "id": "yFRYnuZ8qsh9"
      }
    }
  ]
}