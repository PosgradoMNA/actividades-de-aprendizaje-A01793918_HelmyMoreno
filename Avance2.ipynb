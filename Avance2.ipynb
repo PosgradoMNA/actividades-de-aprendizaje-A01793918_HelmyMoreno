{
  "nbformat": 4,
  "nbformat_minor": 0,
  "metadata": {
    "colab": {
      "provenance": [],
      "authorship_tag": "ABX9TyNyzKBDuN9JHmzV4SQxBx5d",
      "include_colab_link": true
    },
    "kernelspec": {
      "name": "python3",
      "display_name": "Python 3"
    },
    "language_info": {
      "name": "python"
    }
  },
  "cells": [
    {
      "cell_type": "markdown",
      "metadata": {
        "id": "view-in-github",
        "colab_type": "text"
      },
      "source": [
        "<a href=\"https://colab.research.google.com/github/PosgradoMNA/actividades-de-aprendizaje-Handrum/blob/main/Avance2.ipynb\" target=\"_parent\"><img src=\"https://colab.research.google.com/assets/colab-badge.svg\" alt=\"Open In Colab\"/></a>"
      ]
    },
    {
      "cell_type": "code",
      "execution_count": 1,
      "metadata": {
        "id": "jjBzhNy3qPdE",
        "colab": {
          "base_uri": "https://localhost:8080/"
        },
        "outputId": "7511130f-1426-4b14-c92c-505881f35fb4"
      },
      "outputs": [
        {
          "output_type": "stream",
          "name": "stdout",
          "text": [
            "Writing Your First Python Code\n"
          ]
        }
      ],
      "source": [
        "print (\"Writing Your First Python Code\")"
      ]
    },
    {
      "cell_type": "markdown",
      "source": [
        "**OBJETIVOS DE ESCRIBIR MI PRIMER CÓDIGO**\n",
        "\n",
        "\n",
        "1.   Tipos de datos\n",
        "1.   Elemento de lista\n",
        "2.   Convertir los tipos de datos a otro\n",
        "2.   Usar expresiones y variables para realizar operaciones"
      ],
      "metadata": {
        "id": "2VYx2dBVeuZN"
      }
    },
    {
      "cell_type": "markdown",
      "source": [
        "**Revisión de versión**\n",
        "\n",
        "La versión 3 es la versión donde actualmente se trabajan los proyectos. Cómo se verifica en el sistema?\n",
        "\n",
        "Ejecuta el siguiente código:"
      ],
      "metadata": {
        "id": "e_mn6ogBfYsj"
      }
    },
    {
      "cell_type": "code",
      "source": [
        "# Check the Python Version\n",
        "\n",
        "import sys\n",
        "print(sys.version)"
      ],
      "metadata": {
        "colab": {
          "base_uri": "https://localhost:8080/"
        },
        "id": "nS3mXP2Qh51r",
        "outputId": "68123255-305d-476a-ed2d-a31191c10090"
      },
      "execution_count": 2,
      "outputs": [
        {
          "output_type": "stream",
          "name": "stdout",
          "text": [
            "3.7.14 (default, Sep  8 2022, 00:06:44) \n",
            "[GCC 7.5.0]\n"
          ]
        }
      ]
    },
    {
      "cell_type": "markdown",
      "source": [
        "**sys** es un **módulo integrado** que contiene muchos **parámetros** y **funciones**. Antes de usarlo se debe importa."
      ],
      "metadata": {
        "id": "f0ahDR4LisVR"
      }
    },
    {
      "cell_type": "markdown",
      "source": [
        "**Mi primer línea de código**\n",
        "\n",
        "**Print**() es una función. Imprime la instrucción o argumnento que tenga dentro de los paréntesis. Ejemplo:"
      ],
      "metadata": {
        "id": "lJjvSTAZh-Rq"
      }
    },
    {
      "cell_type": "code",
      "source": [
        "# Try your first Python output\n",
        "\n",
        "print('Hello, Python!')"
      ],
      "metadata": {
        "colab": {
          "base_uri": "https://localhost:8080/"
        },
        "id": "hd6wjYh5ifTy",
        "outputId": "2f6a799c-c676-4f46-8328-5213c21a15b3"
      },
      "execution_count": 3,
      "outputs": [
        {
          "output_type": "stream",
          "name": "stdout",
          "text": [
            "Hello, Python!\n"
          ]
        }
      ]
    },
    {
      "cell_type": "markdown",
      "source": [
        "Comentarios (**commentt**) en Pyton:\n",
        "\n",
        "Es una metodología que se aplica con el fin de darle orden al código que se escribe al programar. Ayuda tanto a la persona que lo realiza como a cualquier desarrolador que desee verificar o testear el código, ya sea en el momento o posteriormente.\n",
        "\n",
        "En Python se usa el símbolo # al comenzar el comentario. Cabe decir que estas líneas no son ejecutable ni visibles al imprimir el código. Quedan únicamente para el backend que realiza el código. Ejemplo:"
      ],
      "metadata": {
        "id": "oZbjurUuiiLx"
      }
    },
    {
      "cell_type": "code",
      "source": [
        "# Practice on writing comments\n",
        "\n",
        "print('Hello, Python!') # This line prints a string\n",
        "# print('Hi')"
      ],
      "metadata": {
        "colab": {
          "base_uri": "https://localhost:8080/"
        },
        "id": "s-62dtJ6j_Yq",
        "outputId": "190bbfa5-1686-4318-8666-c0d7333c484b"
      },
      "execution_count": 5,
      "outputs": [
        {
          "output_type": "stream",
          "name": "stdout",
          "text": [
            "Hello, Python!\n"
          ]
        }
      ]
    },
    {
      "cell_type": "markdown",
      "source": [
        "**Tipos de Errores en Python**\n",
        "\n",
        "Error de escritura de una función que no ha sido definida previamente, el sistema lo desconoce indicando el TIPO DE ERROR (**NameError**) y la línea que contiene el error. Ejemplo:"
      ],
      "metadata": {
        "id": "6uKph7b2lAJI"
      }
    },
    {
      "cell_type": "code",
      "source": [
        "# Print string as error message\n",
        "\n",
        "frint(\"Hello, Python!\")"
      ],
      "metadata": {
        "colab": {
          "base_uri": "https://localhost:8080/",
          "height": 211
        },
        "id": "Jfs8YTpqlYOv",
        "outputId": "09362c8d-efd4-4694-b017-b3438a4329ee"
      },
      "execution_count": 6,
      "outputs": [
        {
          "output_type": "error",
          "ename": "NameError",
          "evalue": "ignored",
          "traceback": [
            "\u001b[0;31m---------------------------------------------------------------------------\u001b[0m",
            "\u001b[0;31mNameError\u001b[0m                                 Traceback (most recent call last)",
            "\u001b[0;32m<ipython-input-6-313a1769a8a5>\u001b[0m in \u001b[0;36m<module>\u001b[0;34m\u001b[0m\n\u001b[1;32m      1\u001b[0m \u001b[0;31m# Print string as error message\u001b[0m\u001b[0;34m\u001b[0m\u001b[0;34m\u001b[0m\u001b[0;34m\u001b[0m\u001b[0m\n\u001b[1;32m      2\u001b[0m \u001b[0;34m\u001b[0m\u001b[0m\n\u001b[0;32m----> 3\u001b[0;31m \u001b[0mfrint\u001b[0m\u001b[0;34m(\u001b[0m\u001b[0;34m\"Hello, Python!\"\u001b[0m\u001b[0;34m)\u001b[0m\u001b[0;34m\u001b[0m\u001b[0;34m\u001b[0m\u001b[0m\n\u001b[0m",
            "\u001b[0;31mNameError\u001b[0m: name 'frint' is not defined"
          ]
        }
      ]
    },
    {
      "cell_type": "markdown",
      "source": [
        "Ahora bien si no se cierra la cadena, nos arrojaría otro TIPO DE ERROR (**SyntaxError:**). Ejemplo:"
      ],
      "metadata": {
        "id": "VmIeLEQfmO94"
      }
    },
    {
      "cell_type": "code",
      "source": [
        "# Try to see built-in error message, SyntaxError\n",
        "\n",
        "print(\"Hello, Python!)"
      ],
      "metadata": {
        "colab": {
          "base_uri": "https://localhost:8080/",
          "height": 137
        },
        "id": "_ln4chtYmby3",
        "outputId": "3eeeaa95-bc39-4a10-992b-adaa25b6d79a"
      },
      "execution_count": 7,
      "outputs": [
        {
          "output_type": "error",
          "ename": "SyntaxError",
          "evalue": "ignored",
          "traceback": [
            "\u001b[0;36m  File \u001b[0;32m\"<ipython-input-7-f0b5a635e1a2>\"\u001b[0;36m, line \u001b[0;32m3\u001b[0m\n\u001b[0;31m    print(\"Hello, Python!)\u001b[0m\n\u001b[0m                          ^\u001b[0m\n\u001b[0;31mSyntaxError\u001b[0m\u001b[0;31m:\u001b[0m EOL while scanning string literal\n"
          ]
        }
      ]
    },
    {
      "cell_type": "markdown",
      "source": [
        "**NOTA IMPORTANTE:** \"Python es un lenguaje **INTERPRETADO**. Por lo anterior, Python interpreta línea por línea y dejará de ejecutar todo el programa cuando encuentre un error hasta que lo encontremos\". Por lo anterior, no lo ejecutará.\n",
        "\n",
        "https://labs.cognitiveclass.ai/v2/tools/jupyterlite?ulid=ulid-fb1155ab19470bd3993c74fc957af30167689886\n",
        "\n",
        "Ejemplo:"
      ],
      "metadata": {
        "id": "-jq0dmFfnksX"
      }
    },
    {
      "cell_type": "code",
      "source": [
        "# Print string and error NameError to see the running order\n",
        "\n",
        "print(\"This will be printed\")\n",
        "frint(\"This will cause an error\")\n",
        "print(\"This will NOT be printed\")"
      ],
      "metadata": {
        "colab": {
          "base_uri": "https://localhost:8080/",
          "height": 248
        },
        "id": "ya1VDxZxoqBv",
        "outputId": "cfd8befe-68ff-44ec-ef34-d759d17f9ff3"
      },
      "execution_count": 8,
      "outputs": [
        {
          "output_type": "stream",
          "name": "stdout",
          "text": [
            "This will be printed\n"
          ]
        },
        {
          "output_type": "error",
          "ename": "NameError",
          "evalue": "ignored",
          "traceback": [
            "\u001b[0;31m---------------------------------------------------------------------------\u001b[0m",
            "\u001b[0;31mNameError\u001b[0m                                 Traceback (most recent call last)",
            "\u001b[0;32m<ipython-input-8-af59af1b345d>\u001b[0m in \u001b[0;36m<module>\u001b[0;34m\u001b[0m\n\u001b[1;32m      2\u001b[0m \u001b[0;34m\u001b[0m\u001b[0m\n\u001b[1;32m      3\u001b[0m \u001b[0mprint\u001b[0m\u001b[0;34m(\u001b[0m\u001b[0;34m\"This will be printed\"\u001b[0m\u001b[0;34m)\u001b[0m\u001b[0;34m\u001b[0m\u001b[0;34m\u001b[0m\u001b[0m\n\u001b[0;32m----> 4\u001b[0;31m \u001b[0mfrint\u001b[0m\u001b[0;34m(\u001b[0m\u001b[0;34m\"This will cause an error\"\u001b[0m\u001b[0;34m)\u001b[0m\u001b[0;34m\u001b[0m\u001b[0;34m\u001b[0m\u001b[0m\n\u001b[0m\u001b[1;32m      5\u001b[0m \u001b[0mprint\u001b[0m\u001b[0;34m(\u001b[0m\u001b[0;34m\"This will NOT be printed\"\u001b[0m\u001b[0;34m)\u001b[0m\u001b[0;34m\u001b[0m\u001b[0;34m\u001b[0m\u001b[0m\n",
            "\u001b[0;31mNameError\u001b[0m: name 'frint' is not defined"
          ]
        }
      ]
    },
    {
      "cell_type": "code",
      "source": [
        "#Ejemplo ERROR de VALOR \"ValueERROR\":\n",
        "\n",
        "int('1 or 2 people')"
      ],
      "metadata": {
        "colab": {
          "base_uri": "https://localhost:8080/",
          "height": 211
        },
        "id": "dndV397TyUD5",
        "outputId": "8628258a-ad79-48d1-b441-0619194d0956"
      },
      "execution_count": 24,
      "outputs": [
        {
          "output_type": "error",
          "ename": "ValueError",
          "evalue": "ignored",
          "traceback": [
            "\u001b[0;31m---------------------------------------------------------------------------\u001b[0m",
            "\u001b[0;31mValueError\u001b[0m                                Traceback (most recent call last)",
            "\u001b[0;32m<ipython-input-24-150ceb18cd46>\u001b[0m in \u001b[0;36m<module>\u001b[0;34m\u001b[0m\n\u001b[1;32m      1\u001b[0m \u001b[0;31m#Ejemplo ERROR de VALOR:\u001b[0m\u001b[0;34m\u001b[0m\u001b[0;34m\u001b[0m\u001b[0;34m\u001b[0m\u001b[0m\n\u001b[1;32m      2\u001b[0m \u001b[0;34m\u001b[0m\u001b[0m\n\u001b[0;32m----> 3\u001b[0;31m \u001b[0mint\u001b[0m\u001b[0;34m(\u001b[0m\u001b[0;34m'1 or 2 people'\u001b[0m\u001b[0;34m)\u001b[0m\u001b[0;34m\u001b[0m\u001b[0;34m\u001b[0m\u001b[0m\n\u001b[0m",
            "\u001b[0;31mValueError\u001b[0m: invalid literal for int() with base 10: '1 or 2 people'"
          ]
        }
      ]
    },
    {
      "cell_type": "markdown",
      "source": [
        "**Exercise: Your First Program**"
      ],
      "metadata": {
        "id": "APOxHga-pCwF"
      }
    },
    {
      "cell_type": "code",
      "source": [
        "# Write your code below. Don't forget to press Shift+Enter to execute the cell\n",
        "\n",
        "print(\"Hello, world!\")"
      ],
      "metadata": {
        "colab": {
          "base_uri": "https://localhost:8080/"
        },
        "id": "ZYQJ2v3EpFJ9",
        "outputId": "d16cf51a-048b-4f2f-9df4-a69078f98f4b"
      },
      "execution_count": 9,
      "outputs": [
        {
          "output_type": "stream",
          "name": "stdout",
          "text": [
            "Hello, world!\n"
          ]
        }
      ]
    },
    {
      "cell_type": "code",
      "source": [
        "#Print the traditional hello world</code> all in one line of code.\n",
        "\n",
        "print(\"Hello, world!\") # Print the traditional hello world"
      ],
      "metadata": {
        "colab": {
          "base_uri": "https://localhost:8080/"
        },
        "id": "TmmQHSkPqCCW",
        "outputId": "179f9dbe-daf6-4528-8e71-88e1694697b1"
      },
      "execution_count": 12,
      "outputs": [
        {
          "output_type": "stream",
          "name": "stdout",
          "text": [
            "Hello, world!\n"
          ]
        }
      ]
    },
    {
      "cell_type": "markdown",
      "source": [
        "**1. TIPOS DE OBJETOS (DATOS) EN PYTHON**\n",
        "\n",
        "**Números**:\n",
        "Racionales o Irracionales (En Python se conocen como **ENTEROS** (**int**) o **FLOTANTES** (**float**))\n",
        "\n",
        "Palabras o cadena de caracteres: En Python se conocen como **STRING** (**str**)\n",
        "\n",
        "Para conocer que tipo de objeto es una expresión dada se coloca la **función** **type()** colocando la expresión dentro del paréntesis. Ejemplo:"
      ],
      "metadata": {
        "id": "yFRYnuZ8qsh9"
      }
    },
    {
      "cell_type": "code",
      "source": [
        "type(9)"
      ],
      "metadata": {
        "colab": {
          "base_uri": "https://localhost:8080/"
        },
        "id": "VqVANeCSssHV",
        "outputId": "8a1e54a1-4c19-4d28-f45e-adab54ce8dcf"
      },
      "execution_count": 14,
      "outputs": [
        {
          "output_type": "execute_result",
          "data": {
            "text/plain": [
              "int"
            ]
          },
          "metadata": {},
          "execution_count": 14
        }
      ]
    },
    {
      "cell_type": "code",
      "source": [
        "type(\"Hello world\")"
      ],
      "metadata": {
        "colab": {
          "base_uri": "https://localhost:8080/"
        },
        "id": "nwFE3nfZsyRr",
        "outputId": "537c500c-3bc5-4137-cffb-e1cde06210bf"
      },
      "execution_count": 15,
      "outputs": [
        {
          "output_type": "execute_result",
          "data": {
            "text/plain": [
              "str"
            ]
          },
          "metadata": {},
          "execution_count": 15
        }
      ]
    },
    {
      "cell_type": "code",
      "source": [
        "type(0.25)"
      ],
      "metadata": {
        "colab": {
          "base_uri": "https://localhost:8080/"
        },
        "id": "dvCpvwcOs3op",
        "outputId": "4bdd70a5-0d37-4c1c-b0c1-922677e1e38d"
      },
      "execution_count": 16,
      "outputs": [
        {
          "output_type": "execute_result",
          "data": {
            "text/plain": [
              "float"
            ]
          },
          "metadata": {},
          "execution_count": 16
        }
      ]
    },
    {
      "cell_type": "markdown",
      "source": [
        "**NOTA IMPORTANTE:** \"Puede obtener más información sobre las especificaciones de los elementos flotantes para su entorno de tiempo de ejecución comprobando el valor de sys.float_info. Esto también te dirá cuál es el número más grande y más pequeño que se puede representar con ellos.\"\n",
        "\n",
        "https://labs.cognitiveclass.ai/v2/tools/jupyterlite?ulid=ulid-fb1155ab19470bd3993c74fc957af30167689886\n",
        "\n",
        "Ejemplo:"
      ],
      "metadata": {
        "id": "1Z5y4Jt-tgQs"
      }
    },
    {
      "cell_type": "code",
      "source": [
        "# System settings about float type\n",
        "\n",
        "sys.float_info"
      ],
      "metadata": {
        "colab": {
          "base_uri": "https://localhost:8080/"
        },
        "id": "KbG8Jj84t7Ws",
        "outputId": "c71cd5b9-2fae-4927-bd80-3725fd4168d3"
      },
      "execution_count": 17,
      "outputs": [
        {
          "output_type": "execute_result",
          "data": {
            "text/plain": [
              "sys.float_info(max=1.7976931348623157e+308, max_exp=1024, max_10_exp=308, min=2.2250738585072014e-308, min_exp=-1021, min_10_exp=-307, dig=15, mant_dig=53, epsilon=2.220446049250313e-16, radix=2, rounds=1)"
            ]
          },
          "metadata": {},
          "execution_count": 17
        }
      ]
    },
    {
      "cell_type": "markdown",
      "source": [
        "**3. Convertir los tipos de datos a otro**\n",
        "\n",
        "**- De enteros a flotantes o de flotantes a enteros:**\n",
        "\n",
        "Se puede convertir un objeto un entero (int) a flotante (float)?\n",
        "\n",
        "La respuesta es SI. Veamos cómo se puede realizar, ejemplo:\n",
        "\n",
        "1. Verificamos el tipo de dato:"
      ],
      "metadata": {
        "id": "4mW8K4X7uMzC"
      }
    },
    {
      "cell_type": "code",
      "source": [
        "# Verify that this is an integer\n",
        "\n",
        "type(2)"
      ],
      "metadata": {
        "colab": {
          "base_uri": "https://localhost:8080/"
        },
        "id": "bb_O21efvLhr",
        "outputId": "a92ae4fd-6947-4854-88c9-d1a1fd178bbe"
      },
      "execution_count": 18,
      "outputs": [
        {
          "output_type": "execute_result",
          "data": {
            "text/plain": [
              "int"
            ]
          },
          "metadata": {},
          "execution_count": 18
        }
      ]
    },
    {
      "cell_type": "markdown",
      "source": [
        "2. Convertir 2 a flotante"
      ],
      "metadata": {
        "id": "4HZm3tumvl7i"
      }
    },
    {
      "cell_type": "code",
      "source": [
        "# Convert 2 to a float\n",
        "\n",
        "float(2)"
      ],
      "metadata": {
        "colab": {
          "base_uri": "https://localhost:8080/"
        },
        "id": "DG1t1aA_vQHq",
        "outputId": "afe1835e-275b-4f02-c2e7-5e1a78a54d76"
      },
      "execution_count": 19,
      "outputs": [
        {
          "output_type": "execute_result",
          "data": {
            "text/plain": [
              "2.0"
            ]
          },
          "metadata": {},
          "execution_count": 19
        }
      ]
    },
    {
      "cell_type": "code",
      "source": [
        "# Convertir un entero 2 a flotante y revisar el tipo\n",
        "\n",
        "type(float(2))"
      ],
      "metadata": {
        "colab": {
          "base_uri": "https://localhost:8080/"
        },
        "id": "xVofb3ddvwzB",
        "outputId": "73ca2525-aaf3-4153-dbc4-748b418b1d87"
      },
      "execution_count": 20,
      "outputs": [
        {
          "output_type": "execute_result",
          "data": {
            "text/plain": [
              "float"
            ]
          },
          "metadata": {},
          "execution_count": 20
        }
      ]
    },
    {
      "cell_type": "markdown",
      "source": [
        "**NOTA IMPORTANTE:** Es necesario saber que cuando se convierte un número flotante a entero se puede perder inforamción. Ejemplo pasar un flotante 1.5 a entero. En el ejemplo siguiente se perdería 0.5:"
      ],
      "metadata": {
        "id": "90WpqN-AwKvz"
      }
    },
    {
      "cell_type": "code",
      "source": [
        "int(1.5)"
      ],
      "metadata": {
        "colab": {
          "base_uri": "https://localhost:8080/"
        },
        "id": "7TA0jtCEwaAy",
        "outputId": "966a6283-1798-4c69-e630-7f4bfd0fc970"
      },
      "execution_count": 21,
      "outputs": [
        {
          "output_type": "execute_result",
          "data": {
            "text/plain": [
              "1"
            ]
          },
          "metadata": {},
          "execution_count": 21
        }
      ]
    },
    {
      "cell_type": "markdown",
      "source": [
        "**-  De cadena de caracteres (str) a enteros (int) o flotantes ()float:**\n",
        "\n",
        "Podemos ejecutar la siguiente operación usando int(). Ejemplo:"
      ],
      "metadata": {
        "id": "Ll7NO8l9xOu5"
      }
    },
    {
      "cell_type": "code",
      "source": [
        "int (\"7\")"
      ],
      "metadata": {
        "colab": {
          "base_uri": "https://localhost:8080/"
        },
        "id": "DAWg0EL2xsTi",
        "outputId": "ce2317d3-fdb0-4a1e-b9cf-51b6c67b2dc3"
      },
      "execution_count": 22,
      "outputs": [
        {
          "output_type": "execute_result",
          "data": {
            "text/plain": [
              "7"
            ]
          },
          "metadata": {},
          "execution_count": 22
        }
      ]
    },
    {
      "cell_type": "markdown",
      "source": [
        "**NOTA IMPORTANTE:** \"Si intenta hacerlo con una cadena que no es una coincidencia perfecta para un número, obtendrá un error\". Ejemplo:"
      ],
      "metadata": {
        "id": "7HOeQX67yAy5"
      }
    },
    {
      "cell_type": "code",
      "source": [
        "int('1 or 2 people')"
      ],
      "metadata": {
        "colab": {
          "base_uri": "https://localhost:8080/",
          "height": 174
        },
        "id": "6foXvSdzyKMB",
        "outputId": "3d6df4ae-c000-44e8-9501-22903a255b41"
      },
      "execution_count": 23,
      "outputs": [
        {
          "output_type": "error",
          "ename": "ValueError",
          "evalue": "ignored",
          "traceback": [
            "\u001b[0;31m---------------------------------------------------------------------------\u001b[0m",
            "\u001b[0;31mValueError\u001b[0m                                Traceback (most recent call last)",
            "\u001b[0;32m<ipython-input-23-cd59a23aeda5>\u001b[0m in \u001b[0;36m<module>\u001b[0;34m\u001b[0m\n\u001b[0;32m----> 1\u001b[0;31m \u001b[0mint\u001b[0m\u001b[0;34m(\u001b[0m\u001b[0;34m'1 or 2 people'\u001b[0m\u001b[0;34m)\u001b[0m\u001b[0;34m\u001b[0m\u001b[0;34m\u001b[0m\u001b[0m\n\u001b[0m",
            "\u001b[0;31mValueError\u001b[0m: invalid literal for int() with base 10: '1 or 2 people'"
          ]
        }
      ]
    },
    {
      "cell_type": "markdown",
      "source": [
        "Puede convertir una **cadena de caracteres (str)** que contenga puntos en un **flotante(float)**. Ejemplo:"
      ],
      "metadata": {
        "id": "3b3k6HP3y7I5"
      }
    },
    {
      "cell_type": "code",
      "source": [
        "# Convert the string \"1.2\" into a float\n",
        "\n",
        "float('1.2')"
      ],
      "metadata": {
        "colab": {
          "base_uri": "https://localhost:8080/"
        },
        "id": "d5vM8eJszHZQ",
        "outputId": "36736b98-f996-44f2-825d-5fc55b45b314"
      },
      "execution_count": 25,
      "outputs": [
        {
          "output_type": "execute_result",
          "data": {
            "text/plain": [
              "1.2"
            ]
          },
          "metadata": {},
          "execution_count": 25
        }
      ]
    },
    {
      "cell_type": "markdown",
      "source": [
        "**NOTA IMPORTANTE:** Las cadenas de caracteres (**str**) se pueden representar por comillas dobles \"\" o sencillas '', pero nunca combinarlas. Ejemplo:"
      ],
      "metadata": {
        "id": "Jc0lChCCzWLf"
      }
    },
    {
      "cell_type": "code",
      "source": [
        "#Ejemplo\n",
        "\n",
        "float(\"1.2')"
      ],
      "metadata": {
        "colab": {
          "base_uri": "https://localhost:8080/",
          "height": 137
        },
        "id": "sPa8gXaazqXI",
        "outputId": "2daa61c7-2919-484a-ba6c-5b989ef2c2d7"
      },
      "execution_count": 26,
      "outputs": [
        {
          "output_type": "error",
          "ename": "SyntaxError",
          "evalue": "ignored",
          "traceback": [
            "\u001b[0;36m  File \u001b[0;32m\"<ipython-input-26-ec29a9f36e61>\"\u001b[0;36m, line \u001b[0;32m3\u001b[0m\n\u001b[0;31m    float(\"1.2')\u001b[0m\n\u001b[0m                ^\u001b[0m\n\u001b[0;31mSyntaxError\u001b[0m\u001b[0;31m:\u001b[0m EOL while scanning string literal\n"
          ]
        }
      ]
    },
    {
      "cell_type": "markdown",
      "source": [
        "**- Convertir números en cadenas**\n",
        "\n",
        "Se pueden convertir números en cadenas de caracteres y en números flotantes. Ejemplo:"
      ],
      "metadata": {
        "id": "Uq7iyq0W0ViX"
      }
    },
    {
      "cell_type": "code",
      "source": [
        "# Convert an integer to a string\n",
        "\n",
        "str(1)"
      ],
      "metadata": {
        "id": "fupG4XPa01bg",
        "outputId": "2ff53543-93b5-44bb-c5c1-374dbefb123c",
        "colab": {
          "base_uri": "https://localhost:8080/",
          "height": 35
        }
      },
      "execution_count": 27,
      "outputs": [
        {
          "output_type": "execute_result",
          "data": {
            "text/plain": [
              "'1'"
            ],
            "application/vnd.google.colaboratory.intrinsic+json": {
              "type": "string"
            }
          },
          "metadata": {},
          "execution_count": 27
        }
      ]
    },
    {
      "cell_type": "code",
      "source": [
        "# Convert a float to a string\n",
        "\n",
        "str(1.2)"
      ],
      "metadata": {
        "id": "QgfWHdUd05RP",
        "outputId": "1a8029e7-d0cc-494f-aa89-3703c0b8d99e",
        "colab": {
          "base_uri": "https://localhost:8080/",
          "height": 35
        }
      },
      "execution_count": 28,
      "outputs": [
        {
          "output_type": "execute_result",
          "data": {
            "text/plain": [
              "'1.2'"
            ],
            "application/vnd.google.colaboratory.intrinsic+json": {
              "type": "string"
            }
          },
          "metadata": {},
          "execution_count": 28
        }
      ]
    },
    {
      "cell_type": "markdown",
      "source": [
        "**- OTRO TIPO DE DATOS: BOLEANOS (bool)**\n",
        "\n",
        "Pueden tomar solo 2 valores: VERDADERO(T or TRUE) O FALSO (F or FALSE):"
      ],
      "metadata": {
        "id": "QFeWfd831C_H"
      }
    },
    {
      "cell_type": "code",
      "source": [
        "# Type of True\n",
        "\n",
        "type(True)"
      ],
      "metadata": {
        "id": "Wj3NsNHT1wyH",
        "outputId": "b7fa8450-4af2-4fdf-c125-cd5e7733572e",
        "colab": {
          "base_uri": "https://localhost:8080/"
        }
      },
      "execution_count": 29,
      "outputs": [
        {
          "output_type": "execute_result",
          "data": {
            "text/plain": [
              "bool"
            ]
          },
          "metadata": {},
          "execution_count": 29
        }
      ]
    },
    {
      "cell_type": "code",
      "source": [
        "# Type of False\n",
        "\n",
        "type(False)"
      ],
      "metadata": {
        "id": "jNM3vyXI11Hw",
        "outputId": "90fe1d4b-a360-409c-f805-43af206ae75b",
        "colab": {
          "base_uri": "https://localhost:8080/"
        }
      },
      "execution_count": 30,
      "outputs": [
        {
          "output_type": "execute_result",
          "data": {
            "text/plain": [
              "bool"
            ]
          },
          "metadata": {},
          "execution_count": 30
        }
      ]
    },
    {
      "cell_type": "markdown",
      "source": [
        "Podemos convertir un boleano (bool) a un entero o flotante o de forma invertida. Arrojándonos un valor diferente para cada uno. \n",
        "\n",
        "Si deseamos un entero o flotante para TRUE(T) el valor será 1 y si es para FALSE (F) el valor será 0. Ejemplo:"
      ],
      "metadata": {
        "id": "4iZ5NPeR2EII"
      }
    },
    {
      "cell_type": "code",
      "source": [
        "# Convert True to int\n",
        "\n",
        "int(True)"
      ],
      "metadata": {
        "id": "tY2e3dI32lTU",
        "outputId": "de84029b-bfa7-4c87-c018-06bca2b530ad",
        "colab": {
          "base_uri": "https://localhost:8080/"
        }
      },
      "execution_count": 31,
      "outputs": [
        {
          "output_type": "execute_result",
          "data": {
            "text/plain": [
              "1"
            ]
          },
          "metadata": {},
          "execution_count": 31
        }
      ]
    },
    {
      "cell_type": "code",
      "source": [
        "# Convert 1 to boolean\n",
        "\n",
        "bool(1)"
      ],
      "metadata": {
        "id": "T_44ODuM20r3",
        "outputId": "e5b82eab-9e4b-4696-d564-cc589b20cdf2",
        "colab": {
          "base_uri": "https://localhost:8080/"
        }
      },
      "execution_count": 32,
      "outputs": [
        {
          "output_type": "execute_result",
          "data": {
            "text/plain": [
              "True"
            ]
          },
          "metadata": {},
          "execution_count": 32
        }
      ]
    },
    {
      "cell_type": "code",
      "source": [
        "# Convert 0 to boolean\n",
        "\n",
        "bool(0)"
      ],
      "metadata": {
        "id": "ZSwBVNRQ22Fe",
        "outputId": "9999e791-e0e7-4d6e-e2f6-2b5aa3eeb25d",
        "colab": {
          "base_uri": "https://localhost:8080/"
        }
      },
      "execution_count": 33,
      "outputs": [
        {
          "output_type": "execute_result",
          "data": {
            "text/plain": [
              "False"
            ]
          },
          "metadata": {},
          "execution_count": 33
        }
      ]
    },
    {
      "cell_type": "code",
      "source": [
        "# Convert True to float\n",
        "\n",
        "float(True)"
      ],
      "metadata": {
        "id": "PT9Nq89l243W",
        "outputId": "6f2afe64-8b55-4f14-c7c9-0ae50ee760ee",
        "colab": {
          "base_uri": "https://localhost:8080/"
        }
      },
      "execution_count": 34,
      "outputs": [
        {
          "output_type": "execute_result",
          "data": {
            "text/plain": [
              "1.0"
            ]
          },
          "metadata": {},
          "execution_count": 34
        }
      ]
    },
    {
      "cell_type": "markdown",
      "source": [
        "**EJERCICIOS**"
      ],
      "metadata": {
        "id": "F6jYMO4R3P1n"
      }
    },
    {
      "cell_type": "code",
      "source": [
        "# Write your code below. Don't forget to press Shift+Enter to execute the cell\n",
        "\n",
        "type(6//2) # int, as the double slashes stand for integer division "
      ],
      "metadata": {
        "id": "ZQkGFNj73Skv",
        "outputId": "4aaad18b-64f7-4701-fb1f-d05041480167",
        "colab": {
          "base_uri": "https://localhost:8080/"
        }
      },
      "execution_count": 36,
      "outputs": [
        {
          "output_type": "execute_result",
          "data": {
            "text/plain": [
              "int"
            ]
          },
          "metadata": {},
          "execution_count": 36
        }
      ]
    },
    {
      "cell_type": "markdown",
      "source": [
        "**Expresión y Variables**\n",
        "\n"
      ],
      "metadata": {
        "id": "d30m2rkg3mTO"
      }
    }
  ]
}