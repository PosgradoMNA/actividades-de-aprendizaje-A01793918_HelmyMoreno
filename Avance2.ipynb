{
  "nbformat": 4,
  "nbformat_minor": 0,
  "metadata": {
    "colab": {
      "provenance": [],
      "authorship_tag": "ABX9TyM4pYeYawRe1oWEo+ahx6xb",
      "include_colab_link": true
    },
    "kernelspec": {
      "name": "python3",
      "display_name": "Python 3"
    },
    "language_info": {
      "name": "python"
    }
  },
  "cells": [
    {
      "cell_type": "markdown",
      "metadata": {
        "id": "view-in-github",
        "colab_type": "text"
      },
      "source": [
        "<a href=\"https://colab.research.google.com/github/PosgradoMNA/actividades-de-aprendizaje-Handrum/blob/main/Avance2.ipynb\" target=\"_parent\"><img src=\"https://colab.research.google.com/assets/colab-badge.svg\" alt=\"Open In Colab\"/></a>"
      ]
    },
    {
      "cell_type": "code",
      "execution_count": 1,
      "metadata": {
        "id": "jjBzhNy3qPdE",
        "outputId": "7511130f-1426-4b14-c92c-505881f35fb4",
        "colab": {
          "base_uri": "https://localhost:8080/"
        }
      },
      "outputs": [
        {
          "output_type": "stream",
          "name": "stdout",
          "text": [
            "Writing Your First Python Code\n"
          ]
        }
      ],
      "source": [
        "print (\"Writing Your First Python Code\")"
      ]
    },
    {
      "cell_type": "markdown",
      "source": [
        "**OBJETIVOS DE ESCRIBIR MI PRIMER CÓDIGO**\n",
        "\n",
        "\n",
        "1.   Tipos de datos\n",
        "1.   Elemento de lista\n",
        "2.   Convertir los tipos de datos a otro\n",
        "2.   Usar expresiones y variables para realizar operaciones"
      ],
      "metadata": {
        "id": "2VYx2dBVeuZN"
      }
    },
    {
      "cell_type": "markdown",
      "source": [
        "**Revisión de versión**\n",
        "\n",
        "La versión 3 es la versión donde actualmente se trabajan los proyectos. Cómo se verifica en el sistema?\n",
        "\n",
        "Ejecuta el siguiente código:"
      ],
      "metadata": {
        "id": "e_mn6ogBfYsj"
      }
    },
    {
      "cell_type": "code",
      "source": [
        "# Check the Python Version\n",
        "\n",
        "import sys\n",
        "print(sys.version)"
      ],
      "metadata": {
        "id": "nS3mXP2Qh51r",
        "outputId": "68123255-305d-476a-ed2d-a31191c10090",
        "colab": {
          "base_uri": "https://localhost:8080/"
        }
      },
      "execution_count": 2,
      "outputs": [
        {
          "output_type": "stream",
          "name": "stdout",
          "text": [
            "3.7.14 (default, Sep  8 2022, 00:06:44) \n",
            "[GCC 7.5.0]\n"
          ]
        }
      ]
    },
    {
      "cell_type": "markdown",
      "source": [
        "**sys** es un **módulo integrado** que contiene muchos **parámetros** y **funciones**. Antes de usarlo se debe importa."
      ],
      "metadata": {
        "id": "f0ahDR4LisVR"
      }
    },
    {
      "cell_type": "markdown",
      "source": [
        "**Mi primer línea de código**\n",
        "\n",
        "**Print**() es una función. Imprime la instrucción o argumnento que tenga dentro de los paréntesis. Ejemplo:"
      ],
      "metadata": {
        "id": "lJjvSTAZh-Rq"
      }
    },
    {
      "cell_type": "code",
      "source": [
        "# Try your first Python output\n",
        "\n",
        "print('Hello, Python!')"
      ],
      "metadata": {
        "id": "hd6wjYh5ifTy",
        "outputId": "2f6a799c-c676-4f46-8328-5213c21a15b3",
        "colab": {
          "base_uri": "https://localhost:8080/"
        }
      },
      "execution_count": 3,
      "outputs": [
        {
          "output_type": "stream",
          "name": "stdout",
          "text": [
            "Hello, Python!\n"
          ]
        }
      ]
    },
    {
      "cell_type": "markdown",
      "source": [
        "Comentarios (**commentt**) en Pyton:\n",
        "\n",
        "Es una metodología que se aplica con el fin de darle orden al código que se escribe al programar. Ayuda tanto a la persona que lo realiza como a cualquier desarrolador que desee verificar o testear el código, ya sea en el momento o posteriormente.\n",
        "\n",
        "En Python se usa el símbolo # al comenzar el comentario. Ejemplo:"
      ],
      "metadata": {
        "id": "oZbjurUuiiLx"
      }
    },
    {
      "cell_type": "code",
      "source": [
        "# Practice on writing comments\n",
        "\n",
        "print('Hello, Python!') # This line prints a string\n",
        "# print('Hi')"
      ],
      "metadata": {
        "id": "s-62dtJ6j_Yq",
        "outputId": "0e1551c4-d325-48ab-8bc9-1feba1137277",
        "colab": {
          "base_uri": "https://localhost:8080/"
        }
      },
      "execution_count": 4,
      "outputs": [
        {
          "output_type": "stream",
          "name": "stdout",
          "text": [
            "Hello, Python!\n"
          ]
        }
      ]
    }
  ]
}