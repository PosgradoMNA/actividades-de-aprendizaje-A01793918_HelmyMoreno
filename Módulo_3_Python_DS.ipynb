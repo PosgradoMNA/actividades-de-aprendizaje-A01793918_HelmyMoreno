{
  "metadata": {
    "kernelspec": {
      "name": "python",
      "display_name": "Pyolite",
      "language": "python"
    },
    "language_info": {
      "codemirror_mode": {
        "name": "python",
        "version": 3
      },
      "file_extension": ".py",
      "mimetype": "text/x-python",
      "name": "python",
      "nbconvert_exporter": "python",
      "pygments_lexer": "ipython3",
      "version": "3.8"
    },
    "colab": {
      "provenance": [],
      "include_colab_link": true
    }
  },
  "nbformat_minor": 0,
  "nbformat": 4,
  "cells": [
    {
      "cell_type": "markdown",
      "metadata": {
        "id": "view-in-github",
        "colab_type": "text"
      },
      "source": [
        "<a href=\"https://colab.research.google.com/github/PosgradoMNA/actividades-de-aprendizaje-A01793918_HelmyMoreno/blob/main/M%C3%B3dulo_3_Python_DS.ipynb\" target=\"_parent\"><img src=\"https://colab.research.google.com/assets/colab-badge.svg\" alt=\"Open In Colab\"/></a>"
      ]
    },
    {
      "cell_type": "markdown",
      "source": [
        "<center>\n",
        "    <img src=\"https://cf-courses-data.s3.us.cloud-object-storage.appdomain.cloud/IBMDeveloperSkillsNetwork-DA0101EN-SkillsNetwork/labs/Module%204/images/IDSNlogo.png\" width=\"300\" alt=\"cognitiveclass.ai logo\"  />\n",
        "</center>\n",
        "\n",
        "# \n",
        "Modelo de desarrollo\n",
        "\n",
        "\n",
        "## Objetivos\n",
        "\n",
        "\n",
        "Después de completar este laboratorio, podrá:\n",
        "\n",
        "* Desarrollar modelos de predicción\n"
      ],
      "metadata": {
        "id": "C17yEtJCHCx1"
      }
    },
    {
      "cell_type": "markdown",
      "source": [
        "<p>En esta sección, desarrollaremos varios modelos que predecirán el precio del automóvil usando las variables o características. Esto es solo una estimación, pero debería darnos una idea objetiva de cuánto debería costar el automóvil.</p>\n"
      ],
      "metadata": {
        "id": "-ARuelJSHCx2"
      }
    },
    {
      "cell_type": "markdown",
      "source": [
        "Algunas preguntas que queremos hacer en este módulo\n",
        "\n",
        "<ul>\n",
        "    <li>¿Sé si el distribuidor está ofreciendo un valor justo por mi intercambio?</li>\n",
        "    <li>¿Sé si puse un valor justo en mi automóvil?</li>\n",
        "</ul>\n",
        "<p>En el análisis de datos, a menudo usamos <b>Desarrollo de modelos</b> para ayudarnos a predecir futuras observaciones a partir de los datos que tenemos.</p>\n",
        "\n",
        "<p>Un modelo nos ayudará a comprender la relación exacta entre diferentes variables y cómo se utilizan estas variables para predecir el resultado.</p>\n"
      ],
      "metadata": {
        "id": "1wI1PLeBHCx3"
      }
    },
    {
      "cell_type": "code",
      "source": [
        "import pandas as pd\n",
        "import numpy as np\n",
        "import matplotlib.pyplot as plt"
      ],
      "metadata": {
        "trusted": true,
        "id": "miDAozuYHCx5"
      },
      "execution_count": 1,
      "outputs": []
    },
    {
      "cell_type": "code",
      "source": [
        "path = 'https://cf-courses-data.s3.us.cloud-object-storage.appdomain.cloud/IBMDeveloperSkillsNetwork-DA0101EN-SkillsNetwork/labs/Data%20files/automobileEDA.csv'"
      ],
      "metadata": {
        "trusted": true,
        "id": "qM74Qz_tHCx6"
      },
      "execution_count": 6,
      "outputs": []
    },
    {
      "cell_type": "code",
      "source": [
        "df = pd.read_csv(path)\n",
        "df.head()"
      ],
      "metadata": {
        "trusted": true,
        "colab": {
          "base_uri": "https://localhost:8080/",
          "height": 235
        },
        "id": "QmM3e7bsHCx6",
        "outputId": "82820fb4-df3b-485c-c563-5d280ee0dba8"
      },
      "execution_count": 71,
      "outputs": [
        {
          "output_type": "execute_result",
          "data": {
            "text/plain": [
              "   symboling  normalized-losses         make aspiration num-of-doors  \\\n",
              "0          3                122  alfa-romero        std          two   \n",
              "1          3                122  alfa-romero        std          two   \n",
              "2          1                122  alfa-romero        std          two   \n",
              "3          2                164         audi        std         four   \n",
              "4          2                164         audi        std         four   \n",
              "\n",
              "    body-style drive-wheels engine-location  wheel-base    length  ...  \\\n",
              "0  convertible          rwd           front        88.6  0.811148  ...   \n",
              "1  convertible          rwd           front        88.6  0.811148  ...   \n",
              "2    hatchback          rwd           front        94.5  0.822681  ...   \n",
              "3        sedan          fwd           front        99.8  0.848630  ...   \n",
              "4        sedan          4wd           front        99.4  0.848630  ...   \n",
              "\n",
              "   compression-ratio  horsepower  peak-rpm city-mpg highway-mpg    price  \\\n",
              "0                9.0       111.0    5000.0       21          27  13495.0   \n",
              "1                9.0       111.0    5000.0       21          27  16500.0   \n",
              "2                9.0       154.0    5000.0       19          26  16500.0   \n",
              "3               10.0       102.0    5500.0       24          30  13950.0   \n",
              "4                8.0       115.0    5500.0       18          22  17450.0   \n",
              "\n",
              "  city-L/100km  horsepower-binned  diesel  gas  \n",
              "0    11.190476             Medium       0    1  \n",
              "1    11.190476             Medium       0    1  \n",
              "2    12.368421             Medium       0    1  \n",
              "3     9.791667             Medium       0    1  \n",
              "4    13.055556             Medium       0    1  \n",
              "\n",
              "[5 rows x 29 columns]"
            ],
            "text/html": [
              "\n",
              "  <div id=\"df-60a98e8d-8ac2-4b9b-8564-cbeb3e064e83\">\n",
              "    <div class=\"colab-df-container\">\n",
              "      <div>\n",
              "<style scoped>\n",
              "    .dataframe tbody tr th:only-of-type {\n",
              "        vertical-align: middle;\n",
              "    }\n",
              "\n",
              "    .dataframe tbody tr th {\n",
              "        vertical-align: top;\n",
              "    }\n",
              "\n",
              "    .dataframe thead th {\n",
              "        text-align: right;\n",
              "    }\n",
              "</style>\n",
              "<table border=\"1\" class=\"dataframe\">\n",
              "  <thead>\n",
              "    <tr style=\"text-align: right;\">\n",
              "      <th></th>\n",
              "      <th>symboling</th>\n",
              "      <th>normalized-losses</th>\n",
              "      <th>make</th>\n",
              "      <th>aspiration</th>\n",
              "      <th>num-of-doors</th>\n",
              "      <th>body-style</th>\n",
              "      <th>drive-wheels</th>\n",
              "      <th>engine-location</th>\n",
              "      <th>wheel-base</th>\n",
              "      <th>length</th>\n",
              "      <th>...</th>\n",
              "      <th>compression-ratio</th>\n",
              "      <th>horsepower</th>\n",
              "      <th>peak-rpm</th>\n",
              "      <th>city-mpg</th>\n",
              "      <th>highway-mpg</th>\n",
              "      <th>price</th>\n",
              "      <th>city-L/100km</th>\n",
              "      <th>horsepower-binned</th>\n",
              "      <th>diesel</th>\n",
              "      <th>gas</th>\n",
              "    </tr>\n",
              "  </thead>\n",
              "  <tbody>\n",
              "    <tr>\n",
              "      <th>0</th>\n",
              "      <td>3</td>\n",
              "      <td>122</td>\n",
              "      <td>alfa-romero</td>\n",
              "      <td>std</td>\n",
              "      <td>two</td>\n",
              "      <td>convertible</td>\n",
              "      <td>rwd</td>\n",
              "      <td>front</td>\n",
              "      <td>88.6</td>\n",
              "      <td>0.811148</td>\n",
              "      <td>...</td>\n",
              "      <td>9.0</td>\n",
              "      <td>111.0</td>\n",
              "      <td>5000.0</td>\n",
              "      <td>21</td>\n",
              "      <td>27</td>\n",
              "      <td>13495.0</td>\n",
              "      <td>11.190476</td>\n",
              "      <td>Medium</td>\n",
              "      <td>0</td>\n",
              "      <td>1</td>\n",
              "    </tr>\n",
              "    <tr>\n",
              "      <th>1</th>\n",
              "      <td>3</td>\n",
              "      <td>122</td>\n",
              "      <td>alfa-romero</td>\n",
              "      <td>std</td>\n",
              "      <td>two</td>\n",
              "      <td>convertible</td>\n",
              "      <td>rwd</td>\n",
              "      <td>front</td>\n",
              "      <td>88.6</td>\n",
              "      <td>0.811148</td>\n",
              "      <td>...</td>\n",
              "      <td>9.0</td>\n",
              "      <td>111.0</td>\n",
              "      <td>5000.0</td>\n",
              "      <td>21</td>\n",
              "      <td>27</td>\n",
              "      <td>16500.0</td>\n",
              "      <td>11.190476</td>\n",
              "      <td>Medium</td>\n",
              "      <td>0</td>\n",
              "      <td>1</td>\n",
              "    </tr>\n",
              "    <tr>\n",
              "      <th>2</th>\n",
              "      <td>1</td>\n",
              "      <td>122</td>\n",
              "      <td>alfa-romero</td>\n",
              "      <td>std</td>\n",
              "      <td>two</td>\n",
              "      <td>hatchback</td>\n",
              "      <td>rwd</td>\n",
              "      <td>front</td>\n",
              "      <td>94.5</td>\n",
              "      <td>0.822681</td>\n",
              "      <td>...</td>\n",
              "      <td>9.0</td>\n",
              "      <td>154.0</td>\n",
              "      <td>5000.0</td>\n",
              "      <td>19</td>\n",
              "      <td>26</td>\n",
              "      <td>16500.0</td>\n",
              "      <td>12.368421</td>\n",
              "      <td>Medium</td>\n",
              "      <td>0</td>\n",
              "      <td>1</td>\n",
              "    </tr>\n",
              "    <tr>\n",
              "      <th>3</th>\n",
              "      <td>2</td>\n",
              "      <td>164</td>\n",
              "      <td>audi</td>\n",
              "      <td>std</td>\n",
              "      <td>four</td>\n",
              "      <td>sedan</td>\n",
              "      <td>fwd</td>\n",
              "      <td>front</td>\n",
              "      <td>99.8</td>\n",
              "      <td>0.848630</td>\n",
              "      <td>...</td>\n",
              "      <td>10.0</td>\n",
              "      <td>102.0</td>\n",
              "      <td>5500.0</td>\n",
              "      <td>24</td>\n",
              "      <td>30</td>\n",
              "      <td>13950.0</td>\n",
              "      <td>9.791667</td>\n",
              "      <td>Medium</td>\n",
              "      <td>0</td>\n",
              "      <td>1</td>\n",
              "    </tr>\n",
              "    <tr>\n",
              "      <th>4</th>\n",
              "      <td>2</td>\n",
              "      <td>164</td>\n",
              "      <td>audi</td>\n",
              "      <td>std</td>\n",
              "      <td>four</td>\n",
              "      <td>sedan</td>\n",
              "      <td>4wd</td>\n",
              "      <td>front</td>\n",
              "      <td>99.4</td>\n",
              "      <td>0.848630</td>\n",
              "      <td>...</td>\n",
              "      <td>8.0</td>\n",
              "      <td>115.0</td>\n",
              "      <td>5500.0</td>\n",
              "      <td>18</td>\n",
              "      <td>22</td>\n",
              "      <td>17450.0</td>\n",
              "      <td>13.055556</td>\n",
              "      <td>Medium</td>\n",
              "      <td>0</td>\n",
              "      <td>1</td>\n",
              "    </tr>\n",
              "  </tbody>\n",
              "</table>\n",
              "<p>5 rows × 29 columns</p>\n",
              "</div>\n",
              "      <button class=\"colab-df-convert\" onclick=\"convertToInteractive('df-60a98e8d-8ac2-4b9b-8564-cbeb3e064e83')\"\n",
              "              title=\"Convert this dataframe to an interactive table.\"\n",
              "              style=\"display:none;\">\n",
              "        \n",
              "  <svg xmlns=\"http://www.w3.org/2000/svg\" height=\"24px\"viewBox=\"0 0 24 24\"\n",
              "       width=\"24px\">\n",
              "    <path d=\"M0 0h24v24H0V0z\" fill=\"none\"/>\n",
              "    <path d=\"M18.56 5.44l.94 2.06.94-2.06 2.06-.94-2.06-.94-.94-2.06-.94 2.06-2.06.94zm-11 1L8.5 8.5l.94-2.06 2.06-.94-2.06-.94L8.5 2.5l-.94 2.06-2.06.94zm10 10l.94 2.06.94-2.06 2.06-.94-2.06-.94-.94-2.06-.94 2.06-2.06.94z\"/><path d=\"M17.41 7.96l-1.37-1.37c-.4-.4-.92-.59-1.43-.59-.52 0-1.04.2-1.43.59L10.3 9.45l-7.72 7.72c-.78.78-.78 2.05 0 2.83L4 21.41c.39.39.9.59 1.41.59.51 0 1.02-.2 1.41-.59l7.78-7.78 2.81-2.81c.8-.78.8-2.07 0-2.86zM5.41 20L4 18.59l7.72-7.72 1.47 1.35L5.41 20z\"/>\n",
              "  </svg>\n",
              "      </button>\n",
              "      \n",
              "  <style>\n",
              "    .colab-df-container {\n",
              "      display:flex;\n",
              "      flex-wrap:wrap;\n",
              "      gap: 12px;\n",
              "    }\n",
              "\n",
              "    .colab-df-convert {\n",
              "      background-color: #E8F0FE;\n",
              "      border: none;\n",
              "      border-radius: 50%;\n",
              "      cursor: pointer;\n",
              "      display: none;\n",
              "      fill: #1967D2;\n",
              "      height: 32px;\n",
              "      padding: 0 0 0 0;\n",
              "      width: 32px;\n",
              "    }\n",
              "\n",
              "    .colab-df-convert:hover {\n",
              "      background-color: #E2EBFA;\n",
              "      box-shadow: 0px 1px 2px rgba(60, 64, 67, 0.3), 0px 1px 3px 1px rgba(60, 64, 67, 0.15);\n",
              "      fill: #174EA6;\n",
              "    }\n",
              "\n",
              "    [theme=dark] .colab-df-convert {\n",
              "      background-color: #3B4455;\n",
              "      fill: #D2E3FC;\n",
              "    }\n",
              "\n",
              "    [theme=dark] .colab-df-convert:hover {\n",
              "      background-color: #434B5C;\n",
              "      box-shadow: 0px 1px 3px 1px rgba(0, 0, 0, 0.15);\n",
              "      filter: drop-shadow(0px 1px 2px rgba(0, 0, 0, 0.3));\n",
              "      fill: #FFFFFF;\n",
              "    }\n",
              "  </style>\n",
              "\n",
              "      <script>\n",
              "        const buttonEl =\n",
              "          document.querySelector('#df-60a98e8d-8ac2-4b9b-8564-cbeb3e064e83 button.colab-df-convert');\n",
              "        buttonEl.style.display =\n",
              "          google.colab.kernel.accessAllowed ? 'block' : 'none';\n",
              "\n",
              "        async function convertToInteractive(key) {\n",
              "          const element = document.querySelector('#df-60a98e8d-8ac2-4b9b-8564-cbeb3e064e83');\n",
              "          const dataTable =\n",
              "            await google.colab.kernel.invokeFunction('convertToInteractive',\n",
              "                                                     [key], {});\n",
              "          if (!dataTable) return;\n",
              "\n",
              "          const docLinkHtml = 'Like what you see? Visit the ' +\n",
              "            '<a target=\"_blank\" href=https://colab.research.google.com/notebooks/data_table.ipynb>data table notebook</a>'\n",
              "            + ' to learn more about interactive tables.';\n",
              "          element.innerHTML = '';\n",
              "          dataTable['output_type'] = 'display_data';\n",
              "          await google.colab.output.renderOutput(dataTable, element);\n",
              "          const docLink = document.createElement('div');\n",
              "          docLink.innerHTML = docLinkHtml;\n",
              "          element.appendChild(docLink);\n",
              "        }\n",
              "      </script>\n",
              "    </div>\n",
              "  </div>\n",
              "  "
            ]
          },
          "metadata": {},
          "execution_count": 71
        }
      ]
    },
    {
      "cell_type": "markdown",
      "source": [
        "#**1. Regresión lineal y regresión lineal múltiple**\n"
      ],
      "metadata": {
        "id": "WSYd35ifHCx7"
      }
    },
    {
      "cell_type": "markdown",
      "source": [
        "#**Regresión lineal**\n"
      ],
      "metadata": {
        "id": "HamDrY-sHCx7"
      }
    },
    {
      "cell_type": "markdown",
      "source": [
        "<p>Un ejemplo de un modelo de datos que usaremos es:</p>\n",
        "<b>Regresión lineal simple</b>\n",
        "\n",
        "<br>\n",
        "<p>La regresión lineal simple es un método que nos ayuda a comprender la relación entre dos variables:</p>\n",
        "<ul>\n",
        "    <li>El predictor/variable independiente (X)</li>\n",
        "    <li>La respuesta/variable dependiente (que queremos predecir)(Y)</li>\n",
        "</ul>\n",
        "\n",
        "<p>El resultado de la regresión lineal es una <b>función lineal</b> que predice la variable de respuesta (dependiente) en función de la variable predictora (independiente).</p>\n"
      ],
      "metadata": {
        "id": "1SFiqYZ5HCx7"
      }
    },
    {
      "cell_type": "markdown",
      "source": [
        "$$\n",
        "Y: Response \\ Variable\\\\\\\\\\\\\\\\\\\\\n",
        "X: Predictor \\ Variables\n",
        "$$\n"
      ],
      "metadata": {
        "id": "hG07lduQHCx7"
      }
    },
    {
      "cell_type": "markdown",
      "source": [
        "<b>Función lineal</b>\n",
        "$$\n",
        "Yhat = a + b  X\n",
        "$$\n"
      ],
      "metadata": {
        "id": "dlweuPadHCx7"
      }
    },
    {
      "cell_type": "markdown",
      "source": [
        "<ul>\n",
        "    <li>a se refiere a la <b>intersección</b> de la línea de regresión, en otras palabras: el valor de Y cuando X es 0</li>\n",
        "    <li>b se refiere a la <b>pendiente</b> de la línea de regresión, en otras palabras: el valor con el que cambia Y cuando X aumenta en 1 unidad</li>\n",
        "</ul>\n"
      ],
      "metadata": {
        "id": "eaBN2NAoHCx7"
      }
    },
    {
      "cell_type": "markdown",
      "source": [
        "<h4>Vamos a cargar los módulos para la regresión lineal:</h4>\n"
      ],
      "metadata": {
        "id": "RW6cAfF9HCx8"
      }
    },
    {
      "cell_type": "code",
      "source": [
        "from sklearn.linear_model import LinearRegression"
      ],
      "metadata": {
        "trusted": true,
        "id": "zaSufD9qHCx8"
      },
      "execution_count": 8,
      "outputs": []
    },
    {
      "cell_type": "markdown",
      "source": [
        "\n",
        "<h4>Cree el objeto de Regresión Lineal:</h4>"
      ],
      "metadata": {
        "id": "QuiSlTDLHCx8"
      }
    },
    {
      "cell_type": "code",
      "source": [
        "lm = LinearRegression()\n",
        "lm"
      ],
      "metadata": {
        "trusted": true,
        "colab": {
          "base_uri": "https://localhost:8080/"
        },
        "id": "FqaKfB7CHCx8",
        "outputId": "4fb58dbf-c60e-4caa-f81a-2a3ce6c15f79"
      },
      "execution_count": 9,
      "outputs": [
        {
          "output_type": "execute_result",
          "data": {
            "text/plain": [
              "LinearRegression()"
            ]
          },
          "metadata": {},
          "execution_count": 9
        }
      ]
    },
    {
      "cell_type": "markdown",
      "source": [
        "<h4>¿Cómo podría \"highway-mpg\" ayudarnos a predecir el precio del automóvil?</h4>\n"
      ],
      "metadata": {
        "id": "VZTrtuW2HCx8"
      }
    },
    {
      "cell_type": "markdown",
      "source": [
        "Para este ejemplo, queremos ver cómo Highway-mpg puede ayudarnos a predecir el precio del automóvil.\n",
        "Usando una regresión lineal simple, crearemos una función lineal con \"Highway-mpg\" como la variable predictora y el \"price\" como la variable de respuesta.\n"
      ],
      "metadata": {
        "id": "FnUa0cvjHCx8"
      }
    },
    {
      "cell_type": "code",
      "source": [
        "X = df[['highway-mpg']]\n",
        "Y = df['price']"
      ],
      "metadata": {
        "trusted": true,
        "id": "2lcy8JxeHCx8"
      },
      "execution_count": 10,
      "outputs": []
    },
    {
      "cell_type": "markdown",
      "source": [
        "\n",
        "Ajuste el modelo lineal usando Highway-mpg"
      ],
      "metadata": {
        "id": "-SG_igHQHCx9"
      }
    },
    {
      "cell_type": "code",
      "source": [
        "lm.fit(X,Y)"
      ],
      "metadata": {
        "trusted": true,
        "colab": {
          "base_uri": "https://localhost:8080/"
        },
        "id": "lAyb0LqjHCx9",
        "outputId": "f8943b1b-3dc9-426f-e427-f3389920d9c6"
      },
      "execution_count": 11,
      "outputs": [
        {
          "output_type": "execute_result",
          "data": {
            "text/plain": [
              "LinearRegression()"
            ]
          },
          "metadata": {},
          "execution_count": 11
        }
      ]
    },
    {
      "cell_type": "markdown",
      "source": [
        "Podemos generar una predicción:\n"
      ],
      "metadata": {
        "id": "3w3o1d-2HCx9"
      }
    },
    {
      "cell_type": "code",
      "source": [
        "Yhat=lm.predict(X)\n",
        "Yhat[0:5]   "
      ],
      "metadata": {
        "trusted": true,
        "colab": {
          "base_uri": "https://localhost:8080/"
        },
        "id": "9nExGAlAHCx9",
        "outputId": "4341ea21-0b79-4f3a-c6b1-f842b9459c82"
      },
      "execution_count": 12,
      "outputs": [
        {
          "output_type": "execute_result",
          "data": {
            "text/plain": [
              "array([16236.50464347, 16236.50464347, 17058.23802179, 13771.3045085 ,\n",
              "       20345.17153508])"
            ]
          },
          "metadata": {},
          "execution_count": 12
        }
      ]
    },
    {
      "cell_type": "markdown",
      "source": [
        "\n",
        "<h4>¿Cuál es el valor del intercepto (a)?</h4>\n"
      ],
      "metadata": {
        "id": "yY81PmK3HCx9"
      }
    },
    {
      "cell_type": "code",
      "source": [
        "lm.intercept_"
      ],
      "metadata": {
        "trusted": true,
        "colab": {
          "base_uri": "https://localhost:8080/"
        },
        "id": "ApxXx2NSHCx9",
        "outputId": "3d505687-aaad-41b3-bc9b-4f7ecd225d32"
      },
      "execution_count": 13,
      "outputs": [
        {
          "output_type": "execute_result",
          "data": {
            "text/plain": [
              "38423.3058581574"
            ]
          },
          "metadata": {},
          "execution_count": 13
        }
      ]
    },
    {
      "cell_type": "markdown",
      "source": [
        "<h4>¿Cuál es el valor de la pendiente (b)?</h4>"
      ],
      "metadata": {
        "id": "3RlkvYKLHCx9"
      }
    },
    {
      "cell_type": "code",
      "source": [
        "lm.coef_"
      ],
      "metadata": {
        "scrolled": true,
        "trusted": true,
        "colab": {
          "base_uri": "https://localhost:8080/"
        },
        "id": "3vCpQdT0HCx-",
        "outputId": "f8cf3e11-3f57-43f6-df67-978ecffea59e"
      },
      "execution_count": 14,
      "outputs": [
        {
          "output_type": "execute_result",
          "data": {
            "text/plain": [
              "array([-821.73337832])"
            ]
          },
          "metadata": {},
          "execution_count": 14
        }
      ]
    },
    {
      "cell_type": "markdown",
      "source": [
        "<h3>¿Cuál es el modelo lineal estimado final que obtenemos?</h3>\n"
      ],
      "metadata": {
        "id": "96qq-COMHCx-"
      }
    },
    {
      "cell_type": "markdown",
      "source": [
        "\n",
        "Como vimos arriba, deberíamos obtener un modelo lineal final con la estructura:"
      ],
      "metadata": {
        "id": "Tr1UrlzpHCx-"
      }
    },
    {
      "cell_type": "markdown",
      "source": [
        "$$\n",
        "Yhat = a + b  X\n",
        "$$\n"
      ],
      "metadata": {
        "id": "YY5anDN0HCx-"
      }
    },
    {
      "cell_type": "markdown",
      "source": [
        "\n",
        "Conectando los valores reales obtenemos:\n"
      ],
      "metadata": {
        "id": "ticZIburHCx-"
      }
    },
    {
      "cell_type": "markdown",
      "source": [
        "<b>Price</b> = 38423.31 - 821.73 x <b>highway-mpg</b>\n"
      ],
      "metadata": {
        "id": "GIoJmUQoHCx-"
      }
    },
    {
      "cell_type": "markdown",
      "source": [
        "#**Pregunta n.º 1 a):**\n",
        "\n",
        "<b>Cree un objeto de regresión lineal llamado \"lm1\".</b>\n",
        "\n",
        "</div>"
      ],
      "metadata": {
        "id": "OBHVamp6HCx-"
      }
    },
    {
      "cell_type": "code",
      "source": [
        "lm1 = LinearRegression()\n",
        "lm1"
      ],
      "metadata": {
        "trusted": true,
        "colab": {
          "base_uri": "https://localhost:8080/"
        },
        "id": "4D4p9X1gHCx_",
        "outputId": "7e214280-3b73-4b86-9159-a64bc228333f"
      },
      "execution_count": 73,
      "outputs": [
        {
          "output_type": "execute_result",
          "data": {
            "text/plain": [
              "LinearRegression()"
            ]
          },
          "metadata": {},
          "execution_count": 73
        }
      ]
    },
    {
      "cell_type": "markdown",
      "source": [
        "#**Pregunta #1 b):**\n",
        "\n",
        "<b>Entrena el modelo usando \"engine-size\" \n",
        "como variable independiente y \"price\" como la variable dependiente?</b>\n",
        "\n",
        "</div>"
      ],
      "metadata": {
        "id": "ypJTbtWiHCx_"
      }
    },
    {
      "cell_type": "code",
      "source": [
        "lm1.fit(df[['engine-size']], df[['price']])\n",
        "lm1"
      ],
      "metadata": {
        "trusted": true,
        "colab": {
          "base_uri": "https://localhost:8080/"
        },
        "id": "VhH99u8rHCx_",
        "outputId": "f12c40b8-7380-4a73-991d-a81f30090020"
      },
      "execution_count": 16,
      "outputs": [
        {
          "output_type": "execute_result",
          "data": {
            "text/plain": [
              "LinearRegression()"
            ]
          },
          "metadata": {},
          "execution_count": 16
        }
      ]
    },
    {
      "cell_type": "markdown",
      "source": [
        "#**Pregunta #1 c):**\n",
        "\n",
        "<b>\n",
        "Encuentra la pendiente y la intersección del modelo.</b>\n",
        "\n",
        "</div>\n"
      ],
      "metadata": {
        "id": "2hdapxoFHCx_"
      }
    },
    {
      "cell_type": "markdown",
      "source": [
        "<h4>Pendiente</h4>\n"
      ],
      "metadata": {
        "id": "2iPatxl2HCx_"
      }
    },
    {
      "cell_type": "code",
      "source": [
        "lm1.coef_"
      ],
      "metadata": {
        "trusted": true,
        "colab": {
          "base_uri": "https://localhost:8080/"
        },
        "id": "qrTTWY7FHCx_",
        "outputId": "5a104c6c-3e66-4adb-c7b8-cf180f2007d2"
      },
      "execution_count": 17,
      "outputs": [
        {
          "output_type": "execute_result",
          "data": {
            "text/plain": [
              "array([[166.86001569]])"
            ]
          },
          "metadata": {},
          "execution_count": 17
        }
      ]
    },
    {
      "cell_type": "markdown",
      "source": [
        "<h4>Interceptar</h4>\n"
      ],
      "metadata": {
        "id": "lgZxRLCeHCyA"
      }
    },
    {
      "cell_type": "code",
      "source": [
        "lm1.intercept_"
      ],
      "metadata": {
        "trusted": true,
        "colab": {
          "base_uri": "https://localhost:8080/"
        },
        "id": "KOLMo2IXHCyA",
        "outputId": "26763f28-9e28-4583-d54c-64b99b87da16"
      },
      "execution_count": 18,
      "outputs": [
        {
          "output_type": "execute_result",
          "data": {
            "text/plain": [
              "array([-7963.33890628])"
            ]
          },
          "metadata": {},
          "execution_count": 18
        }
      ]
    },
    {
      "cell_type": "markdown",
      "source": [
        "#**Pregunta #1 d):**\n",
        "\n",
        "\n",
        "<b>¿Cuál es la ecuación de la línea predicha? Puede usar x e yhat o \"tamaño del motor\" o \"precio\".</b>\n",
        "\n",
        "</div>\n"
      ],
      "metadata": {
        "id": "dj3AZXFCHCyA"
      }
    },
    {
      "cell_type": "code",
      "source": [
        "Yhat=-7963.34 + 166.86*X\n",
        "\n",
        "Price=-7963.34 + 166.86*df['engine-size']"
      ],
      "metadata": {
        "trusted": true,
        "id": "TnU9xw-ZHCyA"
      },
      "execution_count": 74,
      "outputs": []
    },
    {
      "cell_type": "markdown",
      "source": [
        "\n",
        "#**Regresión lineal múltiple**\n"
      ],
      "metadata": {
        "id": "35dylLm8HCyB"
      }
    },
    {
      "cell_type": "markdown",
      "source": [
        "<p>¿Qué ocurre si queremos predecir el precio de un coche utilizando más de una variable?</p>\n",
        "\n",
        "<p>Si queremos usar más variables en nuestro modelo para predecir el precio del automóvil, podemos usar <b>Regresión lineal múltiple</b>.\n",
        "La regresión lineal múltiple es muy similar a la regresión lineal simple, pero este método se utiliza para explicar la relación entre una variable de respuesta continua (dependiente) y <b>dos o más</b> variables predictoras (independientes).\n",
        "La mayoría de los modelos de regresión del mundo real involucran múltiples predictores. Ilustraremos la estructura usando cuatro variables predictoras, pero estos resultados pueden generalizarse a cualquier número entero:</p>\n"
      ],
      "metadata": {
        "id": "hQojC8g4HCyB"
      }
    },
    {
      "cell_type": "markdown",
      "source": [
        "$$\n",
        "Y: Response \\ Variable\\\\\\\\\\\\\\\\\\\\\n",
        "X\\_1 :Predictor\\ Variable \\ 1\\\\\\\\\n",
        "X\\_2: Predictor\\ Variable \\ 2\\\\\\\\\n",
        "X\\_3: Predictor\\ Variable \\ 3\\\\\\\\\n",
        "X\\_4: Predictor\\ Variable \\ 4\\\\\\\\\n",
        "$$\n"
      ],
      "metadata": {
        "id": "qAUUO6AgHCyB"
      }
    },
    {
      "cell_type": "markdown",
      "source": [
        "$$\n",
        "a: intercept\\\\\\\\\\\\\\\\\\\\\n",
        "b\\_1 :coefficients \\ of\\ Variable \\ 1\\\\\\\\\n",
        "b\\_2: coefficients \\ of\\ Variable \\ 2\\\\\\\\\n",
        "b\\_3: coefficients \\ of\\ Variable \\ 3\\\\\\\\\n",
        "b\\_4: coefficients \\ of\\ Variable \\ 4\\\\\\\\\n",
        "$$\n"
      ],
      "metadata": {
        "id": "1lnxhMhuHCyB"
      }
    },
    {
      "cell_type": "markdown",
      "source": [
        "La ecuación está dada por:\n"
      ],
      "metadata": {
        "id": "6D4BhovrHCyB"
      }
    },
    {
      "cell_type": "markdown",
      "source": [
        "$$\n",
        "Yhat = a + b\\_1 X\\_1 + b\\_2 X\\_2 + b\\_3 X\\_3 + b\\_4 X\\_4\n",
        "$$\n"
      ],
      "metadata": {
        "id": "CyCfUfNeHCyB"
      }
    },
    {
      "cell_type": "markdown",
      "source": [
        "<p>De la sección anterior sabemos que otros buenos predictores de precio podrían ser:</p>\n",
        "<ul>\n",
        "    <li>Horsepower</li>\n",
        "    <li>Curb-weight</li>\n",
        "    <li>Engine-size</li>\n",
        "    <li>Highway-mpg</li>\n",
        "</ul>\n",
        "\n",
        "Desarrollemos un modelo usando estas variables como variables predictoras.\n"
      ],
      "metadata": {
        "id": "mMNykvnAHCyB"
      }
    },
    {
      "cell_type": "code",
      "source": [
        "Z = df[['horsepower', 'curb-weight', 'engine-size', 'highway-mpg']]"
      ],
      "metadata": {
        "trusted": true,
        "id": "l_VBCKmdHCyB"
      },
      "execution_count": 21,
      "outputs": []
    },
    {
      "cell_type": "markdown",
      "source": [
        "Ajuste el modelo lineal utilizando las cuatro variables mencionadas anteriormente.\n"
      ],
      "metadata": {
        "id": "j7olT96_HCyC"
      }
    },
    {
      "cell_type": "code",
      "source": [
        "lm.fit(Z, df['price'])"
      ],
      "metadata": {
        "trusted": true,
        "colab": {
          "base_uri": "https://localhost:8080/"
        },
        "id": "kVxVGGvAHCyC",
        "outputId": "632e6c31-b202-485d-822d-53e24b564cfa"
      },
      "execution_count": 22,
      "outputs": [
        {
          "output_type": "execute_result",
          "data": {
            "text/plain": [
              "LinearRegression()"
            ]
          },
          "metadata": {},
          "execution_count": 22
        }
      ]
    },
    {
      "cell_type": "markdown",
      "source": [
        "¿Cuál es el valor del intercepto(a)?\n"
      ],
      "metadata": {
        "id": "4BScPRubHCyC"
      }
    },
    {
      "cell_type": "code",
      "source": [
        "lm.intercept_"
      ],
      "metadata": {
        "trusted": true,
        "colab": {
          "base_uri": "https://localhost:8080/"
        },
        "id": "ejsN2hAEHCyC",
        "outputId": "d9ec1da3-2ffc-49b7-9b93-2dc286a8b337"
      },
      "execution_count": 23,
      "outputs": [
        {
          "output_type": "execute_result",
          "data": {
            "text/plain": [
              "-15806.62462632922"
            ]
          },
          "metadata": {},
          "execution_count": 23
        }
      ]
    },
    {
      "cell_type": "markdown",
      "source": [
        "¿Cuáles son los valores de los coeficientes (b1, b2, b3, b4)?\n"
      ],
      "metadata": {
        "id": "ZzO7zw1YHCyC"
      }
    },
    {
      "cell_type": "code",
      "source": [
        "lm.coef_"
      ],
      "metadata": {
        "trusted": true,
        "colab": {
          "base_uri": "https://localhost:8080/"
        },
        "id": "VSLs4dynHCyC",
        "outputId": "c7b387b0-aff1-4a84-d040-ddfb465c1eaa"
      },
      "execution_count": 24,
      "outputs": [
        {
          "output_type": "execute_result",
          "data": {
            "text/plain": [
              "array([53.49574423,  4.70770099, 81.53026382, 36.05748882])"
            ]
          },
          "metadata": {},
          "execution_count": 24
        }
      ]
    },
    {
      "cell_type": "markdown",
      "source": [
        "\n",
        "¿Cuál es el modelo lineal estimado final que obtenemos?\n"
      ],
      "metadata": {
        "id": "5XSKlsT-HCyC"
      }
    },
    {
      "cell_type": "markdown",
      "source": [
        "Como vimos arriba, deberíamos obtener una función lineal final con la estructura:\n",
        "\n",
        "$$\n",
        "Yhat = a + b\\_1 X\\_1 + b\\_2 X\\_2 + b\\_3 X\\_3 + b\\_4 X\\_4\n",
        "$$\n",
        "\n",
        "¿Cuál es la función lineal que obtenemos en este ejemplo?\n"
      ],
      "metadata": {
        "id": "9ZuQi0w_HCyD"
      }
    },
    {
      "cell_type": "markdown",
      "source": [
        "<b>Price</b> = -15678.742628061467 + 52.65851272 x <b>horsepower</b> + 4.69878948 x <b>curb-weight</b> + 81.95906216 x <b>engine-size</b> + 33.58258185 x <b>highway-mpg</b>\n"
      ],
      "metadata": {
        "id": "wI5weLC1HCyD"
      }
    },
    {
      "cell_type": "markdown",
      "source": [
        "#**Pregunta  #2 a):**\n",
        "\n",
        "Crear y entrenar un modelo de regresión lineal múltiple \"lm2\" \n",
        "donde la variable de respuesta es \"price\", ay la variable predictora es \"normalized-losses\" y  \"highway-mpg\".\n",
        "</div>\n"
      ],
      "metadata": {
        "id": "DX6g68VGHCyD"
      }
    },
    {
      "cell_type": "code",
      "source": [
        "lm2 = LinearRegression()\n",
        "lm2.fit(df[['normalized-losses' , 'highway-mpg']],df['price'])"
      ],
      "metadata": {
        "trusted": true,
        "colab": {
          "base_uri": "https://localhost:8080/"
        },
        "id": "SyibUj-DHCyD",
        "outputId": "412ef735-c59f-4aa6-cdd8-4a806e566fcd"
      },
      "execution_count": 25,
      "outputs": [
        {
          "output_type": "execute_result",
          "data": {
            "text/plain": [
              "LinearRegression()"
            ]
          },
          "metadata": {},
          "execution_count": 25
        }
      ]
    },
    {
      "cell_type": "markdown",
      "source": [
        "#**Pregunta #2 b):**\n",
        "<b>Encuentre el coeficiente del modelo</b>\n",
        "</div>\n"
      ],
      "metadata": {
        "id": "cZXfyNk0HCyD"
      }
    },
    {
      "cell_type": "code",
      "source": [
        "lm2.coef_"
      ],
      "metadata": {
        "trusted": true,
        "colab": {
          "base_uri": "https://localhost:8080/"
        },
        "id": "XuiFFFlPHCyD",
        "outputId": "13fe6d38-bd6c-413b-d934-5f2ddf70f75c"
      },
      "execution_count": 26,
      "outputs": [
        {
          "output_type": "execute_result",
          "data": {
            "text/plain": [
              "array([   1.49789586, -820.45434016])"
            ]
          },
          "metadata": {},
          "execution_count": 26
        }
      ]
    },
    {
      "cell_type": "markdown",
      "source": [
        "\n",
        "#**2. Evaluación de modelos mediante visualización**\n"
      ],
      "metadata": {
        "id": "o12TO6mdHCyE"
      }
    },
    {
      "cell_type": "markdown",
      "source": [
        "\n",
        "Ahora que hemos desarrollado algunos modelos, ¿cómo evaluamos nuestros modelos y elegimos el mejor? Una forma de hacerlo es usando una visualización.\n"
      ],
      "metadata": {
        "id": "RuKr5xSJHCyG"
      }
    },
    {
      "cell_type": "markdown",
      "source": [
        "Importe el paquete de visualización, seaborn:\n"
      ],
      "metadata": {
        "id": "iLN7WWcpHCyG"
      }
    },
    {
      "cell_type": "code",
      "source": [
        "# import the visualization package: seaborn\n",
        "import seaborn as sns\n",
        "%matplotlib inline "
      ],
      "metadata": {
        "trusted": true,
        "id": "klmDqM52HCyG"
      },
      "execution_count": 27,
      "outputs": []
    },
    {
      "cell_type": "markdown",
      "source": [
        "\n",
        "**Gráfica de regresión**\n"
      ],
      "metadata": {
        "id": "e_RSwGdKHCyG"
      }
    },
    {
      "cell_type": "markdown",
      "source": [
        "<p>Cuando se trata de regresión lineal simple, una excelente manera de visualizar el ajuste de nuestro modelo es mediante el uso de <b>gráficos de regresión</b>.</p>\n",
        "\n",
        "<p>Este gráfico mostrará una combinación de puntos de datos dispersos (un <b>diagrama de dispersión</b>), así como la línea de <b>regresión lineal</b> ajustada que atraviesa los datos. Esto nos dará una estimación razonable de la relación entre las dos variables, la fuerza de la correlación, así como la dirección (correlación positiva o negativa).</p>\n"
      ],
      "metadata": {
        "id": "Z0RIGV9lHCyG"
      }
    },
    {
      "cell_type": "markdown",
      "source": [
        "\n",
        "Visualicemos **mpg en carretera** como una posible variable de predicción del **price**:\n"
      ],
      "metadata": {
        "id": "xSfRCWe4HCyG"
      }
    },
    {
      "cell_type": "code",
      "source": [
        "width = 12\n",
        "height = 10\n",
        "plt.figure(figsize=(width, height))\n",
        "sns.regplot(x=\"highway-mpg\", y=\"price\", data=df)\n",
        "plt.ylim(0,)"
      ],
      "metadata": {
        "trusted": true,
        "colab": {
          "base_uri": "https://localhost:8080/",
          "height": 623
        },
        "id": "Ruq5XsR8HCyG",
        "outputId": "9aecc3b7-4de1-4015-a0ea-58b73bf0bf46"
      },
      "execution_count": 28,
      "outputs": [
        {
          "output_type": "execute_result",
          "data": {
            "text/plain": [
              "(0.0, 48164.006956450175)"
            ]
          },
          "metadata": {},
          "execution_count": 28
        },
        {
          "output_type": "display_data",
          "data": {
            "text/plain": [
              "<Figure size 864x720 with 1 Axes>"
            ],
            "image/png": "[encoded data removed]"
          },
          "metadata": {
            "needs_background": "light"
          }
        }
      ]
    },
    {
      "cell_type": "markdown",
      "source": [
        "<p>Podemos ver en este gráfico que el precio está negativamente correlacionado con el highway-mpg ya que la pendiente de regresión es negativa.\n",
        "\n",
        "Una cosa a tener en cuenta al mirar un gráfico de regresión es prestar atención a cuán dispersos están los puntos de datos alrededor de la línea de regresión. Esto le dará una buena indicación de la variación de los datos y si un modelo lineal sería el mejor ajuste o no. Si los datos están demasiado alejados de la línea, este modelo lineal podría no ser el mejor modelo para estos datos.\n",
        "\n",
        "Comparemos este gráfico con el gráfico de regresión de \"pico-rpm\".</p>\n"
      ],
      "metadata": {
        "id": "4P1AlXmvHCyG"
      }
    },
    {
      "cell_type": "code",
      "source": [
        "plt.figure(figsize=(width, height))\n",
        "sns.regplot(x=\"peak-rpm\", y=\"price\", data=df)\n",
        "plt.ylim(0,)"
      ],
      "metadata": {
        "trusted": true,
        "colab": {
          "base_uri": "https://localhost:8080/",
          "height": 623
        },
        "id": "aKEw7hc5HCyH",
        "outputId": "ae7bc3b6-1761-4a37-914c-8199bf42bfc9"
      },
      "execution_count": 29,
      "outputs": [
        {
          "output_type": "execute_result",
          "data": {
            "text/plain": [
              "(0.0, 47414.1)"
            ]
          },
          "metadata": {},
          "execution_count": 29
        },
        {
          "output_type": "display_data",
          "data": {
            "text/plain": [
              "<Figure size 864x720 with 1 Axes>"
            ],
            "image/png": "[encoded data removed]"
          },
          "metadata": {
            "needs_background": "light"
          }
        }
      ]
    },
    {
      "cell_type": "markdown",
      "source": [
        "<p>Al comparar el gráfico de regresión de \"peak-rpm\" y \"highway-mpg\", vemos que los puntos de \"highway-mpg\" están mucho más cerca de la línea generada y, en promedio, disminuyen. Los puntos de \"peak-rpm\" están más dispersos alrededor de la línea predicha y es mucho más difícil determinar si los puntos disminuyen o aumentan a medida que aumenta el \"peak-rpm\".</p>\n"
      ],
      "metadata": {
        "id": "KsbDxlnFHCyH"
      }
    },
    {
      "cell_type": "markdown",
      "source": [
        "#**Pregunta #3:**\n",
        "\n",
        "<b>Dados los gráficos de regresión anteriores, ¿las \"peak-rpm\" y \"highway-mpg\" están más fuertemente correlacionadas con el \"precio\"? Usa el método \".corr()\" para verificar tu respuesta.</b>\n",
        "</div>\n"
      ],
      "metadata": {
        "id": "kmOodL9fHCyH"
      }
    },
    {
      "cell_type": "code",
      "source": [
        "df[[\"peak-rpm\",\"highway-mpg\",\"price\"]].corr()"
      ],
      "metadata": {
        "trusted": true,
        "colab": {
          "base_uri": "https://localhost:8080/",
          "height": 143
        },
        "id": "_Vdvzo3BHCyH",
        "outputId": "f960140b-8e73-413c-c882-874c132566ec"
      },
      "execution_count": 30,
      "outputs": [
        {
          "output_type": "execute_result",
          "data": {
            "text/plain": [
              "             peak-rpm  highway-mpg     price\n",
              "peak-rpm     1.000000    -0.058598 -0.101616\n",
              "highway-mpg -0.058598     1.000000 -0.704692\n",
              "price       -0.101616    -0.704692  1.000000"
            ],
            "text/html": [
              "\n",
              "  <div id=\"df-e0503f00-01b6-49bc-a2e2-309dca824357\">\n",
              "    <div class=\"colab-df-container\">\n",
              "      <div>\n",
              "<style scoped>\n",
              "    .dataframe tbody tr th:only-of-type {\n",
              "        vertical-align: middle;\n",
              "    }\n",
              "\n",
              "    .dataframe tbody tr th {\n",
              "        vertical-align: top;\n",
              "    }\n",
              "\n",
              "    .dataframe thead th {\n",
              "        text-align: right;\n",
              "    }\n",
              "</style>\n",
              "<table border=\"1\" class=\"dataframe\">\n",
              "  <thead>\n",
              "    <tr style=\"text-align: right;\">\n",
              "      <th></th>\n",
              "      <th>peak-rpm</th>\n",
              "      <th>highway-mpg</th>\n",
              "      <th>price</th>\n",
              "    </tr>\n",
              "  </thead>\n",
              "  <tbody>\n",
              "    <tr>\n",
              "      <th>peak-rpm</th>\n",
              "      <td>1.000000</td>\n",
              "      <td>-0.058598</td>\n",
              "      <td>-0.101616</td>\n",
              "    </tr>\n",
              "    <tr>\n",
              "      <th>highway-mpg</th>\n",
              "      <td>-0.058598</td>\n",
              "      <td>1.000000</td>\n",
              "      <td>-0.704692</td>\n",
              "    </tr>\n",
              "    <tr>\n",
              "      <th>price</th>\n",
              "      <td>-0.101616</td>\n",
              "      <td>-0.704692</td>\n",
              "      <td>1.000000</td>\n",
              "    </tr>\n",
              "  </tbody>\n",
              "</table>\n",
              "</div>\n",
              "      <button class=\"colab-df-convert\" onclick=\"convertToInteractive('df-e0503f00-01b6-49bc-a2e2-309dca824357')\"\n",
              "              title=\"Convert this dataframe to an interactive table.\"\n",
              "              style=\"display:none;\">\n",
              "        \n",
              "  <svg xmlns=\"http://www.w3.org/2000/svg\" height=\"24px\"viewBox=\"0 0 24 24\"\n",
              "       width=\"24px\">\n",
              "    <path d=\"M0 0h24v24H0V0z\" fill=\"none\"/>\n",
              "    <path d=\"M18.56 5.44l.94 2.06.94-2.06 2.06-.94-2.06-.94-.94-2.06-.94 2.06-2.06.94zm-11 1L8.5 8.5l.94-2.06 2.06-.94-2.06-.94L8.5 2.5l-.94 2.06-2.06.94zm10 10l.94 2.06.94-2.06 2.06-.94-2.06-.94-.94-2.06-.94 2.06-2.06.94z\"/><path d=\"M17.41 7.96l-1.37-1.37c-.4-.4-.92-.59-1.43-.59-.52 0-1.04.2-1.43.59L10.3 9.45l-7.72 7.72c-.78.78-.78 2.05 0 2.83L4 21.41c.39.39.9.59 1.41.59.51 0 1.02-.2 1.41-.59l7.78-7.78 2.81-2.81c.8-.78.8-2.07 0-2.86zM5.41 20L4 18.59l7.72-7.72 1.47 1.35L5.41 20z\"/>\n",
              "  </svg>\n",
              "      </button>\n",
              "      \n",
              "  <style>\n",
              "    .colab-df-container {\n",
              "      display:flex;\n",
              "      flex-wrap:wrap;\n",
              "      gap: 12px;\n",
              "    }\n",
              "\n",
              "    .colab-df-convert {\n",
              "      background-color: #E8F0FE;\n",
              "      border: none;\n",
              "      border-radius: 50%;\n",
              "      cursor: pointer;\n",
              "      display: none;\n",
              "      fill: #1967D2;\n",
              "      height: 32px;\n",
              "      padding: 0 0 0 0;\n",
              "      width: 32px;\n",
              "    }\n",
              "\n",
              "    .colab-df-convert:hover {\n",
              "      background-color: #E2EBFA;\n",
              "      box-shadow: 0px 1px 2px rgba(60, 64, 67, 0.3), 0px 1px 3px 1px rgba(60, 64, 67, 0.15);\n",
              "      fill: #174EA6;\n",
              "    }\n",
              "\n",
              "    [theme=dark] .colab-df-convert {\n",
              "      background-color: #3B4455;\n",
              "      fill: #D2E3FC;\n",
              "    }\n",
              "\n",
              "    [theme=dark] .colab-df-convert:hover {\n",
              "      background-color: #434B5C;\n",
              "      box-shadow: 0px 1px 3px 1px rgba(0, 0, 0, 0.15);\n",
              "      filter: drop-shadow(0px 1px 2px rgba(0, 0, 0, 0.3));\n",
              "      fill: #FFFFFF;\n",
              "    }\n",
              "  </style>\n",
              "\n",
              "      <script>\n",
              "        const buttonEl =\n",
              "          document.querySelector('#df-e0503f00-01b6-49bc-a2e2-309dca824357 button.colab-df-convert');\n",
              "        buttonEl.style.display =\n",
              "          google.colab.kernel.accessAllowed ? 'block' : 'none';\n",
              "\n",
              "        async function convertToInteractive(key) {\n",
              "          const element = document.querySelector('#df-e0503f00-01b6-49bc-a2e2-309dca824357');\n",
              "          const dataTable =\n",
              "            await google.colab.kernel.invokeFunction('convertToInteractive',\n",
              "                                                     [key], {});\n",
              "          if (!dataTable) return;\n",
              "\n",
              "          const docLinkHtml = 'Like what you see? Visit the ' +\n",
              "            '<a target=\"_blank\" href=https://colab.research.google.com/notebooks/data_table.ipynb>data table notebook</a>'\n",
              "            + ' to learn more about interactive tables.';\n",
              "          element.innerHTML = '';\n",
              "          dataTable['output_type'] = 'display_data';\n",
              "          await google.colab.output.renderOutput(dataTable, element);\n",
              "          const docLink = document.createElement('div');\n",
              "          docLink.innerHTML = docLinkHtml;\n",
              "          element.appendChild(docLink);\n",
              "        }\n",
              "      </script>\n",
              "    </div>\n",
              "  </div>\n",
              "  "
            ]
          },
          "metadata": {},
          "execution_count": 30
        }
      ]
    },
    {
      "cell_type": "markdown",
      "source": [
        "#**Residual Plot**\n",
        "\n",
        "<p>Una buena manera de visualizar la varianza de los datos es usar un gráfico de residuos.</p>\n",
        "\n",
        "<p>¿Qué es un <b>residual</b>?</p>\n",
        "\n",
        "<p>La diferencia entre el valor observado (y) y el valor pronosticado (Yhat) se denomina residual (e). Cuando observamos un gráfico de regresión, el residuo es la distancia desde el punto de datos hasta la línea de regresión ajustada.</p>\n",
        "\n",
        "<p>Entonces, ¿qué es una <b>parcela residual</b>?</p>\n",
        "\n",
        "<p>Una gráfica de residuos es un gráfico que muestra los residuos en el eje vertical y y la variable independiente en el eje horizontal x.</p>\n",
        "\n",
        "<p>¿A qué prestamos atención cuando observamos una parcela residual?</p>\n",
        "\n",
        "<p>Observamos la dispersión de los residuos:</p>\n",
        "\n",
        "<p>- Si los puntos en un gráfico residual están <b>distribuidos aleatoriamente alrededor del eje x</b>, entonces un <b>modelo lineal es apropiado</b> para los datos.\n",
        "\n",
        "¿Porqué es eso? Residuos distribuidos aleatoriamente significa que la varianza es constante y, por lo tanto, el modelo lineal se ajusta bien a estos datos.</p>\n"
      ],
      "metadata": {
        "id": "huffK0epHCyH"
      }
    },
    {
      "cell_type": "code",
      "source": [
        "width = 12\n",
        "height = 10\n",
        "plt.figure(figsize=(width, height))\n",
        "sns.residplot(x=df['highway-mpg'],y=df['price'])\n",
        "plt.show()"
      ],
      "metadata": {
        "trusted": true,
        "colab": {
          "base_uri": "https://localhost:8080/",
          "height": 606
        },
        "id": "NoWdBrnIHCyH",
        "outputId": "8658b4ef-227e-4385-b3ef-c7c68f3dcc85"
      },
      "execution_count": 31,
      "outputs": [
        {
          "output_type": "display_data",
          "data": {
            "text/plain": [
              "<Figure size 864x720 with 1 Axes>"
            ],
            "image/png": "[encoded data removed]"
          },
          "metadata": {
            "needs_background": "light"
          }
        }
      ]
    },
    {
      "cell_type": "markdown",
      "source": [
        "<i>¿Qué nos está diciendo esta trama?</i>\n",
        "\n",
        "<p>Podemos ver en este gráfico de residuos que los residuos no se distribuyen aleatoriamente alrededor del eje x, lo que nos lleva a creer que tal vez un modelo no lineal sea más apropiado para estos datos.</p>\n"
      ],
      "metadata": {
        "id": "TkZRgIP7HCyI"
      }
    },
    {
      "cell_type": "markdown",
      "source": [
        "\n",
        "#**Regresión lineal múltiple**\n"
      ],
      "metadata": {
        "id": "gMYbbt1oHCyI"
      }
    },
    {
      "cell_type": "markdown",
      "source": [
        "<p>¿Cómo visualizamos un modelo de regresión lineal múltiple? Esto se vuelve un poco más complicado porque no puede visualizarlo con regresión o gráfico residual.</p>\n",
        "\n",
        "<p>Una forma de ver el ajuste del modelo es mirar el <b>gráfico de distribución</b>. Podemos observar la distribución de los valores ajustados que resultan del modelo y compararla con la distribución de los valores reales.</p>\n"
      ],
      "metadata": {
        "id": "1uUCc9PPHCyI"
      }
    },
    {
      "cell_type": "markdown",
      "source": [
        "Primero, hagamos una predicción:\n"
      ],
      "metadata": {
        "id": "vxCzwv4fHCyI"
      }
    },
    {
      "cell_type": "code",
      "source": [
        "Y_hat = lm.predict(Z)\n"
      ],
      "metadata": {
        "trusted": true,
        "id": "IavljzJkHCyI"
      },
      "execution_count": 32,
      "outputs": []
    },
    {
      "cell_type": "code",
      "source": [
        "plt.figure(figsize=(width, height))\n",
        "\n",
        "\n",
        "ax1 = sns.distplot(df['price'], hist=False, color=\"r\", label=\"Actual Value\")\n",
        "sns.distplot(Y_hat, hist=False, color=\"b\", label=\"Fitted Values\" , ax=ax1)\n",
        "\n",
        "\n",
        "plt.title('Actual vs Fitted Values for Price')\n",
        "plt.xlabel('Price (in dollars)')\n",
        "plt.ylabel('Proportion of Cars')\n",
        "\n",
        "plt.show()\n",
        "plt.close()"
      ],
      "metadata": {
        "trusted": true,
        "colab": {
          "base_uri": "https://localhost:8080/",
          "height": 710
        },
        "id": "09QA63CeHCyI",
        "outputId": "31cb9244-294d-4902-8b0a-37c37000e54c"
      },
      "execution_count": 33,
      "outputs": [
        {
          "output_type": "stream",
          "name": "stderr",
          "text": [
            "/usr/local/lib/python3.7/dist-packages/seaborn/distributions.py:2619: FutureWarning: `distplot` is a deprecated function and will be removed in a future version. Please adapt your code to use either `displot` (a figure-level function with similar flexibility) or `kdeplot` (an axes-level function for kernel density plots).\n",
            "  warnings.warn(msg, FutureWarning)\n",
            "/usr/local/lib/python3.7/dist-packages/seaborn/distributions.py:2619: FutureWarning: `distplot` is a deprecated function and will be removed in a future version. Please adapt your code to use either `displot` (a figure-level function with similar flexibility) or `kdeplot` (an axes-level function for kernel density plots).\n",
            "  warnings.warn(msg, FutureWarning)\n"
          ]
        },
        {
          "output_type": "display_data",
          "data": {
            "text/plain": [
              "<Figure size 864x720 with 1 Axes>"
            ],
            "image/png": "[encoded data removed]"
          },
          "metadata": {
            "needs_background": "light"
          }
        }
      ]
    },
    {
      "cell_type": "markdown",
      "source": [
        "<p>Podemos ver que los valores ajustados están razonablemente cerca de los valores reales ya que las dos distribuciones se superponen un poco. Sin embargo, definitivamente hay margen de mejora.</p>\n"
      ],
      "metadata": {
        "id": "LSA-gftrHCyI"
      }
    },
    {
      "cell_type": "markdown",
      "source": [
        "#**3. Polynomial Regression and Pipelines**\n"
      ],
      "metadata": {
        "id": "eew437HIHCyI"
      }
    },
    {
      "cell_type": "markdown",
      "source": [
        "<p><b>La regresión polinomial</b> es un caso particular del modelo de regresión lineal general o de los modelos de regresión lineal múltiple.</p>\n",
        "<p>Obtenemos relaciones no lineales elevando al cuadrado o estableciendo términos de orden superior de las variables predictoras.</p>\n",
        "\n",
        "<p>Hay diferentes órdenes de regresión polinomial:</p>\n"
      ],
      "metadata": {
        "id": "IwG32IWFHCyI"
      }
    },
    {
      "cell_type": "markdown",
      "source": [
        "<center><b>Quadratic - 2nd Order</b></center>\n",
        "$$\n",
        "Yhat = a + b_1 X +b_2 X^2 \n",
        "$$\n",
        "\n",
        "<center><b>Cubic - 3rd Order</b></center>\n",
        "$$\n",
        "Yhat = a + b_1 X +b_2 X^2 +b_3 X^3\\\\\\\\\\\\\\\\\\\\\n",
        "$$\n",
        "\n",
        "<center><b>Higher-Order</b>:</center>\n",
        "$$\n",
        "Y = a + b_1 X +b_2 X^2 +b_3 X^3 ....\\\\\\\\\n",
        "$$\n"
      ],
      "metadata": {
        "id": "2WP9GvlTHCyI"
      }
    },
    {
      "cell_type": "markdown",
      "source": [
        "<p>Vimos anteriormente que un modelo lineal no proporcionaba el mejor ajuste cuando se usaba \"mpg en carretera\" como variable de predicción. Veamos si podemos intentar ajustar un modelo polinomial a los datos.</p>"
      ],
      "metadata": {
        "id": "-WrEgiuuHCyJ"
      }
    },
    {
      "cell_type": "markdown",
      "source": [
        "<p>Usaremos la siguiente función para graficar los datos:</p>\n"
      ],
      "metadata": {
        "id": "vJlsQd6PHCyJ"
      }
    },
    {
      "cell_type": "code",
      "source": [
        "def PlotPolly(model, independent_variable, dependent_variabble, Name):\n",
        "    x_new = np.linspace(15, 55, 100)\n",
        "    y_new = model(x_new)\n",
        "\n",
        "    plt.plot(independent_variable, dependent_variabble, '.', x_new, y_new, '-')\n",
        "    plt.title('Polynomial Fit with Matplotlib for Price ~ Length')\n",
        "    ax = plt.gca()\n",
        "    ax.set_facecolor((0.898, 0.898, 0.898))\n",
        "    fig = plt.gcf()\n",
        "    plt.xlabel(Name)\n",
        "    plt.ylabel('Price of Cars')\n",
        "\n",
        "    plt.show()\n",
        "    plt.close()"
      ],
      "metadata": {
        "trusted": true,
        "id": "apbHYR_UHCyJ"
      },
      "execution_count": 34,
      "outputs": []
    },
    {
      "cell_type": "markdown",
      "source": [
        "Obtengamos las variables:\n"
      ],
      "metadata": {
        "id": "8Zl9cZp3HCyJ"
      }
    },
    {
      "cell_type": "code",
      "source": [
        "x = df['highway-mpg']\n",
        "y = df['price']"
      ],
      "metadata": {
        "trusted": true,
        "id": "gkzUnmJLHCyJ"
      },
      "execution_count": 35,
      "outputs": []
    },
    {
      "cell_type": "markdown",
      "source": [
        "\n",
        "Ajustemos el polinomio usando la función <b>polyfit</b>, luego usemos la función <b>poly1d</b> para mostrar la función polinomial.\n"
      ],
      "metadata": {
        "id": "B3fdsQD0HCyJ"
      }
    },
    {
      "cell_type": "code",
      "source": [
        "# Aquí usamos un polinomio de tercer orden (cúbico)\n",
        "f = np.polyfit(x, y, 3)\n",
        "p = np.poly1d(f)\n",
        "print(p)"
      ],
      "metadata": {
        "trusted": true,
        "colab": {
          "base_uri": "https://localhost:8080/"
        },
        "id": "KGonT7_OHCyJ",
        "outputId": "91f0604e-6b1e-46c7-a505-8e5d1ea31739"
      },
      "execution_count": 36,
      "outputs": [
        {
          "output_type": "stream",
          "name": "stdout",
          "text": [
            "        3         2\n",
            "-1.557 x + 204.8 x - 8965 x + 1.379e+05\n"
          ]
        }
      ]
    },
    {
      "cell_type": "markdown",
      "source": [
        "Grafiquemos la función:"
      ],
      "metadata": {
        "id": "Vv-BVG_1HCyJ"
      }
    },
    {
      "cell_type": "code",
      "source": [
        "PlotPolly(p, x, y, 'highway-mpg')"
      ],
      "metadata": {
        "trusted": true,
        "colab": {
          "base_uri": "https://localhost:8080/",
          "height": 295
        },
        "id": "zg1YyLprHCyJ",
        "outputId": "95e491a9-0191-4ddf-b357-7ca98c64a777"
      },
      "execution_count": 37,
      "outputs": [
        {
          "output_type": "display_data",
          "data": {
            "text/plain": [
              "<Figure size 432x288 with 1 Axes>"
            ],
            "image/png": "[encoded data removed]"
          },
          "metadata": {
            "needs_background": "light"
          }
        }
      ]
    },
    {
      "cell_type": "code",
      "source": [
        "np.polyfit(x, y, 3)"
      ],
      "metadata": {
        "trusted": true,
        "colab": {
          "base_uri": "https://localhost:8080/"
        },
        "id": "PvfajrfFHCyK",
        "outputId": "e3024058-cef5-4928-febb-cb6b19475d2e"
      },
      "execution_count": 38,
      "outputs": [
        {
          "output_type": "execute_result",
          "data": {
            "text/plain": [
              "array([-1.55663829e+00,  2.04754306e+02, -8.96543312e+03,  1.37923594e+05])"
            ]
          },
          "metadata": {},
          "execution_count": 38
        }
      ]
    },
    {
      "cell_type": "markdown",
      "source": [
        "<p>Ya podemos ver en el gráfico que este modelo polinomial funciona mejor que el modelo lineal. Esto se debe a que la función polinomial generada \"golpea\" más puntos de datos.</p>"
      ],
      "metadata": {
        "id": "HasZvDiXHCyK"
      }
    },
    {
      "cell_type": "markdown",
      "source": [
        "#**Question  #4:**\n",
        "\n",
        "<b>Cree un modelo polinomial de 11 órdenes con las variables x e y de arriba.</b>\n",
        "</div>\n"
      ],
      "metadata": {
        "id": "yP9xMzSSHCyK"
      }
    },
    {
      "cell_type": "code",
      "source": [
        "f1 = np.polyfit(x, y, 11)\n",
        "p1 = np.poly1d(f1)\n",
        "print(p1)\n",
        "PlotPolly(p1,x,y, 'Highway MPG')"
      ],
      "metadata": {
        "trusted": true,
        "colab": {
          "base_uri": "https://localhost:8080/",
          "height": 364
        },
        "id": "DIv-uDfkHCyK",
        "outputId": "72c2362f-126f-4ca3-bc19-14754daa7f4a"
      },
      "execution_count": 39,
      "outputs": [
        {
          "output_type": "stream",
          "name": "stdout",
          "text": [
            "            11             10             9           8         7\n",
            "-1.243e-08 x  + 4.722e-06 x  - 0.0008028 x + 0.08056 x - 5.297 x\n",
            "          6        5             4             3             2\n",
            " + 239.5 x - 7588 x + 1.684e+05 x - 2.565e+06 x + 2.551e+07 x - 1.491e+08 x + 3.879e+08\n"
          ]
        },
        {
          "output_type": "display_data",
          "data": {
            "text/plain": [
              "<Figure size 432x288 with 1 Axes>"
            ],
            "image/png": "[encoded data removed]"
          },
          "metadata": {
            "needs_background": "light"
          }
        }
      ]
    },
    {
      "cell_type": "markdown",
      "source": [
        "\n",
        "<p>La expresión analítica para la función polinomial multivariante se complica. Por ejemplo, la expresión de un polinomio de segundo orden (grado=2) con dos variables viene dada por:</p>\n"
      ],
      "metadata": {
        "id": "mK1fOhZ-HCyK"
      }
    },
    {
      "cell_type": "markdown",
      "source": [
        "$$\n",
        "Yhat = a + b\\_1 X\\_1 +b\\_2 X\\_2 +b\\_3 X\\_1 X\\_2+b\\_4 X\\_1^2+b\\_5 X\\_2^2\n",
        "$$\n"
      ],
      "metadata": {
        "id": "ehcAn4fVHCyK"
      }
    },
    {
      "cell_type": "markdown",
      "source": [
        "Podemos realizar una transformación polinomial en múltiples características. Primero, importamos el módulo:\n"
      ],
      "metadata": {
        "id": "hnwBf1h3HCyK"
      }
    },
    {
      "cell_type": "code",
      "source": [
        "from sklearn.preprocessing import PolynomialFeatures"
      ],
      "metadata": {
        "trusted": true,
        "id": "cn-h21f0HCyK"
      },
      "execution_count": 40,
      "outputs": []
    },
    {
      "cell_type": "markdown",
      "source": [
        "\n",
        "Creamos un objeto <b>PolynomialFeatures</b> de grado 2:\n"
      ],
      "metadata": {
        "id": "-tYg7fDgHCyL"
      }
    },
    {
      "cell_type": "code",
      "source": [
        "pr=PolynomialFeatures(degree=2)\n",
        "pr"
      ],
      "metadata": {
        "trusted": true,
        "colab": {
          "base_uri": "https://localhost:8080/"
        },
        "id": "KUgaB-ZwHCyL",
        "outputId": "3c492506-ee93-48e8-8a50-4d08a344bf40"
      },
      "execution_count": 41,
      "outputs": [
        {
          "output_type": "execute_result",
          "data": {
            "text/plain": [
              "PolynomialFeatures()"
            ]
          },
          "metadata": {},
          "execution_count": 41
        }
      ]
    },
    {
      "cell_type": "code",
      "source": [
        "Z_pr=pr.fit_transform(Z)"
      ],
      "metadata": {
        "trusted": true,
        "id": "FIHB43zaHCyL"
      },
      "execution_count": 42,
      "outputs": []
    },
    {
      "cell_type": "markdown",
      "source": [
        "En los datos originales, hay 201 muestras y 4 funciones."
      ],
      "metadata": {
        "id": "ZZ0s-4MiHCyL"
      }
    },
    {
      "cell_type": "code",
      "source": [
        "Z.shape"
      ],
      "metadata": {
        "trusted": true,
        "colab": {
          "base_uri": "https://localhost:8080/"
        },
        "id": "VOotIV2_HCyL",
        "outputId": "3679ce30-768a-43fb-9e53-6d41a30f039e"
      },
      "execution_count": 43,
      "outputs": [
        {
          "output_type": "execute_result",
          "data": {
            "text/plain": [
              "(201, 4)"
            ]
          },
          "metadata": {},
          "execution_count": 43
        }
      ]
    },
    {
      "cell_type": "markdown",
      "source": [
        "Después de la transformación, hay 201 muestras y 15 funciones.\n"
      ],
      "metadata": {
        "id": "OYc1rp6cHCyL"
      }
    },
    {
      "cell_type": "code",
      "source": [
        "Z_pr.shape"
      ],
      "metadata": {
        "trusted": true,
        "colab": {
          "base_uri": "https://localhost:8080/"
        },
        "id": "Qakb6dxUHCyL",
        "outputId": "ae1f26e4-1c61-44bf-afab-2c4d9cac73fc"
      },
      "execution_count": 44,
      "outputs": [
        {
          "output_type": "execute_result",
          "data": {
            "text/plain": [
              "(201, 15)"
            ]
          },
          "metadata": {},
          "execution_count": 44
        }
      ]
    },
    {
      "cell_type": "markdown",
      "source": [
        "<h2>Pipeline</h2>\n"
      ],
      "metadata": {
        "id": "Hfc49vZ0HCyL"
      }
    },
    {
      "cell_type": "markdown",
      "source": [
        "\n",
        "<p>Las canalizaciones de datos simplifican los pasos para procesar los datos. Usamos el módulo <b>Pipeline</b> para crear un pipeline. También usamos <b>StandardScaler</b> como un paso en nuestra canalización.</p>\n"
      ],
      "metadata": {
        "id": "bW2sBmtrHCyL"
      }
    },
    {
      "cell_type": "code",
      "source": [
        "from sklearn.pipeline import Pipeline\n",
        "from sklearn.preprocessing import StandardScaler"
      ],
      "metadata": {
        "trusted": true,
        "id": "9Ts8CzKMHCyM"
      },
      "execution_count": 48,
      "outputs": []
    },
    {
      "cell_type": "markdown",
      "source": [
        "Creamos el pipeline creando una lista de tuplas incluyendo el nombre del modelo o estimador y su constructor correspondiente.\n"
      ],
      "metadata": {
        "id": "zJh6neXIHCyM"
      }
    },
    {
      "cell_type": "code",
      "source": [
        "Input=[('scaler', StandardScaler()), ('polynomial', PolynomialFeatures(include_bias=False)), ('model',LinearRegression())]"
      ],
      "metadata": {
        "trusted": true,
        "id": "rJkrV8VSHCyM"
      },
      "execution_count": 49,
      "outputs": []
    },
    {
      "cell_type": "markdown",
      "source": [
        "Ingresamos la lista como un argumento para el constructor del pipeline:\n"
      ],
      "metadata": {
        "id": "TQLG-Tw0HCyM"
      }
    },
    {
      "cell_type": "code",
      "source": [
        "pipe=Pipeline(Input)\n",
        "pipe"
      ],
      "metadata": {
        "trusted": true,
        "colab": {
          "base_uri": "https://localhost:8080/"
        },
        "id": "uk-XA_F-HCyM",
        "outputId": "7cc20c12-49ed-4228-b109-0c1e873cbfcf"
      },
      "execution_count": 50,
      "outputs": [
        {
          "output_type": "execute_result",
          "data": {
            "text/plain": [
              "Pipeline(steps=[('scaler', StandardScaler()),\n",
              "                ('polynomial', PolynomialFeatures(include_bias=False)),\n",
              "                ('model', LinearRegression())])"
            ]
          },
          "metadata": {},
          "execution_count": 50
        }
      ]
    },
    {
      "cell_type": "markdown",
      "source": [
        "Primero, convertimos el tipo de datos Z al tipo flotante para evitar las advertencias de conversión que pueden aparecer como resultado de que StandardScaler tome entradas flotantes.\n",
        "\n",
        "Luego, podemos normalizar los datos, realizar una transformación y ajustar el modelo simultáneamente.\n"
      ],
      "metadata": {
        "id": "Adyx3DV8HCyM"
      }
    },
    {
      "cell_type": "code",
      "source": [
        "Z = Z.astype(float)\n",
        "pipe.fit(Z,y)"
      ],
      "metadata": {
        "trusted": true,
        "colab": {
          "base_uri": "https://localhost:8080/"
        },
        "id": "Fqfxy9KxHCyM",
        "outputId": "96dc5c16-e2f3-4556-b367-5fde5c12a252"
      },
      "execution_count": 51,
      "outputs": [
        {
          "output_type": "execute_result",
          "data": {
            "text/plain": [
              "Pipeline(steps=[('scaler', StandardScaler()),\n",
              "                ('polynomial', PolynomialFeatures(include_bias=False)),\n",
              "                ('model', LinearRegression())])"
            ]
          },
          "metadata": {},
          "execution_count": 51
        }
      ]
    },
    {
      "cell_type": "markdown",
      "source": [
        "\n",
        "De manera similar, podemos normalizar los datos, realizar una transformación y producir una predicción simultáneamente.\n"
      ],
      "metadata": {
        "id": "ng2flSsLHCyM"
      }
    },
    {
      "cell_type": "code",
      "source": [
        "ypipe=pipe.predict(Z)\n",
        "ypipe[0:4]"
      ],
      "metadata": {
        "trusted": true,
        "colab": {
          "base_uri": "https://localhost:8080/"
        },
        "id": "Y9kLo8CjHCyM",
        "outputId": "f8599555-ed23-47d3-c9f2-44d425b2afc0"
      },
      "execution_count": 52,
      "outputs": [
        {
          "output_type": "execute_result",
          "data": {
            "text/plain": [
              "array([13102.74784201, 13102.74784201, 18225.54572197, 10390.29636555])"
            ]
          },
          "metadata": {},
          "execution_count": 52
        }
      ]
    },
    {
      "cell_type": "markdown",
      "source": [
        "#Pregunta #5:\n",
        "\n",
        "<b>Cree una canalización que estandarice los datos, luego produzca una predicción usando un modelo de regresión lineal usando las características Z y el objetivo y.</b>\n",
        "</div>\n"
      ],
      "metadata": {
        "id": "APPbPAM7HCyM"
      }
    },
    {
      "cell_type": "code",
      "source": [
        "Input=[('scale',StandardScaler()),('model',LinearRegression())]\n",
        "\n",
        "pipe=Pipeline(Input)\n",
        "\n",
        "pipe.fit(Z,y)\n",
        "\n",
        "ypipe=pipe.predict(Z)\n",
        "ypipe[0:10]"
      ],
      "metadata": {
        "trusted": true,
        "colab": {
          "base_uri": "https://localhost:8080/"
        },
        "id": "BAp_i1zgHCyN",
        "outputId": "16ca11da-65ef-4529-e7f2-cc8c2849f710"
      },
      "execution_count": 54,
      "outputs": [
        {
          "output_type": "execute_result",
          "data": {
            "text/plain": [
              "array([13699.11161184, 13699.11161184, 19051.65470233, 10620.36193015,\n",
              "       15521.31420211, 13869.66673213, 15456.16196732, 15974.00907672,\n",
              "       17612.35917161, 10722.32509097])"
            ]
          },
          "metadata": {},
          "execution_count": 54
        }
      ]
    },
    {
      "cell_type": "markdown",
      "source": [
        "\n",
        "#**4. Medidas para la evaluación dentro de la muestra**\n"
      ],
      "metadata": {
        "id": "rvuBAEOTHCyN"
      }
    },
    {
      "cell_type": "markdown",
      "source": [
        "<p>Al evaluar nuestros modelos, no solo queremos visualizar los resultados, sino que también queremos una medida cuantitativa para determinar qué tan preciso es el modelo.</p>\n",
        "\n",
        "<p>Dos medidas muy importantes que se utilizan a menudo en Estadística para determinar la precisión de un modelo son:</p>\n",
        "<ul>\n",
        "    <li><b>R^2 / R-squared</b></li>\n",
        "    <li><b>Mean Squared Error (MSE)</b></li>\n",
        "</ul>\n",
        "\n",
        "<b>R-squared</b>\n",
        "\n",
        "<p>R al cuadrado, también conocido como coeficiente de determinación, es una medida para indicar qué tan cerca están los datos de la línea de regresión ajustada.</p\n",
        "\n",
        "<p>El valor de la R-cuadrada es el porcentaje de variación de la variable de respuesta (y) que se explica mediante un modelo lineal.</p>\n",
        "\n",
        "<b>Mean Squared Error (MSE)</b>\n",
        "\n",
        "<p>El **Mean Squared Error** mide el promedio de los cuadrados de los errores. Es decir, la diferencia entre el valor real (y) y el valor estimado (ŷ).</p>\n"
      ],
      "metadata": {
        "id": "XSiWRzGIHCyN"
      }
    },
    {
      "cell_type": "markdown",
      "source": [
        "#**Modelo 1: Regresión lineal simple**\n"
      ],
      "metadata": {
        "id": "Vk7qOSGFHCyN"
      }
    },
    {
      "cell_type": "markdown",
      "source": [
        "\n",
        "Calculemos el R^2:\n"
      ],
      "metadata": {
        "id": "DR9_yWY6HCyN"
      }
    },
    {
      "cell_type": "code",
      "source": [
        "#highway_mpg_fit\n",
        "lm.fit(X, Y)\n",
        "# Find the R^2\n",
        "print('The R-square is: ', lm.score(X, Y))"
      ],
      "metadata": {
        "scrolled": true,
        "trusted": true,
        "colab": {
          "base_uri": "https://localhost:8080/"
        },
        "id": "FJCYCEw7HCyN",
        "outputId": "9f7ae317-be2a-46b5-ff3f-1d1f0139b937"
      },
      "execution_count": 55,
      "outputs": [
        {
          "output_type": "stream",
          "name": "stdout",
          "text": [
            "The R-square is:  0.4965911884339176\n"
          ]
        }
      ]
    },
    {
      "cell_type": "markdown",
      "source": [
        "\n",
        "Podemos decir que \\~49.659% de la variación del precio se explica por este modelo lineal simple \"horsepower_fit\".\n"
      ],
      "metadata": {
        "id": "nxBDItaLHCyO"
      }
    },
    {
      "cell_type": "markdown",
      "source": [
        "\n",
        "**Calculamos la MSE:**\n"
      ],
      "metadata": {
        "id": "6ImpkVNkHCyO"
      }
    },
    {
      "cell_type": "markdown",
      "source": [
        "Podemos predecir la salida, es decir, \"yhat\" usando el método de predicción, donde X es la variable de entrada:"
      ],
      "metadata": {
        "id": "tUHaWpvyHCyO"
      }
    },
    {
      "cell_type": "code",
      "source": [
        "Yhat=lm.predict(X)\n",
        "print('The output of the first four predicted value is: ', Yhat[0:4])"
      ],
      "metadata": {
        "trusted": true,
        "colab": {
          "base_uri": "https://localhost:8080/"
        },
        "id": "40mwQVR_HCyO",
        "outputId": "70d5c658-4aaf-4e1d-ea8c-e32a321918bc"
      },
      "execution_count": 56,
      "outputs": [
        {
          "output_type": "stream",
          "name": "stdout",
          "text": [
            "The output of the first four predicted value is:  [16236.50464347 16236.50464347 17058.23802179 13771.3045085 ]\n"
          ]
        }
      ]
    },
    {
      "cell_type": "markdown",
      "source": [
        "Importemos la función <b>mean_squared_error</b> del módulo <b>metrics</b>:\n"
      ],
      "metadata": {
        "id": "aIm8MjV1HCyO"
      }
    },
    {
      "cell_type": "code",
      "source": [
        "from sklearn.metrics import mean_squared_error"
      ],
      "metadata": {
        "trusted": true,
        "id": "c-LqjTL4HCyO"
      },
      "execution_count": 57,
      "outputs": []
    },
    {
      "cell_type": "markdown",
      "source": [
        "Podemos comparar los resultados previstos con los resultados reales:\n"
      ],
      "metadata": {
        "id": "frlaaw1pHCyO"
      }
    },
    {
      "cell_type": "code",
      "source": [
        "mse = mean_squared_error(df['price'], Yhat)\n",
        "print('The mean square error of price and predicted value is: ', mse)"
      ],
      "metadata": {
        "trusted": true,
        "colab": {
          "base_uri": "https://localhost:8080/"
        },
        "id": "rj5ZnNegHCyO",
        "outputId": "f5b8354e-0023-4c93-f0ab-1a5c4c688724"
      },
      "execution_count": 58,
      "outputs": [
        {
          "output_type": "stream",
          "name": "stdout",
          "text": [
            "The mean square error of price and predicted value is:  31635042.944639888\n"
          ]
        }
      ]
    },
    {
      "cell_type": "markdown",
      "source": [
        "\n",
        "#**Modelo 2: Regresión lineal múltiple**\n"
      ],
      "metadata": {
        "id": "B_XcY6N-HCyO"
      }
    },
    {
      "cell_type": "markdown",
      "source": [
        "Calculamos la R ^ 2:\n"
      ],
      "metadata": {
        "id": "CHQUXPR9HCyP"
      }
    },
    {
      "cell_type": "code",
      "source": [
        "# fit the model \n",
        "lm.fit(Z, df['price'])\n",
        "# Find the R^2\n",
        "print('The R-square is: ', lm.score(Z, df['price']))"
      ],
      "metadata": {
        "trusted": true,
        "colab": {
          "base_uri": "https://localhost:8080/"
        },
        "id": "Wy-j8O7UHCyP",
        "outputId": "b67e1f17-224d-4883-f384-4f94337dd82e"
      },
      "execution_count": 60,
      "outputs": [
        {
          "output_type": "stream",
          "name": "stdout",
          "text": [
            "The R-square is:  0.8093562806577457\n"
          ]
        }
      ]
    },
    {
      "cell_type": "markdown",
      "source": [
        "Podemos decir que \\~80.896 % de la variación del precio se explica por esta regresión lineal múltiple \"multi_fit\".\n"
      ],
      "metadata": {
        "id": "L5CUnDU-HCyP"
      }
    },
    {
      "cell_type": "markdown",
      "source": [
        "\n",
        "Calculemos el **MSE**.\n"
      ],
      "metadata": {
        "id": "iD-G7Ja0HCyP"
      }
    },
    {
      "cell_type": "markdown",
      "source": [
        "Producimos una predicción:\n"
      ],
      "metadata": {
        "id": "CiDeMCOJHCyP"
      }
    },
    {
      "cell_type": "code",
      "source": [
        "Y_predict_multifit = lm.predict(Z)"
      ],
      "metadata": {
        "trusted": true,
        "id": "o0VaLcRYHCyP"
      },
      "execution_count": 61,
      "outputs": []
    },
    {
      "cell_type": "markdown",
      "source": [
        "Comparamos los resultados previstos con los resultados reales:\n"
      ],
      "metadata": {
        "id": "Xx9JeRnDHCyP"
      }
    },
    {
      "cell_type": "code",
      "source": [
        "print('The mean square error of price and predicted value using multifit is: ', \\\n",
        "      mean_squared_error(df['price'], Y_predict_multifit))"
      ],
      "metadata": {
        "trusted": true,
        "colab": {
          "base_uri": "https://localhost:8080/"
        },
        "id": "zanezRbXHCyP",
        "outputId": "17c50955-09e4-41b3-aab0-2181dbdf9868"
      },
      "execution_count": 62,
      "outputs": [
        {
          "output_type": "stream",
          "name": "stdout",
          "text": [
            "The mean square error of price and predicted value using multifit is:  11980366.87072649\n"
          ]
        }
      ]
    },
    {
      "cell_type": "markdown",
      "source": [
        "#**Model 3: Polynomial Fit**\n"
      ],
      "metadata": {
        "id": "eJdOo4f9HCyP"
      }
    },
    {
      "cell_type": "markdown",
      "source": [
        "\n",
        "Calculamos la R ^ 2\n"
      ],
      "metadata": {
        "id": "O7B7tmpRHCyP"
      }
    },
    {
      "cell_type": "markdown",
      "source": [
        "Importemos la función <b>r2\\_score</b> del módulo <b>metrics</b> ya que estamos usando una función diferente.\n"
      ],
      "metadata": {
        "id": "7T_59NI2HCyP"
      }
    },
    {
      "cell_type": "code",
      "source": [
        "from sklearn.metrics import r2_score"
      ],
      "metadata": {
        "trusted": true,
        "id": "8pG0U35OHCyQ"
      },
      "execution_count": 63,
      "outputs": []
    },
    {
      "cell_type": "markdown",
      "source": [
        "Aplicamos la función para obtener el valor de R^2:\n"
      ],
      "metadata": {
        "id": "aXqSSJ1EHCyQ"
      }
    },
    {
      "cell_type": "code",
      "source": [
        "r_squared = r2_score(y, p(x))\n",
        "print('The R-square value is: ', r_squared)"
      ],
      "metadata": {
        "trusted": true,
        "colab": {
          "base_uri": "https://localhost:8080/"
        },
        "id": "PGidU1LKHCyQ",
        "outputId": "f8d4f1d3-2fc2-4e35-f961-dd1182e677b0"
      },
      "execution_count": 64,
      "outputs": [
        {
          "output_type": "stream",
          "name": "stdout",
          "text": [
            "The R-square value is:  0.674194666390652\n"
          ]
        }
      ]
    },
    {
      "cell_type": "markdown",
      "source": [
        "\n",
        "Podemos decir que \\~67.419 % de la variación del precio se explica por este ajuste polinomial.\n"
      ],
      "metadata": {
        "id": "MpaUASE6HCyQ"
      }
    },
    {
      "cell_type": "markdown",
      "source": [
        "#**MSE**\n"
      ],
      "metadata": {
        "id": "l5fwlqv3HCyQ"
      }
    },
    {
      "cell_type": "markdown",
      "source": [
        "\n",
        "También podemos calcular el MSE:\n"
      ],
      "metadata": {
        "id": "m__7TuA3HCyQ"
      }
    },
    {
      "cell_type": "code",
      "source": [
        "mean_squared_error(df['price'], p(x))"
      ],
      "metadata": {
        "trusted": true,
        "colab": {
          "base_uri": "https://localhost:8080/"
        },
        "id": "cPhxcLWlHCyQ",
        "outputId": "c8c0ed77-9768-4ba9-c8d1-b7ad98988a86"
      },
      "execution_count": 65,
      "outputs": [
        {
          "output_type": "execute_result",
          "data": {
            "text/plain": [
              "20474146.426361218"
            ]
          },
          "metadata": {},
          "execution_count": 65
        }
      ]
    },
    {
      "cell_type": "markdown",
      "source": [
        "#**5. Predicción y Toma de Decisiones**\n",
        "\n",
        "<h3>Predicciones</h3>\n",
        "\n",
        "<p>En la sección anterior, entrenamos el modelo usando el método <b>fit</b>. Ahora usaremos el método <b>predecir</b> para producir una predicción. Importemos <b>pyplot</b> para trazar; también usaremos algunas funciones de numpy.</p>\n"
      ],
      "metadata": {
        "id": "kEWt4l64HCyQ"
      }
    },
    {
      "cell_type": "code",
      "source": [
        "import matplotlib.pyplot as plt\n",
        "import numpy as np\n",
        "\n",
        "%matplotlib inline "
      ],
      "metadata": {
        "trusted": true,
        "id": "Dl6eQpKUHCyR"
      },
      "execution_count": 66,
      "outputs": []
    },
    {
      "cell_type": "markdown",
      "source": [
        "Crear una nueva entrada:\n"
      ],
      "metadata": {
        "id": "eT8KCgl6HCyR"
      }
    },
    {
      "cell_type": "code",
      "source": [
        "new_input=np.arange(1, 100, 1).reshape(-1, 1)"
      ],
      "metadata": {
        "trusted": true,
        "id": "nOQShEacHCyR"
      },
      "execution_count": 67,
      "outputs": []
    },
    {
      "cell_type": "markdown",
      "source": [
        "\n",
        "Ajuste el modelo:\n"
      ],
      "metadata": {
        "id": "IYG4Tu2AHCyR"
      }
    },
    {
      "cell_type": "code",
      "source": [
        "lm.fit(X, Y)\n",
        "lm"
      ],
      "metadata": {
        "trusted": true,
        "colab": {
          "base_uri": "https://localhost:8080/"
        },
        "id": "OXZYqyZlHCyR",
        "outputId": "937fba0d-1f2a-4dcd-93ae-1263dec266ae"
      },
      "execution_count": 68,
      "outputs": [
        {
          "output_type": "execute_result",
          "data": {
            "text/plain": [
              "LinearRegression()"
            ]
          },
          "metadata": {},
          "execution_count": 68
        }
      ]
    },
    {
      "cell_type": "markdown",
      "source": [
        "\n",
        "Producir una predicción:\n"
      ],
      "metadata": {
        "id": "ju4smyTCHCyR"
      }
    },
    {
      "cell_type": "code",
      "source": [
        "yhat=lm.predict(new_input)\n",
        "yhat[0:5]"
      ],
      "metadata": {
        "trusted": true,
        "colab": {
          "base_uri": "https://localhost:8080/"
        },
        "id": "GrunMDt0HCyR",
        "outputId": "e32b3cf4-6435-4d22-9de1-2f398ceb01fb"
      },
      "execution_count": 69,
      "outputs": [
        {
          "output_type": "stream",
          "name": "stderr",
          "text": [
            "/usr/local/lib/python3.7/dist-packages/sklearn/base.py:451: UserWarning: X does not have valid feature names, but LinearRegression was fitted with feature names\n",
            "  \"X does not have valid feature names, but\"\n"
          ]
        },
        {
          "output_type": "execute_result",
          "data": {
            "text/plain": [
              "array([37601.57247984, 36779.83910151, 35958.10572319, 35136.37234487,\n",
              "       34314.63896655])"
            ]
          },
          "metadata": {},
          "execution_count": 69
        }
      ]
    },
    {
      "cell_type": "markdown",
      "source": [
        "Nosotras podemos trazar los datos:\n"
      ],
      "metadata": {
        "id": "57o8qOXKHCyR"
      }
    },
    {
      "cell_type": "code",
      "source": [
        "plt.plot(new_input, yhat)\n",
        "plt.show()"
      ],
      "metadata": {
        "trusted": true,
        "colab": {
          "base_uri": "https://localhost:8080/",
          "height": 265
        },
        "id": "jLwPK5ssHCyR",
        "outputId": "ca082449-d139-4aef-db40-1cb0dcd406c0"
      },
      "execution_count": 70,
      "outputs": [
        {
          "output_type": "display_data",
          "data": {
            "text/plain": [
              "<Figure size 432x288 with 1 Axes>"
            ],
            "image/png": "[encoded data removed]"
          },
          "metadata": {
            "needs_background": "light"
          }
        }
      ]
    },
    {
      "cell_type": "markdown",
      "source": [
        "#**Toma de decisiones:**\n",
        "\n",
        "**Determinación de un buen ajuste del modelo**"
      ],
      "metadata": {
        "id": "LFR5C-v_HCyR"
      }
    },
    {
      "cell_type": "markdown",
      "source": [
        "<p>Ahora que hemos visualizado los diferentes modelos y generado los valores R-cuadrado y MSE para los ajustes, ¿cómo determinamos un buen ajuste del modelo?\n",
        "<ul>\n",
        "    <li><i>¿Cuál es un buen valor R cuadrado?</i></li>\n",
        "</ul>\n",
        "</p>\n",
        "\n",
        "<p>Al comparar modelos, <b>el modelo con el valor R cuadrado más alto se ajusta mejor</b> a los datos.\n",
        "<ul>\n",
        "    <li><i>¿Qué es una buena MSE?</i></li>\n",
        "</ul>\n",
        "</p>\n",
        "\n",
        "<p>Al comparar modelos, <b>el modelo con el valor MSE más pequeño se ajusta mejor</b> a los datos.</p>\n",
        "\n",
        "<h4>Veamos los valores de los diferentes modelos.</h4>\n",
        "<p>Regresión lineal simple: uso de Highway-mpg como variable predictora del precio.\n",
        "<ul>\n",
        "    <li>R-cuadrado: 0,49659118843391759</li>\n",
        "    <li>MSE: 3,16 x 10^7</li>\n",
        "</ul>\n",
        "</p>\n",
        "\n",
        "<p>Regresión lineal múltiple: uso de la potencia, el peso en orden de marcha, el tamaño del motor y el mpg en carretera como variables predictoras del precio.\n",
        "<ul>\n",
        "    <li>R-cuadrado: 0,80896354913783497</li>\n",
        "    <li>MSE: 1,2 x 10^7</li>\n",
        "</ul>\n",
        "</p>\n",
        "\n",
        "<p>Ajuste polinomial: uso de Highway-mpg como variable predictora del precio.\n",
        "<ul>\n",
        "    <li>R-cuadrado: 0,6741946663906514</li>\n",
        "    <li>MSE: 2,05 x 10^7</li>\n",
        "</ul>\n",
        "</p>\n"
      ],
      "metadata": {
        "id": "q3vS8MqCHCyR"
      }
    },
    {
      "cell_type": "markdown",
      "source": [
        "#**Modelo de regresión lineal simple (SLR) frente a modelo de regresión lineal múltiple (MLR)**\n"
      ],
      "metadata": {
        "id": "0hBCt6ahHCyS"
      }
    },
    {
      "cell_type": "markdown",
      "source": [
        "<p>Por lo general, cuantas más variables tenga, mejor será su modelo para predecir, pero esto no siempre es cierto. En ocasiones, es posible que no tenga suficientes datos, que se encuentre con problemas numéricos o que muchas de las variables no sean útiles e incluso actúen como ruido. Como resultado, siempre debe verificar el MSE y el R^2.</p>\n",
        "\n",
        "<p>Para comparar los resultados de los modelos MLR y SLR, observamos una combinación de R-squared y MSE para llegar a la mejor conclusión sobre el ajuste del modelo.\n",
        "<ul>\n",
        "    <li><b>MSE</b>: el MSE de SLR es 3,16x10^7 mientras que MLR tiene un MSE de 1,2x10^7. El MSE de MLR es mucho más pequeño.</li>\n",
        "    <li><b>R-squared</b>: En este caso también podemos ver que hay una gran diferencia entre la R-squared de la SLR y la R-squared de la MLR. El R-cuadrado de SLR (~0,497) es muy pequeño en comparación con el R-cuadrado de MLR (~0,809).</li>\n",
        "</ul>\n",
        "</p>\n",
        "\n",
        "Este R-cuadrado en combinación con el MSE muestra que MLR parece ser el mejor ajuste del modelo en este caso en comparación con SLR.\n"
      ],
      "metadata": {
        "id": "wV8xcGxbHCyS"
      }
    },
    {
      "cell_type": "markdown",
      "source": [
        "#**Modelo lineal simple (SLR) frente a ajuste polinomial**\n"
      ],
      "metadata": {
        "id": "FqhtRJwHHCyS"
      }
    },
    {
      "cell_type": "markdown",
      "source": [
        "<ul>\n",
        "    <li><b>MSE</b>: podemos ver que Polynomial Fit redujo el MSE, ya que este MSE es más pequeño que el del SLR.</li>\n",
        "    <li><b>R-cuadrado</b>: el R-cuadrado para Polynomial Fit es mayor que el R-cuadrado para SLR, por lo que Polynomial Fit también aumentó bastante el R-cuadrado.</ li>\n",
        "</ul>\n",
        "<p>Dado que el ajuste polinomial resultó en un MSE más bajo y un R-cuadrado más alto, podemos concluir que este fue un modelo de mejor ajuste que la regresión lineal simple para predecir el \"precio\" con \"mpg en carretera\" como variable de predicción. </p>\n"
      ],
      "metadata": {
        "id": "GQzN-cUbHCyS"
      }
    },
    {
      "cell_type": "markdown",
      "source": [
        "**Regresión lineal múltiple (MLR) frente a ajuste polinomial**\n"
      ],
      "metadata": {
        "id": "tzwzhPnKHCyS"
      }
    },
    {
      "cell_type": "markdown",
      "source": [
        "<ul>\n",
        "    <li><b>MSE</b>: el MSE para MLR es más pequeño que el MSE para Polynomial Fit.</li>\n",
        "    <li><b>R-cuadrado</b>: el R-cuadrado para el MLR también es mucho mayor que para el ajuste polinomial.</li>\n",
        "</ul>\n"
      ],
      "metadata": {
        "id": "e_20k3wbHCyS"
      }
    },
    {
      "cell_type": "markdown",
      "source": [
        "#**Conclusiones**\n"
      ],
      "metadata": {
        "id": "by8DkH_kHCyS"
      }
    },
    {
      "cell_type": "markdown",
      "source": [
        "<p>Al comparar estos tres modelos, concluimos que <b>el modelo MLR es el mejor modelo</b> para poder predecir el precio a partir de nuestro conjunto de datos. Este resultado tiene sentido ya que tenemos 27 variables en total y sabemos que más de una de esas variables son predictores potenciales del precio final del automóvil.</p>"
      ],
      "metadata": {
        "id": "7Ayv1rkhHCyS"
      }
    },
    {
      "cell_type": "markdown",
      "source": [
        "## **Bibliografía**\n",
        "\n",
        "<a href=\"https://www.linkedin.com/in/joseph-s-50398b136/?utm_medium=Exinfluencer&utm_source=Exinfluencer&utm_content=000026UJ&utm_term=10006555&utm_id=NA-SkillsNetwork-Channel-SkillsNetworkCoursesIBMDeveloperSkillsNetworkDA0101ENSkillsNetwork20235326-2021-01-01\" target=\"_blank\">Joseph Santarcangelo</a>\n",
        "\n",
        "### Other Contributors\n",
        "\n",
        "<a href=\"https://www.linkedin.com/in/mahdi-noorian-58219234/?utm_medium=Exinfluencer&utm_source=Exinfluencer&utm_content=000026UJ&utm_term=10006555&utm_id=NA-SkillsNetwork-Channel-SkillsNetworkCoursesIBMDeveloperSkillsNetworkDA0101ENSkillsNetwork20235326-2021-01-01\" target=\"_blank\">Mahdi Noorian PhD</a>\n",
        "\n",
        "- Bahare Talayian\n",
        "\n",
        "- Eric Xiao\n",
        "\n",
        "- Steven Dong\n",
        "\n",
        "- Parizad\n",
        "\n",
        "- Hima Vasudevan\n",
        "\n",
        "<a href=\"https://www.linkedin.com/in/fiorellawever/?utm_medium=Exinfluencer&utm_source=Exinfluencer&utm_content=000026UJ&utm_term=10006555&utm_id=NA-SkillsNetwork-Channel-SkillsNetworkCoursesIBMDeveloperSkillsNetworkDA0101ENSkillsNetwork20235326-2021-01-01\" target=\"_blank\">Fiorella Wenver</a>\n",
        "\n",
        "<a href=\"https:// https://www.linkedin.com/in/yi-leng-yao-84451275/ \" target=\"_blank\" >Yi Yao</a>."
      ],
      "metadata": {
        "id": "At5qDfdFHCyS"
      }
    }
  ]
}